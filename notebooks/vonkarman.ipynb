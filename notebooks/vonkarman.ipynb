{
 "cells": [
  {
   "cell_type": "code",
   "execution_count": null,
   "metadata": {},
   "outputs": [],
   "source": [
    "import os\n",
    "\n",
    "import matplotlib.pyplot as plt\n",
    "import numpy as np\n",
    "import torch\n",
    "from sklearn.decomposition import PCA\n",
    "\n",
    "from dystformer.patchtst.pipeline import PatchTSTPipeline\n",
    "from dystformer.utils import safe_standardize"
   ]
  },
  {
   "cell_type": "code",
   "execution_count": null,
   "metadata": {},
   "outputs": [],
   "source": [
    "WORK = os.environ.get(\"WORK\", \"\")\n",
    "base_dir = f\"{WORK}/physics-datasets\"\n",
    "fpath = f\"{base_dir}/von_karman_street/vortex_street_velocities_Re_{1200}_largefile.npz\""
   ]
  },
  {
   "cell_type": "code",
   "execution_count": null,
   "metadata": {},
   "outputs": [],
   "source": [
    "vfield = np.load(fpath, allow_pickle=True)\n",
    "vort_field = (\n",
    "    np.diff(vfield, axis=1)[..., :-1, 1] + np.diff(vfield, axis=2)[:, :-1, :, 0]\n",
    ")\n",
    "vort_field_flattened = vort_field.reshape(vort_field.shape[0], -1)"
   ]
  },
  {
   "cell_type": "code",
   "execution_count": null,
   "metadata": {},
   "outputs": [],
   "source": [
    "def plot_model_prediction(\n",
    "    model,\n",
    "    data: np.ndarray,\n",
    "    context_length: int,\n",
    "    prediction_length: int,\n",
    "    title: str | None = None,\n",
    "    show: bool = True,\n",
    "    transpose: bool = True,\n",
    "    **kwargs,\n",
    ") -> np.ndarray:\n",
    "    context = data[:, :context_length]\n",
    "    groundtruth = data[:, context_length : context_length + prediction_length]\n",
    "    context_tensor = torch.from_numpy(context.T if transpose else context).float()\n",
    "    pred = (\n",
    "        model.predict(context_tensor, prediction_length, **kwargs)\n",
    "        .squeeze()\n",
    "        .cpu()\n",
    "        .numpy()\n",
    "    )\n",
    "    if not transpose:\n",
    "        pred = pred.T\n",
    "\n",
    "    total_length = context.shape[1] + prediction_length\n",
    "    context_ts = np.arange(context.shape[1]) / total_length\n",
    "    pred_ts = np.arange(context.shape[1], total_length) / total_length\n",
    "\n",
    "    if show:\n",
    "        fig = plt.figure(figsize=(15, 4))\n",
    "\n",
    "        outer_grid = fig.add_gridspec(1, 2, width_ratios=[0.5, 0.5], wspace=0.05)\n",
    "        gs = outer_grid[1].subgridspec(\n",
    "            3, 1, height_ratios=[1 / 3] * 3, wspace=0, hspace=0\n",
    "        )\n",
    "        ax_3d = fig.add_subplot(outer_grid[0], projection=\"3d\")\n",
    "        ax_3d.plot(*context[:3], alpha=0.5, color=\"black\", label=\"Context\")\n",
    "        ax_3d.plot(*groundtruth[:3], linestyle=\"--\", color=\"black\", label=\"Groundtruth\")\n",
    "        ax_3d.plot(*pred.T[:3], color=\"red\", label=\"Prediction\")\n",
    "        ax_3d.legend(loc=\"upper right\", fontsize=12)\n",
    "        ax_3d.set_xlabel(\"$x_1$\")\n",
    "        ax_3d.set_ylabel(\"$x_2$\")\n",
    "        ax_3d.set_zlabel(\"$x_3$\")\n",
    "        if title is not None:\n",
    "            ax_3d.set_title(title)\n",
    "\n",
    "        axes_1d = [fig.add_subplot(gs[i, 0]) for i in range(3)]\n",
    "        for i, ax in enumerate(axes_1d):\n",
    "            ax.plot(context_ts, context[i], alpha=0.5, color=\"black\")\n",
    "            ax.plot(pred_ts, groundtruth[i], linestyle=\"--\", color=\"black\")\n",
    "            ax.plot(pred_ts, pred[:, i], color=\"red\")\n",
    "            ax.set_ylabel(f\"$x_{i + 1}$\")\n",
    "            ax.set_aspect(\"auto\")\n",
    "        axes_1d[-1].set_xlabel(\"Time\")\n",
    "\n",
    "        plt.show()\n",
    "\n",
    "    return pred"
   ]
  },
  {
   "cell_type": "code",
   "execution_count": null,
   "metadata": {},
   "outputs": [],
   "source": [
    "pca = PCA(n_components=20)\n",
    "pca.fit(vort_field_flattened)\n",
    "X_ts = pca.transform(vort_field_flattened)  # (T, D)\n",
    "eigenvectors = pca.components_  # (D, H*W)\n",
    "\n",
    "## Show low-rank structure\n",
    "plt.figure()\n",
    "plt.plot(pca.explained_variance_ratio_)\n",
    "\n",
    "## Plot trajectory\n",
    "plt.figure()\n",
    "plt.plot(X_ts[:, 0], X_ts[:, 1])"
   ]
  },
  {
   "cell_type": "code",
   "execution_count": null,
   "metadata": {},
   "outputs": [],
   "source": [
    "num_approx = 20\n",
    "vort_recon = X_ts[:, :num_approx] @ eigenvectors[:num_approx, :]\n",
    "vort_recon = vort_recon.reshape(\n",
    "    vort_field.shape[0], vort_field.shape[1], vort_field.shape[2]\n",
    ")\n",
    "plt.figure()\n",
    "plt.imshow(vort_recon[0, :, :], cmap=\"seismic\")\n",
    "plt.colorbar();"
   ]
  },
  {
   "cell_type": "code",
   "execution_count": null,
   "metadata": {},
   "outputs": [],
   "source": [
    "pft_model = PatchTSTPipeline.from_pretrained(\n",
    "    mode=\"predict\",\n",
    "    pretrain_path=\"/stor/work/AMDG_Gilpin_Summer2024/checkpoints/pft_chattn_emb_w_poly-0/checkpoint-final\",\n",
    "    device_map=\"cuda:2\",\n",
    ")"
   ]
  },
  {
   "cell_type": "code",
   "execution_count": null,
   "metadata": {},
   "outputs": [],
   "source": [
    "start = 1000\n",
    "stride = 2\n",
    "subsampled_pca_coeffs = X_ts[start::stride, :]\n",
    "stand_subsampled_pca_coeffs = safe_standardize(subsampled_pca_coeffs, axis=0)\n",
    "print(stand_subsampled_pca_coeffs.shape)\n",
    "predictions = plot_model_prediction(\n",
    "    pft_model,\n",
    "    stand_subsampled_pca_coeffs.T,\n",
    "    512,\n",
    "    128,\n",
    "    limit_prediction_length=False,\n",
    "    title=\"Von Karman Vortex Sheet PCA modes\",\n",
    ")\n"
   ]
  },
  {
   "cell_type": "code",
   "execution_count": null,
   "metadata": {},
   "outputs": [],
   "source": []
  }
 ],
 "metadata": {
  "kernelspec": {
   "display_name": "dystformer_jeff",
   "language": "python",
   "name": "python3"
  },
  "language_info": {
   "codemirror_mode": {
    "name": "ipython",
    "version": 3
   },
   "file_extension": ".py",
   "mimetype": "text/x-python",
   "name": "python",
   "nbconvert_exporter": "python",
   "pygments_lexer": "ipython3",
   "version": "3.11.9"
  }
 },
 "nbformat": 4,
 "nbformat_minor": 2
}
