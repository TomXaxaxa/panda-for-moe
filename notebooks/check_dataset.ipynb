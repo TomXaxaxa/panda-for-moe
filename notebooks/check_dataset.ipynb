{
 "cells": [
  {
   "cell_type": "code",
   "execution_count": null,
   "metadata": {},
   "outputs": [],
   "source": [
    "import os"
   ]
  },
  {
   "cell_type": "code",
   "execution_count": null,
   "metadata": {},
   "outputs": [],
   "source": [
    "WORK_DIR = os.environ.get(\"WORK\", \"\")\n",
    "DATA_DIR = os.path.join(WORK_DIR, \"data\")"
   ]
  },
  {
   "cell_type": "code",
   "execution_count": null,
   "metadata": {},
   "outputs": [],
   "source": [
    "n_periods = 80"
   ]
  },
  {
   "cell_type": "markdown",
   "metadata": {},
   "source": [
    "### Utils"
   ]
  },
  {
   "cell_type": "code",
   "execution_count": null,
   "metadata": {},
   "outputs": [],
   "source": [
    "def get_subdirs_from_splits(subset: str, splits: list[str]):\n",
    "    subdirs = []\n",
    "    for split_name in splits:\n",
    "        split_dir = os.path.join(DATA_DIR, subset, split_name)\n",
    "        if not os.path.exists(split_dir):\n",
    "            continue\n",
    "        subdirs.extend(\n",
    "            [\n",
    "                d\n",
    "                for d in os.listdir(split_dir)\n",
    "                if os.path.isdir(os.path.join(split_dir, d))\n",
    "            ]\n",
    "        )\n",
    "    subdirs = set(subdirs)\n",
    "    print(f\"Found {len(subdirs)} subdirs in {subset} splits {splits}\")\n",
    "    return list(set(subdirs))"
   ]
  },
  {
   "cell_type": "code",
   "execution_count": null,
   "metadata": {},
   "outputs": [],
   "source": [
    "def find_substrings(\n",
    "    setA: list[str],\n",
    "    setB: list[str],\n",
    "    setA_name: str = \"setA\",\n",
    "    setB_name: str = \"setB\",\n",
    "):\n",
    "    matching_strings = {b for b in setB if any(a in b.split(\"_\") for a in setA)}\n",
    "    matching_patterns = {a for a in setA if any(a in b.split(\"_\") for b in setB)}\n",
    "    res = (list(matching_strings), list(matching_patterns))\n",
    "    print(f\"Found {len(res[0])} {setB_name} systems names that use {setA_name} systems\")\n",
    "    print(f\"Found {len(res[1])} {setA_name} systems names in {setB_name}\")\n",
    "    return res"
   ]
  },
  {
   "cell_type": "markdown",
   "metadata": {},
   "source": [
    "### Compare Skew and Base Subdirectories"
   ]
  },
  {
   "cell_type": "code",
   "execution_count": null,
   "metadata": {},
   "outputs": [],
   "source": [
    "skew_subset = f\"final_skew{n_periods}\"\n",
    "base_subset = f\"final_base{n_periods}\""
   ]
  },
  {
   "cell_type": "code",
   "execution_count": null,
   "metadata": {},
   "outputs": [],
   "source": [
    "skew_splits_train = [\"train\", \"train_z5_z10\", \"train_z10_z15\"]\n",
    "skew_subdirs_train = get_subdirs_from_splits(skew_subset, skew_splits_train)"
   ]
  },
  {
   "cell_type": "code",
   "execution_count": null,
   "metadata": {},
   "outputs": [],
   "source": [
    "# Step 1: Compare skew train vs base test_zeroshot\n",
    "base_splits_test_zeroshot = [\n",
    "    \"test_zeroshot\",\n",
    "    \"test_zeroshot_z5_z10\",\n",
    "    \"test_zeroshot_z10_z15\",\n",
    "]\n",
    "base_subdirs_test_zeroshot = get_subdirs_from_splits(\n",
    "    base_subset, base_splits_test_zeroshot\n",
    ")\n",
    "res = find_substrings(\n",
    "    base_subdirs_test_zeroshot,\n",
    "    skew_subdirs_train,\n",
    "    setA_name=\"base test_zeroshot\",\n",
    "    setB_name=\"skew train\",\n",
    ")\n",
    "print(res[1])"
   ]
  },
  {
   "cell_type": "code",
   "execution_count": null,
   "metadata": {},
   "outputs": [],
   "source": [
    "# Step 2: Compare skew train vs base test\n",
    "base_splits_test = [\"test\"]\n",
    "base_subdirs_test = get_subdirs_from_splits(base_subset, base_splits_test)\n",
    "res = find_substrings(\n",
    "    base_subdirs_test, skew_subdirs_train, setA_name=\"base test\", setB_name=\"skew train\"\n",
    ")\n",
    "print(res[1])"
   ]
  },
  {
   "cell_type": "code",
   "execution_count": null,
   "metadata": {},
   "outputs": [],
   "source": [
    "# Step 3: Compare skew test vs base test_zeroshot\n",
    "skew_splits_test = [\"test\"]\n",
    "skew_subdirs_test = get_subdirs_from_splits(skew_subset, skew_splits_test)\n",
    "\n",
    "base_splits = [\"test_zeroshot\", \"test_zeroshot_z5_z10\", \"test_zeroshot_z10_z15\"]\n",
    "base_subdirs = get_subdirs_from_splits(base_subset, base_splits)\n",
    "res = find_substrings(\n",
    "    base_subdirs_test_zeroshot,\n",
    "    skew_subdirs_test,\n",
    "    setA_name=\"base test_zeroshot\",\n",
    "    setB_name=\"skew test\",\n",
    ")\n",
    "print(res[1])"
   ]
  },
  {
   "cell_type": "code",
   "execution_count": null,
   "metadata": {},
   "outputs": [],
   "source": [
    "# Step 4: Compare skew test_zeroshot vs base test_zeroshot\n",
    "skew_splits_test_zeroshot = [\n",
    "    \"test_zeroshot\",\n",
    "    \"test_zeroshot_z5_z10\",\n",
    "    \"test_zeroshot_z10_z15\",\n",
    "]\n",
    "skew_subdirs_test_zeroshot = get_subdirs_from_splits(\n",
    "    skew_subset, skew_splits_test_zeroshot\n",
    ")\n",
    "\n",
    "res = find_substrings(\n",
    "    base_subdirs_test_zeroshot,\n",
    "    skew_subdirs_test_zeroshot,\n",
    "    setA_name=\"base test_zeroshot\",\n",
    "    setB_name=\"skew test_zeroshot\",\n",
    ")\n",
    "print(res[1])"
   ]
  },
  {
   "cell_type": "markdown",
   "metadata": {},
   "source": [
    "### Compare Train vs Test_Zeroshot"
   ]
  },
  {
   "cell_type": "code",
   "execution_count": null,
   "metadata": {},
   "outputs": [],
   "source": [
    "skew_split_train = [\"train\", \"train_z5_z10\", \"train_z10_z15\"]\n",
    "skew_split_test_zeroshot = [\n",
    "    \"test_zeroshot\",\n",
    "    \"test_zeroshot_z5_z10\",\n",
    "    \"test_zeroshot_z10_z15\",\n",
    "]\n",
    "# intersection = list(set(skew_subdirs_as) & set(skew_subdirs_bs))\n",
    "res = find_substrings(\n",
    "    skew_split_train,\n",
    "    skew_split_test_zeroshot,\n",
    "    setA_name=\"skew train\",\n",
    "    setB_name=\"skew test_zeroshot\",\n",
    ")"
   ]
  },
  {
   "cell_type": "code",
   "execution_count": null,
   "metadata": {},
   "outputs": [],
   "source": [
    "base_split_train = [\"train\", \"train_z5_z10\", \"train_z10_z15\"]\n",
    "base_split_test_zeroshot = [\n",
    "    \"test_zeroshot\",\n",
    "    \"test_zeroshot_z5_z10\",\n",
    "    \"test_zeroshot_z10_z15\",\n",
    "]\n",
    "# intersection = list(set(skew_subdirs_as) & set(skew_subdirs_bs))\n",
    "res = find_substrings(\n",
    "    base_split_train,\n",
    "    base_split_test_zeroshot,\n",
    "    setA_name=\"base train\",\n",
    "    setB_name=\"base test_zeroshot\",\n",
    ")"
   ]
  },
  {
   "cell_type": "code",
   "execution_count": null,
   "metadata": {},
   "outputs": [],
   "source": []
  }
 ],
 "metadata": {
  "kernelspec": {
   "display_name": "dystformer",
   "language": "python",
   "name": "python3"
  },
  "language_info": {
   "codemirror_mode": {
    "name": "ipython",
    "version": 3
   },
   "file_extension": ".py",
   "mimetype": "text/x-python",
   "name": "python",
   "nbconvert_exporter": "python",
   "pygments_lexer": "ipython3",
   "version": "3.10.14"
  }
 },
 "nbformat": 4,
 "nbformat_minor": 2
}
