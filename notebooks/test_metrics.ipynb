{
 "cells": [
  {
   "cell_type": "code",
   "execution_count": null,
   "metadata": {},
   "outputs": [],
   "source": [
    "%load_ext autoreload\n",
    "%autoreload 2"
   ]
  },
  {
   "cell_type": "code",
   "execution_count": null,
   "metadata": {},
   "outputs": [],
   "source": [
    "import os\n",
    "from pathlib import Path\n",
    "\n",
    "import numpy as np\n",
    "from dysts.analysis import corr_gpdim\n",
    "from dysts.metrics import estimate_kl_divergence, smape, spearman\n",
    "\n",
    "from dystformer.utils import (\n",
    "    load_trajectory_from_arrow,\n",
    "    plot_trajs_multivariate,\n",
    ")"
   ]
  },
  {
   "cell_type": "code",
   "execution_count": null,
   "metadata": {},
   "outputs": [],
   "source": [
    "WORK_DIR = os.getenv(\"WORK\", \"\")\n",
    "DATA_DIR = os.path.join(WORK_DIR, \"data\")\n",
    "METRICS_DIR = os.path.join(WORK_DIR, \"eval_results\")\n",
    "CHECKPOINT_DIR = os.path.join(WORK_DIR, \"checkpoints\")\n",
    "EVAL_DIR = os.path.join(DATA_DIR, \"eval\")"
   ]
  },
  {
   "cell_type": "code",
   "execution_count": null,
   "metadata": {},
   "outputs": [],
   "source": [
    "run_name = \"pft_chattn_emb_w_poly-0\"\n",
    "chronos_ft_run_name = \"chronos_bolt_mini-12\""
   ]
  },
  {
   "cell_type": "code",
   "execution_count": null,
   "metadata": {},
   "outputs": [],
   "source": [
    "# pft_model = PatchTSTPipeline.from_pretrained(\n",
    "#     mode=\"predict\",\n",
    "#     pretrain_path=os.path.join(CHECKPOINT_DIR, run_name, \"checkpoint-final\"),\n",
    "#     device_map=\"cuda:2\",\n",
    "# )"
   ]
  },
  {
   "cell_type": "code",
   "execution_count": null,
   "metadata": {},
   "outputs": [],
   "source": [
    "# chronos_ft_model = ChronosPipeline.from_pretrained(\n",
    "#     os.path.join(CHECKPOINT_DIR, chronos_ft_run_name, \"checkpoint-final\"),\n",
    "#     device_map=\"cuda:2\",\n",
    "#     torch_dtype=torch.float32,\n",
    "# )"
   ]
  },
  {
   "cell_type": "code",
   "execution_count": null,
   "metadata": {},
   "outputs": [],
   "source": [
    "split_name = \"improved/final_skew40/test_zeroshot\"\n",
    "system_name = (\n",
    "    \"HyperWang_Duffing\"  # \"VallisElNino_Hopfield\"  # \"ForcedFitzHughNagumo_Hopfield\"\n",
    ")"
   ]
  },
  {
   "cell_type": "code",
   "execution_count": null,
   "metadata": {},
   "outputs": [],
   "source": [
    "pred_dir_dict = {\n",
    "    \"chronos_ft\": os.path.join(\n",
    "        EVAL_DIR,\n",
    "        \"chronos\",\n",
    "        chronos_ft_run_name,\n",
    "        split_name.split(\"improved/\")[1],\n",
    "        \"forecasts\",\n",
    "        system_name,\n",
    "    ),\n",
    "    \"pft\": os.path.join(\n",
    "        EVAL_DIR,\n",
    "        \"patchtst\",\n",
    "        run_name,\n",
    "        split_name.split(\"improved/\")[1],\n",
    "        \"forecasts\",\n",
    "        system_name,\n",
    "    ),\n",
    "}\n",
    "gt_dir_dict = {\n",
    "    \"chronos_ft\": os.path.join(\n",
    "        Path(pred_dir_dict[\"chronos_ft\"]).resolve().parent.parent, \"labels\", system_name\n",
    "    ),\n",
    "    \"pft\": os.path.join(\n",
    "        Path(pred_dir_dict[\"pft\"]).resolve().parent.parent, \"labels\", system_name\n",
    "    ),\n",
    "}"
   ]
  },
  {
   "cell_type": "code",
   "execution_count": null,
   "metadata": {},
   "outputs": [],
   "source": [
    "os.listdir(pred_dir_dict[\"pft\"])"
   ]
  },
  {
   "cell_type": "code",
   "execution_count": null,
   "metadata": {},
   "outputs": [],
   "source": [
    "os.listdir(pred_dir_dict[\"pft\"])"
   ]
  },
  {
   "cell_type": "code",
   "execution_count": null,
   "metadata": {},
   "outputs": [],
   "source": [
    "os.listdir(gt_dir_dict[\"pft\"])"
   ]
  },
  {
   "cell_type": "code",
   "execution_count": null,
   "metadata": {},
   "outputs": [],
   "source": [
    "dyst_dir = os.path.join(DATA_DIR, split_name, system_name)"
   ]
  },
  {
   "cell_type": "code",
   "execution_count": null,
   "metadata": {},
   "outputs": [],
   "source": [
    "os.listdir(dyst_dir)"
   ]
  },
  {
   "cell_type": "code",
   "execution_count": null,
   "metadata": {},
   "outputs": [],
   "source": [
    "dyst_dir_sample_idx_vals = [\n",
    "    int(s.split(\"_T-4096.arrow\")[0]) for s in os.listdir(dyst_dir)\n",
    "]\n",
    "# dyst_dir_sample_idx_vals = sorted(dyst_dir_sample_idx_vals)\n",
    "print(dyst_dir_sample_idx_vals)"
   ]
  },
  {
   "cell_type": "code",
   "execution_count": null,
   "metadata": {},
   "outputs": [],
   "source": [
    "sample_idx = 4\n",
    "\n",
    "dyst_filepath = os.path.join(\n",
    "    dyst_dir, f\"{dyst_dir_sample_idx_vals[sample_idx]}_T-4096.arrow\"\n",
    ")\n",
    "dyst_coords, _ = load_trajectory_from_arrow(dyst_filepath)\n",
    "\n",
    "\n",
    "context_length = 512\n",
    "pred_length = 128\n",
    "\n",
    "pred_coords_dict = {}\n",
    "gt_coords_dict = {}\n",
    "\n",
    "for model_name in pred_dir_dict.keys():\n",
    "    pred_filepath = os.path.join(\n",
    "        pred_dir_dict[model_name], f\"{sample_idx}_T-1024.arrow\"\n",
    "    )\n",
    "    pred_coords_with_context, _ = load_trajectory_from_arrow(pred_filepath)\n",
    "\n",
    "    gt_filepath = os.path.join(gt_dir_dict[model_name], f\"{sample_idx}_T-1024.arrow\")\n",
    "    gt_coords_with_context, _ = load_trajectory_from_arrow(gt_filepath)\n",
    "\n",
    "    pred_coords = pred_coords_with_context[\n",
    "        :, context_length : context_length + pred_length\n",
    "    ]\n",
    "    gt_coords = gt_coords_with_context[:, context_length : context_length + pred_length]\n",
    "    context_coords = gt_coords_with_context[:, :context_length]\n",
    "    assert np.allclose(context_coords, pred_coords_with_context[:, :context_length])\n",
    "\n",
    "    pred_coords_dict[model_name] = pred_coords\n",
    "    gt_coords_dict[model_name] = gt_coords"
   ]
  },
  {
   "cell_type": "code",
   "execution_count": null,
   "metadata": {},
   "outputs": [],
   "source": [
    "print(f\"Dyst coords shape: {dyst_coords.shape}\")\n",
    "print(f\"Preds coords shape: {pred_coords.shape}\")\n",
    "print(f\"GT coords shape: {gt_coords.shape}\")"
   ]
  },
  {
   "cell_type": "code",
   "execution_count": null,
   "metadata": {},
   "outputs": [],
   "source": [
    "plot_trajs_multivariate(\n",
    "    np.expand_dims(dyst_coords, axis=0),\n",
    "    plot_name=f\"{system_name} Full Trajectory\",\n",
    "    # standardize=True,\n",
    "    show_plot=True,\n",
    ")\n",
    "\n",
    "# plot_trajs_multivariate(\n",
    "#     np.expand_dims(context_coords, axis=0),\n",
    "#     plot_name=f\"{system_name} Context\",\n",
    "#     # standardize=True,\n",
    "#     show_plot=True,\n",
    "# )"
   ]
  },
  {
   "cell_type": "code",
   "execution_count": null,
   "metadata": {},
   "outputs": [],
   "source": [
    "plot_trajs_multivariate(\n",
    "    np.expand_dims(pred_coords_dict[\"pft\"], axis=0),\n",
    "    plot_name=f\"{system_name} Predictions (Our Model)\",\n",
    "    # standardize=True,\n",
    "    show_plot=True,\n",
    ")\n",
    "\n",
    "plot_trajs_multivariate(\n",
    "    np.expand_dims(gt_coords_dict[\"pft\"], axis=0),\n",
    "    plot_name=f\"{system_name} Ground Truth\",\n",
    "    # standardize=True,\n",
    "    show_plot=True,\n",
    ")"
   ]
  },
  {
   "cell_type": "code",
   "execution_count": null,
   "metadata": {},
   "outputs": [],
   "source": [
    "plot_trajs_multivariate(\n",
    "    np.expand_dims(pred_coords_dict[\"chronos_ft\"], axis=0),\n",
    "    plot_name=f\"{system_name} Predictions (Chronos FT)\",\n",
    "    # standardize=True,\n",
    "    show_plot=True,\n",
    ")\n",
    "\n",
    "plot_trajs_multivariate(\n",
    "    np.expand_dims(gt_coords_dict[\"chronos_ft\"], axis=0),\n",
    "    plot_name=f\"{system_name} Ground Truth\",\n",
    "    # standardize=True,\n",
    "    show_plot=True,\n",
    ")"
   ]
  },
  {
   "cell_type": "code",
   "execution_count": null,
   "metadata": {},
   "outputs": [],
   "source": [
    "dyst_coords.shape"
   ]
  },
  {
   "cell_type": "code",
   "execution_count": null,
   "metadata": {},
   "outputs": [],
   "source": [
    "# corr_gpdim_val = corr_gpdim(dyst_coords.T, dyst_coords.T, standardize=False)\n",
    "# print(corr_gpdim_val)"
   ]
  },
  {
   "cell_type": "code",
   "execution_count": null,
   "metadata": {},
   "outputs": [],
   "source": [
    "pred_coords_dict[\"pft\"].shape"
   ]
  },
  {
   "cell_type": "code",
   "execution_count": null,
   "metadata": {},
   "outputs": [],
   "source": [
    "corr_gpdim_val = corr_gpdim(\n",
    "    pred_coords_dict[\"pft\"].T, gt_coords_dict[\"pft\"].T, standardize=False\n",
    ")\n",
    "print(f\"Our model corr_gpdim_val: {corr_gpdim_val}\")\n",
    "corr_gpdim_val = corr_gpdim(\n",
    "    pred_coords_dict[\"chronos_ft\"].T, gt_coords_dict[\"chronos_ft\"].T, standardize=False\n",
    ")\n",
    "print(f\"Chronos FT corr_gpdim_val: {corr_gpdim_val}\")"
   ]
  },
  {
   "cell_type": "code",
   "execution_count": null,
   "metadata": {},
   "outputs": [],
   "source": [
    "# gpdim_val = compute_gp_dimension(dyst_coords)\n",
    "# print(gpdim_val)"
   ]
  },
  {
   "cell_type": "code",
   "execution_count": null,
   "metadata": {},
   "outputs": [],
   "source": [
    "corr_gpdim_val = smape(pred_coords_dict[\"pft\"].T, gt_coords_dict[\"pft\"].T)\n",
    "print(f\"Our model smape: {corr_gpdim_val}\")\n",
    "corr_gpdim_val = smape(pred_coords_dict[\"chronos_ft\"].T, gt_coords_dict[\"chronos_ft\"].T)\n",
    "print(f\"Chronos FT smape: {corr_gpdim_val}\")"
   ]
  },
  {
   "cell_type": "code",
   "execution_count": null,
   "metadata": {},
   "outputs": [],
   "source": [
    "spearman_val = spearman(pred_coords_dict[\"pft\"].T, gt_coords_dict[\"pft\"].T)\n",
    "print(f\"Our model spearman: {spearman_val}\")\n",
    "spearman_val = spearman(\n",
    "    pred_coords_dict[\"chronos_ft\"].T, gt_coords_dict[\"chronos_ft\"].T\n",
    ")\n",
    "print(f\"Chronos FT spearman: {spearman_val}\")"
   ]
  },
  {
   "cell_type": "code",
   "execution_count": null,
   "metadata": {},
   "outputs": [],
   "source": [
    "kl_divergence_val = estimate_kl_divergence(\n",
    "    pred_coords_dict[\"pft\"].T, gt_coords_dict[\"pft\"].T\n",
    ")\n",
    "print(f\"Our model kl_divergence: {kl_divergence_val}\")\n",
    "kl_divergence_val = estimate_kl_divergence(\n",
    "    pred_coords_dict[\"chronos_ft\"].T, gt_coords_dict[\"chronos_ft\"].T\n",
    ")\n",
    "print(f\"Chronos FT kl_divergence: {kl_divergence_val}\")"
   ]
  },
  {
   "cell_type": "code",
   "execution_count": null,
   "metadata": {},
   "outputs": [],
   "source": []
  },
  {
   "cell_type": "code",
   "execution_count": null,
   "metadata": {},
   "outputs": [],
   "source": []
  }
 ],
 "metadata": {
  "kernelspec": {
   "display_name": "dystformer",
   "language": "python",
   "name": "python3"
  },
  "language_info": {
   "codemirror_mode": {
    "name": "ipython",
    "version": 3
   },
   "file_extension": ".py",
   "mimetype": "text/x-python",
   "name": "python",
   "nbconvert_exporter": "python",
   "pygments_lexer": "ipython3",
   "version": "3.10.14"
  }
 },
 "nbformat": 4,
 "nbformat_minor": 2
}
