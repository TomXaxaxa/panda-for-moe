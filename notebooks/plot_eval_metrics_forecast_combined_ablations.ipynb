{
 "cells": [
  {
   "cell_type": "code",
   "execution_count": null,
   "metadata": {},
   "outputs": [],
   "source": [
    "import os\n",
    "from collections import defaultdict\n",
    "\n",
    "import matplotlib.pyplot as plt\n",
    "import numpy as np\n",
    "import pandas as pd"
   ]
  },
  {
   "cell_type": "code",
   "execution_count": null,
   "metadata": {},
   "outputs": [],
   "source": [
    "if os.path.exists(\"../custom_style.mplstyle\"):\n",
    "    plt.style.use([\"ggplot\", \"../custom_style.mplstyle\"])"
   ]
  },
  {
   "cell_type": "code",
   "execution_count": null,
   "metadata": {},
   "outputs": [],
   "source": [
    "figs_save_dir = os.path.join(\"../figs\", \"eval_metrics\")\n",
    "os.makedirs(figs_save_dir, exist_ok=True)"
   ]
  },
  {
   "cell_type": "code",
   "execution_count": null,
   "metadata": {},
   "outputs": [],
   "source": [
    "WORK_DIR = os.getenv(\"WORK\", \"\")\n",
    "DATA_DIR = os.path.join(WORK_DIR, \"data\")"
   ]
  },
  {
   "cell_type": "code",
   "execution_count": null,
   "metadata": {},
   "outputs": [],
   "source": [
    "data_split = \"final_skew40/test_zeroshot\"\n",
    "\n",
    "run_names = [\n",
    "    \"pft_stand_rff_only_pretrained\",\n",
    "    \"pft_fullyfeat_from_scratch\",\n",
    "    \"pft_stand_pretrained_vanilla\",\n",
    "    \"pft_stand_rff_univariate\",\n",
    "    \"pft_stand_chattn_noemb\",\n",
    "    \"pft_vanilla\",\n",
    "]\n",
    "run_metrics_dir_dict = {\n",
    "    run_name: os.path.join(\n",
    "        \"../eval_results\",\n",
    "        \"patchtst\",\n",
    "        f\"{run_name}-0\",\n",
    "        data_split,\n",
    "    )\n",
    "    for run_name in run_names\n",
    "}"
   ]
  },
  {
   "cell_type": "code",
   "execution_count": null,
   "metadata": {},
   "outputs": [],
   "source": [
    "run_metrics_dir_dict.keys()"
   ]
  },
  {
   "cell_type": "code",
   "execution_count": null,
   "metadata": {},
   "outputs": [],
   "source": [
    "metrics_all_runs = defaultdict(dict)\n",
    "for model_name, run_metrics_dir in run_metrics_dir_dict.items():\n",
    "    print(model_name)\n",
    "    for file in sorted(\n",
    "        os.listdir(run_metrics_dir),\n",
    "        key=lambda x: int(x.split(\"_pred\")[1].split(\".csv\")[0]),\n",
    "    ):\n",
    "        if file.endswith(\".csv\"):\n",
    "            prediction_length = int(file.split(\"_pred\")[1].split(\".csv\")[0])\n",
    "            print(prediction_length)\n",
    "            with open(os.path.join(run_metrics_dir, file), \"r\") as f:\n",
    "                metrics = pd.read_csv(f).to_dict()\n",
    "                metrics_all_runs[model_name][prediction_length] = metrics"
   ]
  },
  {
   "cell_type": "code",
   "execution_count": null,
   "metadata": {},
   "outputs": [],
   "source": [
    "metrics_all_runs.keys()"
   ]
  },
  {
   "cell_type": "code",
   "execution_count": null,
   "metadata": {},
   "outputs": [],
   "source": [
    "unrolled_metrics = defaultdict(dict)\n",
    "for model_name, all_metrics_of_model in metrics_all_runs.items():\n",
    "    print(model_name)\n",
    "    for run_name, metrics in all_metrics_of_model.items():\n",
    "        print(run_name)\n",
    "        systems = metrics.pop(\"system\")\n",
    "        metrics_unrolled = {k: list(v.values()) for k, v in metrics.items()}\n",
    "        print(metrics_unrolled.keys())\n",
    "        unrolled_metrics[model_name][run_name] = metrics_unrolled"
   ]
  },
  {
   "cell_type": "code",
   "execution_count": null,
   "metadata": {},
   "outputs": [],
   "source": [
    "unrolled_metrics.keys()"
   ]
  },
  {
   "cell_type": "code",
   "execution_count": null,
   "metadata": {},
   "outputs": [],
   "source": [
    "def get_summary_metrics_dict(unrolled_metrics, metric_name):\n",
    "    summary_metrics_dict = defaultdict(dict)\n",
    "    for model_name, metrics_dict in unrolled_metrics.items():\n",
    "        print(model_name)\n",
    "        prediction_lengths = list(metrics_dict.keys())\n",
    "        summary_metrics_dict[model_name][\"prediction_lengths\"] = prediction_lengths\n",
    "        means = []\n",
    "        medians = []\n",
    "        stds = []\n",
    "        for prediction_length in prediction_lengths:\n",
    "            metric_val = metrics_dict[prediction_length][metric_name]\n",
    "            means.append(np.mean(metric_val))\n",
    "            medians.append(np.median(metric_val))\n",
    "            stds.append(np.std(metric_val))\n",
    "        summary_metrics_dict[model_name][\"means\"] = means\n",
    "        summary_metrics_dict[model_name][\"medians\"] = medians\n",
    "        summary_metrics_dict[model_name][\"stds\"] = stds\n",
    "    return summary_metrics_dict"
   ]
  },
  {
   "cell_type": "code",
   "execution_count": null,
   "metadata": {},
   "outputs": [],
   "source": [
    "smape_metrics_dict = get_summary_metrics_dict(unrolled_metrics, \"smape\")"
   ]
  },
  {
   "cell_type": "code",
   "execution_count": null,
   "metadata": {},
   "outputs": [],
   "source": [
    "def plot_metrics_by_prediction_length(\n",
    "    metrics_dict, metric_name, show_std_envelope=False\n",
    "):\n",
    "    plt.figure(figsize=(5, 4))\n",
    "    for model_name, metrics in metrics_dict.items():\n",
    "        plt.plot(\n",
    "            metrics[\"prediction_lengths\"],\n",
    "            metrics[\"medians\"],\n",
    "            marker=\"o\",\n",
    "            label=model_name,\n",
    "        )\n",
    "        std_envelope = np.array(metrics[\"stds\"])\n",
    "        if show_std_envelope:\n",
    "            plt.fill_between(\n",
    "                metrics[\"prediction_lengths\"],\n",
    "                metrics[\"means\"] - std_envelope,\n",
    "                metrics[\"means\"] + std_envelope,\n",
    "                alpha=0.2,\n",
    "            )\n",
    "    plt.legend(loc=\"lower right\")\n",
    "    plt.xlabel(\"Prediction Length\")\n",
    "    plt.title(metric_name, fontweight=\"bold\")"
   ]
  },
  {
   "cell_type": "code",
   "execution_count": null,
   "metadata": {},
   "outputs": [],
   "source": [
    "plot_metrics_by_prediction_length(smape_metrics_dict, \"sMAPE\", show_std_envelope=True)"
   ]
  },
  {
   "cell_type": "code",
   "execution_count": null,
   "metadata": {},
   "outputs": [],
   "source": [
    "all_metrics_dict = {\n",
    "    metrics_name: get_summary_metrics_dict(unrolled_metrics, metrics_name)\n",
    "    for metrics_name in [\n",
    "        \"mse\",\n",
    "        \"mae\",\n",
    "        \"smape\",\n",
    "        \"r2_score\",\n",
    "    ]\n",
    "}"
   ]
  },
  {
   "cell_type": "code",
   "execution_count": null,
   "metadata": {},
   "outputs": [],
   "source": [
    "plot_metrics_by_prediction_length(\n",
    "    all_metrics_dict[\"r2_score\"], \"R2 Score\", show_std_envelope=False\n",
    ")"
   ]
  },
  {
   "cell_type": "code",
   "execution_count": null,
   "metadata": {},
   "outputs": [],
   "source": [
    "all_metrics_dict.keys()"
   ]
  },
  {
   "cell_type": "code",
   "execution_count": null,
   "metadata": {},
   "outputs": [],
   "source": [
    "all_metrics_dict[\"mse\"].keys()"
   ]
  },
  {
   "cell_type": "code",
   "execution_count": null,
   "metadata": {},
   "outputs": [],
   "source": [
    "def plot_all_metrics_by_prediction_length(\n",
    "    all_metrics_dict: dict[str, dict[str, dict[str, list[float]]]],\n",
    "    metric_names: list[str],\n",
    "    runs_to_exclude: list[str],\n",
    "    metrics_to_show_std_envelope: list[str],\n",
    "    n_rows: int = 2,\n",
    "    n_cols: int = 3,\n",
    "    limit_num_prediction_lengths: int = None,\n",
    "):\n",
    "    num_metrics = len(metric_names)\n",
    "    fig, axes = plt.subplots(\n",
    "        nrows=n_rows, ncols=n_cols, figsize=(4 * n_cols, 4 * n_rows)\n",
    "    )\n",
    "    axes = axes.flatten()  # Flatten the axes array for easy iteration\n",
    "\n",
    "    for i, (ax, metric_name) in enumerate(zip(axes, metric_names)):\n",
    "        metrics_dict = all_metrics_dict[metric_name]\n",
    "        for model_name, metrics in metrics_dict.items():\n",
    "            if model_name in runs_to_exclude:\n",
    "                continue\n",
    "            print(model_name)\n",
    "            print(metrics.keys())\n",
    "            prediction_lengths = metrics[\"prediction_lengths\"][\n",
    "                :limit_num_prediction_lengths\n",
    "            ]\n",
    "            medians = metrics[\"medians\"][:limit_num_prediction_lengths]\n",
    "            means = metrics[\"means\"][:limit_num_prediction_lengths]\n",
    "            stds = metrics[\"stds\"][:limit_num_prediction_lengths]\n",
    "            ax.plot(\n",
    "                prediction_lengths,\n",
    "                medians,\n",
    "                marker=\"o\",\n",
    "                label=model_name,\n",
    "            )\n",
    "            std_envelope = np.array(stds)\n",
    "            if metric_name in metrics_to_show_std_envelope:\n",
    "                ax.fill_between(\n",
    "                    prediction_lengths,\n",
    "                    means - std_envelope,\n",
    "                    means + std_envelope,\n",
    "                    alpha=0.2,\n",
    "                )\n",
    "        if i == 0:\n",
    "            ax.legend(loc=\"lower right\", frameon=True)\n",
    "        ax.set_xlabel(\"Prediction Length\")\n",
    "        ax.set_xticks(prediction_lengths)\n",
    "        name = metric_name.replace(\"_\", \" \")\n",
    "        if name in [\"mse\", \"mae\", \"rmse\", \"mape\", \"smape\"]:\n",
    "            name = name.upper()\n",
    "        else:\n",
    "            name = name.capitalize()\n",
    "        ax.set_title(name, fontweight=\"bold\")\n",
    "\n",
    "    # Hide any unused subplots\n",
    "    for ax in axes[num_metrics:]:\n",
    "        ax.set_visible(False)\n",
    "\n",
    "    plt.tight_layout()\n",
    "    plt.show()"
   ]
  },
  {
   "cell_type": "code",
   "execution_count": null,
   "metadata": {},
   "outputs": [],
   "source": [
    "plot_all_metrics_by_prediction_length(\n",
    "    all_metrics_dict,\n",
    "    [\"mse\", \"smape\", \"r2_score\"],\n",
    "    # metrics_to_show_std_envelope=[\"smape\", \"pearson\", \"spearman\"],\n",
    "    runs_to_exclude=[\"pft_stand_pretrained_vanilla\"],\n",
    "    metrics_to_show_std_envelope=[],\n",
    "    limit_num_prediction_lengths=None,\n",
    ")"
   ]
  },
  {
   "cell_type": "code",
   "execution_count": null,
   "metadata": {},
   "outputs": [],
   "source": [
    "import matplotlib.pyplot as plt\n",
    "import pandas as pd\n",
    "import seaborn as sns\n",
    "\n",
    "\n",
    "def make_strip_plot(\n",
    "    unrolled_metrics: dict[str, dict[int, dict[str, list[float]]]],\n",
    "    prediction_length: int,\n",
    "    run_names: list[str],\n",
    "    ylim=(1e-5, 1e5),\n",
    "    verbose: bool = False,\n",
    "    metrics_to_exclude: list[str] = [],\n",
    "    use_rescaled_smape: bool = False,\n",
    "    run_names_to_exclude: list[str] = [],\n",
    "    plot_violin: bool = False,\n",
    "):\n",
    "    # Extract metrics data for the given prediction_length and run_names\n",
    "    metrics_by_run_name = {\n",
    "        run_name: unrolled_metrics[run_name][prediction_length]\n",
    "        for run_name in run_names\n",
    "    }\n",
    "    metric_names = list(metrics_by_run_name[run_names[0]].keys())\n",
    "    metric_names = [name for name in metric_names if name not in metrics_to_exclude]\n",
    "    run_names = [name for name in run_names if name not in run_names_to_exclude]\n",
    "\n",
    "    # Create pretty titles for x-axis tick labels\n",
    "    metric_names_title = [\n",
    "        name.replace(\"_\", \" \").upper()\n",
    "        if name in [\"mse\", \"mae\", \"rmse\", \"mape\", \"smape\"]\n",
    "        else name.replace(\"_\", \" \").capitalize()\n",
    "        for name in metric_names\n",
    "    ]\n",
    "\n",
    "    colors = plt.rcParams[\"axes.prop_cycle\"].by_key()[\"color\"]\n",
    "    plt.figure(figsize=(6, 4))\n",
    "\n",
    "    plot_data = []\n",
    "    median_data = []\n",
    "    for i, metric_name in enumerate(metric_names):\n",
    "        metric_title = metric_names_title[i]\n",
    "        for run_name in run_names:\n",
    "            values = metrics_by_run_name[run_name][metric_name]\n",
    "            if metric_name == \"smape\" and use_rescaled_smape:\n",
    "                values = [x / 100 for x in values]\n",
    "            median_value = np.median(values)\n",
    "            plot_data.extend([(metric_title, v, run_name) for v in values])\n",
    "            median_data.append((metric_title, median_value, run_name))\n",
    "            if verbose:\n",
    "                print(f\"{metric_title} - {run_name} median: {median_value}\")\n",
    "\n",
    "    # Create DataFrame for use with seaborn\n",
    "    df = pd.DataFrame(plot_data, columns=[\"Metric\", \"Value\", \"Run\"])\n",
    "\n",
    "    if plot_violin:\n",
    "        # Plot violin plot\n",
    "        ax = sns.violinplot(\n",
    "            data=df,\n",
    "            x=\"Metric\",\n",
    "            y=\"Value\",\n",
    "            hue=\"Run\",\n",
    "            dodge=True,\n",
    "            alpha=0.7,\n",
    "            palette=colors[: len(run_names)],\n",
    "            scale=\"width\",\n",
    "            cut=0,\n",
    "        )\n",
    "    else:\n",
    "        # Plot the strip plot using hue (with dodge enabled)\n",
    "        ax = sns.stripplot(\n",
    "            data=df,\n",
    "            x=\"Metric\",\n",
    "            y=\"Value\",\n",
    "            hue=\"Run\",\n",
    "            dodge=True,  # enables side-by-side grouping for each metric\n",
    "            alpha=0.5,\n",
    "            size=3,\n",
    "            jitter=0.15,\n",
    "            palette=colors[: len(run_names)],\n",
    "            order=metric_names_title,\n",
    "        )\n",
    "\n",
    "    # Get the center x-coordinate for each metric category\n",
    "    x_positions = {\n",
    "        label.get_text(): pos for pos, label in enumerate(ax.get_xticklabels())\n",
    "    }\n",
    "\n",
    "    # Assume each category uses a total width of 0.8 (default in many seaborn categorical plots)\n",
    "    dodge_width = 0.8\n",
    "    n = len(run_names)\n",
    "    # The space allocated per hue (run) within the category:\n",
    "    group_width = dodge_width / n\n",
    "    # Let the median line be slightly wider than the group width\n",
    "    median_line_width = group_width * 0.8\n",
    "\n",
    "    # Draw horizontal lines for medians centered exactly on the corresponding dodge positions\n",
    "    for metric, median_value, run in median_data:\n",
    "        x_center = x_positions[metric]\n",
    "        run_index = run_names.index(run)\n",
    "        # Compute the dodge offset so that the hues are evenly spaced\n",
    "        offset = (run_index - (n - 1) / 2) * group_width\n",
    "        x_line_center = x_center + offset\n",
    "        plt.hlines(\n",
    "            y=median_value,\n",
    "            xmin=x_line_center - median_line_width / 2,\n",
    "            xmax=x_line_center + median_line_width / 2,\n",
    "            color=\"black\",\n",
    "            linewidth=2,\n",
    "            zorder=3,\n",
    "        )\n",
    "\n",
    "    # plt.yscale(\"log\")\n",
    "    plt.ylim(ylim)\n",
    "    plt.ylabel(\"\")\n",
    "    plt.legend(frameon=True, fontsize=5)\n",
    "    plt.title(\"Metrics\", fontweight=\"bold\")\n",
    "    plt.xticks(rotation=15)  # Optional: rotates x-tick labels for readability\n",
    "    plt.show()"
   ]
  },
  {
   "cell_type": "code",
   "execution_count": null,
   "metadata": {},
   "outputs": [],
   "source": [
    "run_names"
   ]
  },
  {
   "cell_type": "code",
   "execution_count": null,
   "metadata": {},
   "outputs": [],
   "source": [
    "make_strip_plot(\n",
    "    unrolled_metrics,\n",
    "    128,\n",
    "    run_names=run_names,\n",
    "    ylim=(-1, 2),\n",
    "    metrics_to_exclude=[\"mae\", \"spearman\"],\n",
    "    run_names_to_exclude=[\"pft_stand_pretrained_vanilla\"],\n",
    "    use_rescaled_smape=True,\n",
    "    plot_violin=False,\n",
    ")"
   ]
  },
  {
   "cell_type": "code",
   "execution_count": null,
   "metadata": {},
   "outputs": [],
   "source": []
  }
 ],
 "metadata": {
  "kernelspec": {
   "display_name": "dystformer",
   "language": "python",
   "name": "python3"
  },
  "language_info": {
   "codemirror_mode": {
    "name": "ipython",
    "version": 3
   },
   "file_extension": ".py",
   "mimetype": "text/x-python",
   "name": "python",
   "nbconvert_exporter": "python",
   "pygments_lexer": "ipython3",
   "version": "3.10.14"
  }
 },
 "nbformat": 4,
 "nbformat_minor": 2
}
