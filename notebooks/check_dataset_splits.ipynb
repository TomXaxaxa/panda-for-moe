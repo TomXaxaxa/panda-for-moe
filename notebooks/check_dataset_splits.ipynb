{
 "cells": [
  {
   "cell_type": "code",
   "execution_count": null,
   "metadata": {},
   "outputs": [],
   "source": [
    "import json\n",
    "import os"
   ]
  },
  {
   "cell_type": "code",
   "execution_count": null,
   "metadata": {},
   "outputs": [],
   "source": [
    "WORK_DIR = os.environ.get(\"WORK\", \"\")\n",
    "DATA_DIR = os.path.join(WORK_DIR, \"data\")"
   ]
  },
  {
   "cell_type": "code",
   "execution_count": null,
   "metadata": {},
   "outputs": [],
   "source": [
    "n_periods = 40"
   ]
  },
  {
   "cell_type": "markdown",
   "metadata": {},
   "source": [
    "### Utils"
   ]
  },
  {
   "cell_type": "code",
   "execution_count": null,
   "metadata": {},
   "outputs": [],
   "source": [
    "def get_subdirs_from_splits(subset: str, splits: list[str]):\n",
    "    subdirs = []\n",
    "    for split_name in splits:\n",
    "        split_dir = os.path.join(DATA_DIR, subset, split_name)\n",
    "        if not os.path.exists(split_dir):\n",
    "            continue\n",
    "        subdirs.extend(\n",
    "            [\n",
    "                d\n",
    "                for d in os.listdir(split_dir)\n",
    "                if os.path.isdir(os.path.join(split_dir, d))\n",
    "            ]\n",
    "        )\n",
    "    subdirs = set(subdirs)\n",
    "    print(f\"Found {len(subdirs)} subdirs in {subset} splits {splits}\")\n",
    "    return list(set(subdirs))"
   ]
  },
  {
   "cell_type": "code",
   "execution_count": null,
   "metadata": {},
   "outputs": [],
   "source": [
    "def find_substrings(\n",
    "    setA: list[str],\n",
    "    setB: list[str],\n",
    "    setA_name: str = \"setA\",\n",
    "    setB_name: str = \"setB\",\n",
    "):\n",
    "    matching_strings = {b for b in setB if any(a in b.split(\"_\") for a in setA)}\n",
    "    matching_patterns = {a for a in setA if any(a in b.split(\"_\") for b in setB)}\n",
    "    res = (list(matching_strings), list(matching_patterns))\n",
    "    print(f\"Found {len(res[0])} {setB_name} systems names that use {setA_name} systems\")\n",
    "    print(f\"Found {len(res[1])} {setA_name} systems names in {setB_name}\")\n",
    "    return res"
   ]
  },
  {
   "cell_type": "markdown",
   "metadata": {},
   "source": [
    "### Compare Skew and Base Subdirectories"
   ]
  },
  {
   "cell_type": "code",
   "execution_count": null,
   "metadata": {},
   "outputs": [],
   "source": [
    "skew_subset = f\"improved/final_skew{n_periods}\"\n",
    "base_subset = f\"improved/final_base{n_periods}\""
   ]
  },
  {
   "cell_type": "code",
   "execution_count": null,
   "metadata": {},
   "outputs": [],
   "source": [
    "skew_splits_train = [\"train\", \"train_z5_z10\", \"train_z10_z15\"]\n",
    "skew_subdirs_train = get_subdirs_from_splits(skew_subset, skew_splits_train)"
   ]
  },
  {
   "cell_type": "code",
   "execution_count": null,
   "metadata": {},
   "outputs": [],
   "source": [
    "base_splits_train = [\"train\", \"train_z5_z10\", \"train_z10_z15\"]\n",
    "base_subdirs_train = get_subdirs_from_splits(base_subset, base_splits_train)"
   ]
  },
  {
   "cell_type": "code",
   "execution_count": null,
   "metadata": {},
   "outputs": [],
   "source": [
    "# Step 1: Compare skew train vs base test_zeroshot\n",
    "base_splits_test_zeroshot = [\n",
    "    \"test_zeroshot\",\n",
    "    \"test_zeroshot_z5_z10\",\n",
    "    \"test_zeroshot_z10_z15\",\n",
    "]\n",
    "base_subdirs_test_zeroshot = get_subdirs_from_splits(\n",
    "    base_subset, base_splits_test_zeroshot\n",
    ")\n",
    "res = find_substrings(\n",
    "    base_subdirs_test_zeroshot,\n",
    "    skew_subdirs_train,\n",
    "    setA_name=\"base test_zeroshot\",\n",
    "    setB_name=\"skew train\",\n",
    ")\n",
    "print(res[1])"
   ]
  },
  {
   "cell_type": "code",
   "execution_count": null,
   "metadata": {},
   "outputs": [],
   "source": [
    "# Step 4: Compare skew test_zeroshot vs base test_zeroshot\n",
    "skew_splits_test_zeroshot = [\n",
    "    \"test_zeroshot\",\n",
    "    \"test_zeroshot_z5_z10\",\n",
    "    \"test_zeroshot_z10_z15\",\n",
    "]\n",
    "skew_subdirs_test_zeroshot = get_subdirs_from_splits(\n",
    "    skew_subset, skew_splits_test_zeroshot\n",
    ")\n",
    "\n",
    "res = find_substrings(\n",
    "    base_subdirs_test_zeroshot,\n",
    "    skew_subdirs_test_zeroshot,\n",
    "    setA_name=\"base test_zeroshot\",\n",
    "    setB_name=\"skew test_zeroshot\",\n",
    ")\n",
    "print(res[1])"
   ]
  },
  {
   "cell_type": "code",
   "execution_count": null,
   "metadata": {},
   "outputs": [],
   "source": [
    "res = find_substrings(\n",
    "    skew_subdirs_train,\n",
    "    skew_subdirs_test_zeroshot,\n",
    "    setA_name=\"skew train\",\n",
    "    setB_name=\"skew test_zeroshot\",\n",
    ")\n",
    "print(res[1])"
   ]
  },
  {
   "cell_type": "code",
   "execution_count": null,
   "metadata": {},
   "outputs": [],
   "source": [
    "res = find_substrings(\n",
    "    base_subdirs_train,\n",
    "    base_subdirs_test_zeroshot,\n",
    "    setA_name=\"base train\",\n",
    "    setB_name=\"base test_zeroshot\",\n",
    ")\n",
    "print(res[1])"
   ]
  },
  {
   "cell_type": "markdown",
   "metadata": {},
   "source": [
    "### Test Scaling Law Splits"
   ]
  },
  {
   "cell_type": "code",
   "execution_count": null,
   "metadata": {},
   "outputs": [],
   "source": [
    "scalinglaw_dir = os.path.join(DATA_DIR, \"improved/scalinglaw\")"
   ]
  },
  {
   "cell_type": "code",
   "execution_count": null,
   "metadata": {},
   "outputs": [],
   "source": [
    "# list all subdirs in scalinglaw_dir\n",
    "scalinglaw_subdirs = os.listdir(scalinglaw_dir)\n",
    "split_subdirs = [\n",
    "    \"split_0-163_ic128\",\n",
    "    \"split_163-327_ic64\",\n",
    "    \"split_327-655_ic32\",\n",
    "    \"split_655-1311_ic16\",\n",
    "    \"split_1311-2622_ic8\",\n",
    "    \"split_2622-5244_ic4\",\n",
    "    \"split_5244-10489_ic2\",\n",
    "]\n",
    "num_subdirs_lst = []\n",
    "subdirs_lst = []\n",
    "for i, split_subdir in enumerate(split_subdirs):\n",
    "    # if split_subdir does not exist, raise an error\n",
    "    split_subdir_train_path = os.path.join(scalinglaw_dir, split_subdir, \"train\")\n",
    "    if not os.path.exists(split_subdir_train_path):\n",
    "        raise ValueError(\n",
    "            f\"Split subdir {split_subdir} does not exist in {scalinglaw_dir}\"\n",
    "        )\n",
    "    subdirs = os.listdir(split_subdir_train_path)\n",
    "    num_files_in_all_subdirs = sum(\n",
    "        [\n",
    "            len(os.listdir(os.path.join(split_subdir_train_path, subdir)))\n",
    "            for subdir in subdirs\n",
    "        ]\n",
    "    )\n",
    "    print(\n",
    "        f\"Found {len(subdirs)} subdirs and {num_files_in_all_subdirs} files in {split_subdir_train_path}\"\n",
    "    )\n",
    "    num_subdirs_lst.append(len(subdirs))\n",
    "    subdirs_lst.append(subdirs)\n",
    "    # if i == 0:\n",
    "    #     continue\n",
    "    # prev_subdirs = subdirs_lst[i - 1]\n",
    "    # # number of items in common between subdirs and prev_subdirs\n",
    "    # common_subdirs = set(subdirs).intersection(set(prev_subdirs))\n",
    "    # print(\n",
    "    #     f\"--> Found {len(common_subdirs)} common subdirs in {split_subdir} and previous subdir split\"\n",
    "    # )"
   ]
  },
  {
   "cell_type": "code",
   "execution_count": null,
   "metadata": {},
   "outputs": [],
   "source": [
    "# Calculate and print the ratio of consecutive elements in num_subdirs_lst\n",
    "print(\"Ratio of consecutive elements in num_subdirs_lst:\")\n",
    "for i in range(1, len(num_subdirs_lst)):\n",
    "    ratio = num_subdirs_lst[i] / num_subdirs_lst[i - 1]\n",
    "    print(f\"{num_subdirs_lst[i]} / {num_subdirs_lst[i - 1]} = {ratio:.2f}\")"
   ]
  },
  {
   "cell_type": "code",
   "execution_count": null,
   "metadata": {},
   "outputs": [],
   "source": [
    "split_params_dir = os.path.join(scalinglaw_dir, \"params_disjoint\")\n",
    "\n",
    "split_params_system_names = {}\n",
    "for i, split_subdir in enumerate(split_subdirs):\n",
    "    split_name = split_subdir.split(\"_ic\")[0]\n",
    "    print(f\"Split name: {split_name}\")\n",
    "    params_json = json.load(\n",
    "        open(os.path.join(split_params_dir, f\"params_dict_{split_name}.json\"))\n",
    "    )\n",
    "    system_names = []\n",
    "    for skew_name, skew_params in params_json.items():\n",
    "        for pert_params in skew_params:\n",
    "            sample_idx = pert_params[\"sample_idx\"]\n",
    "            system_name = f\"{skew_name}-pp{sample_idx}\"\n",
    "            system_names.append(system_name)\n",
    "    split_params_system_names[split_name] = system_names"
   ]
  },
  {
   "cell_type": "code",
   "execution_count": null,
   "metadata": {},
   "outputs": [],
   "source": [
    "split_names = list(split_params_system_names.keys())\n",
    "for i, (split_name, system_names) in enumerate(split_params_system_names.items()):\n",
    "    print(f\"Split name: {split_name}, number of system names: {len(system_names)}\")\n",
    "    assert len(set(system_names)) == len(system_names), (\n",
    "        f\"Duplicate system names in {split_name}\"\n",
    "    )\n",
    "    if i == 0:\n",
    "        continue\n",
    "    prev_system_names = split_params_system_names[split_names[i - 1]]\n",
    "    common_system_names = set(prev_system_names).intersection(set(system_names))\n",
    "    for prev_system_name in common_system_names:\n",
    "        print(f\"System name {prev_system_name} already exists in {split_name}\")"
   ]
  },
  {
   "cell_type": "code",
   "execution_count": null,
   "metadata": {},
   "outputs": [],
   "source": [
    "baseline_system_names = split_params_system_names[\"split_0-163\"]\n",
    "\n",
    "for i, (split_name, system_names) in enumerate(split_params_system_names.items()):\n",
    "    print(f\"Split name: {split_name}, number of system names: {len(system_names)}\")\n",
    "    assert len(set(system_names)) == len(system_names), (\n",
    "        f\"Duplicate system names in {split_name}\"\n",
    "    )\n",
    "    if i == 0:\n",
    "        continue\n",
    "    common_system_names = set(baseline_system_names).intersection(set(system_names))\n",
    "    # for common_system_name in common_system_names:\n",
    "    #     print(f\"System name {common_system_name} already exists in {split_name}\")\n",
    "    print(\n",
    "        f\"Found {len(common_system_names)} common system names in {split_name}. Printing first 4:\"\n",
    "    )\n",
    "    print(f\"--> {list(common_system_names)[:4]}\")"
   ]
  }
 ],
 "metadata": {
  "kernelspec": {
   "display_name": "dystformer",
   "language": "python",
   "name": "python3"
  },
  "language_info": {
   "codemirror_mode": {
    "name": "ipython",
    "version": 3
   },
   "file_extension": ".py",
   "mimetype": "text/x-python",
   "name": "python",
   "nbconvert_exporter": "python",
   "pygments_lexer": "ipython3",
   "version": "3.10.14"
  }
 },
 "nbformat": 4,
 "nbformat_minor": 2
}
