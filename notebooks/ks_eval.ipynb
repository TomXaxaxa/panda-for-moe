{
 "cells": [
  {
   "cell_type": "code",
   "execution_count": null,
   "metadata": {},
   "outputs": [],
   "source": [
    "import matplotlib.pyplot as plt\n",
    "import numpy as np\n",
    "import torch\n",
    "from dysts.base import DynSys\n",
    "from scipy.integrate import solve_ivp\n",
    "from tqdm import trange\n",
    "\n",
    "from dystformer.augmentations import StandardizeTransform\n",
    "from dystformer.chronos.pipeline import ChronosPipeline\n",
    "from dystformer.patchtst.pipeline import PatchTSTPipeline\n",
    "# TODO"
   ]
  },
  {
   "cell_type": "markdown",
   "metadata": {},
   "source": [
    "## KS Equation"
   ]
  },
  {
   "cell_type": "code",
   "execution_count": null,
   "metadata": {},
   "outputs": [],
   "source": [
    "class KuramotoShivashinsky(DynSys):\n",
    "    \"\"\"Implements the 1+1D KS equation in fourier space\"\"\"\n",
    "\n",
    "    def __init__(self, L: float, modes: int):\n",
    "        super().__init__(metadata_path=None, dimension=2 * modes, parameters={})\n",
    "        self.L = L\n",
    "        self.modes = modes\n",
    "        self.dimension = 2 * self.modes\n",
    "        self.wave_nums = 2 * np.pi * np.arange(0, self.modes + 2) / self.L\n",
    "        self.N = self.dimension + 2\n",
    "\n",
    "        # precompute some quantities\n",
    "        self.freq_domain = np.zeros(self.modes + 2, dtype=np.complex128)\n",
    "        self.nonlinear_factor = -0.5 * 1j * self.wave_nums * self.N\n",
    "        self.diffusion_ffts = self.wave_nums**2 - self.wave_nums**4\n",
    "\n",
    "    def to_spatial(self, q: np.ndarray, N: int) -> np.ndarray:\n",
    "        \"\"\"Inverse FFT of the modes to get u(x) at a certain time\n",
    "\n",
    "        :param q: array of flattened fourier coefficients (real and imag components), can have batch dimensions\n",
    "        :param N: grid resolution in the spatial domain\n",
    "\n",
    "        :returns: solution in the spatial domain\n",
    "        \"\"\"\n",
    "        coeffs = np.zeros(q.shape[:-1] + (self.modes + 2,), dtype=complex)\n",
    "        coeffs[..., 1:-1] = q[..., : self.modes] + 1j * q[..., self.modes :]\n",
    "        return np.fft.irfft(coeffs, n=N)\n",
    "\n",
    "    def rhs(self, t: float, X: np.ndarray) -> np.ndarray:\n",
    "        self.freq_domain[1:-1] = X[: self.modes] + 1j * X[self.modes :]\n",
    "        u = np.fft.irfft(self.freq_domain, n=self.N)\n",
    "        pseudospectral_term = self.nonlinear_factor * np.fft.rfft(u * u)\n",
    "        linear_term = self.diffusion_ffts * self.freq_domain\n",
    "\n",
    "        # repackage components\n",
    "        flow = (linear_term + pseudospectral_term)[1:-1]\n",
    "        return np.concatenate([np.real(flow), np.imag(flow)])"
   ]
  },
  {
   "cell_type": "code",
   "execution_count": null,
   "metadata": {},
   "outputs": [],
   "source": [
    "ks = KuramotoShivashinsky(L=100, modes=64)\n",
    "\n",
    "tfinal = 100\n",
    "rng = np.random.default_rng(12)  # 1234\n",
    "ic = 0.1 * rng.normal(size=(ks.dimension,))\n",
    "teval = np.linspace(0, tfinal, 4096)\n",
    "sol = solve_ivp(\n",
    "    ks.rhs, (0, tfinal), ic, method=\"DOP853\", t_eval=teval, rtol=1e-8, atol=1e-8\n",
    ")\n",
    "ts, freq_traj = sol.t, sol.y.T\n",
    "spatial_traj = ks.to_spatial(freq_traj, N=ks.dimension)"
   ]
  },
  {
   "cell_type": "code",
   "execution_count": null,
   "metadata": {},
   "outputs": [],
   "source": [
    "grid = np.linspace(0, ks.L, ks.dimension)\n",
    "plt.figure(figsize=(10, 4))\n",
    "plt.pcolormesh(ts, grid, spatial_traj.T, cmap=\"Spectral\", shading=\"gouraud\")\n",
    "plt.colorbar()\n",
    "plt.ylabel(\"x\")\n",
    "plt.xlabel(\"t\")\n",
    "plt.show()"
   ]
  },
  {
   "cell_type": "code",
   "execution_count": null,
   "metadata": {},
   "outputs": [],
   "source": [
    "def plot_3d_trajectory(\n",
    "    trajectory: np.ndarray,\n",
    "    title: str = \"3D Trajectory\",\n",
    "    figsize: tuple[int, int] = (12, 8),\n",
    ") -> None:\n",
    "    \"\"\"Plot the first three dimensions of a trajectory in 3D space.\n",
    "\n",
    "    Args:\n",
    "        trajectory: Array of shape (T, D) where T is time steps and D is dimensions\n",
    "        title: Plot title\n",
    "        figsize: Figure size in inches (width, height)\n",
    "    \"\"\"\n",
    "    if trajectory.shape[1] < 3:\n",
    "        raise ValueError(\n",
    "            f\"Trajectory must have at least 3 dimensions, but has {trajectory.shape[1]}\"\n",
    "        )\n",
    "\n",
    "    fig = plt.figure(figsize=figsize)\n",
    "    ax = fig.add_subplot(111, projection=\"3d\")\n",
    "\n",
    "    # Plot the trajectory\n",
    "    ax.plot(trajectory[:, 0], trajectory[:, 1], trajectory[:, 2])\n",
    "\n",
    "    # Add scatter points to show direction\n",
    "    n_points = min(20, len(trajectory))\n",
    "    indices = np.linspace(0, len(trajectory) - 1, n_points, dtype=int)\n",
    "    colors = plt.cm.viridis(np.linspace(0, 1, len(indices)))\n",
    "\n",
    "    ax.scatter(\n",
    "        trajectory[indices, 0],\n",
    "        trajectory[indices, 1],\n",
    "        trajectory[indices, 2],\n",
    "        c=colors,\n",
    "        s=30,\n",
    "        alpha=0.8,\n",
    "    )\n",
    "\n",
    "    ax.set_xlabel(\"Dimension 1\")\n",
    "    ax.set_ylabel(\"Dimension 2\")\n",
    "    ax.set_zlabel(\"Dimension 3\")\n",
    "    ax.set_title(title)\n",
    "\n",
    "    plt.tight_layout()\n",
    "    plt.show()\n",
    "\n",
    "\n",
    "# Example: Plot the first 1000 time steps using the first 3 spatial points\n",
    "plot_3d_trajectory(spatial_traj, title=\"KS Equation - First 3 Spatial Points\")"
   ]
  },
  {
   "cell_type": "code",
   "execution_count": null,
   "metadata": {},
   "outputs": [],
   "source": [
    "run_name = \"pft_chattn_emb_w_poly-0\"  # \"pft_chattn_noembed_pretrained_correct-0\"\n",
    "pipeline = PatchTSTPipeline.from_pretrained(\n",
    "    mode=\"predict\",\n",
    "    pretrain_path=f\"/stor/work/AMDG_Gilpin_Summer2024/checkpoints/{run_name}/checkpoint-final\",\n",
    "    device_map=\"cuda:3\",\n",
    "    torch_dtype=torch.float32,\n",
    ")\n",
    "pipeline"
   ]
  },
  {
   "cell_type": "markdown",
   "metadata": {},
   "source": [
    "## Forecasting"
   ]
  },
  {
   "cell_type": "markdown",
   "metadata": {},
   "source": [
    "### Our Model"
   ]
  },
  {
   "cell_type": "code",
   "execution_count": null,
   "metadata": {},
   "outputs": [],
   "source": [
    "def forecast(\n",
    "    pipeline,\n",
    "    trajectory: np.ndarray,\n",
    "    context_length: int,\n",
    "    normalize: bool = True,\n",
    "    transpose: bool = False,\n",
    "    prediction_length: int | None = None,\n",
    "    **kwargs,\n",
    ") -> np.ndarray:\n",
    "    context = trajectory[:context_length]\n",
    "    if normalize:\n",
    "        normalizer = StandardizeTransform()\n",
    "        context = normalizer(context, axis=0)\n",
    "\n",
    "    if prediction_length is None:\n",
    "        prediction_length = trajectory.shape[0] - context_length\n",
    "\n",
    "    if transpose:\n",
    "        context = context.T\n",
    "\n",
    "    predictions = (\n",
    "        pipeline.predict(\n",
    "            context=torch.tensor(context).float(),\n",
    "            prediction_length=prediction_length,\n",
    "            limit_prediction_length=False,\n",
    "            **kwargs,\n",
    "        )\n",
    "        .squeeze()\n",
    "        .cpu()\n",
    "        .numpy()\n",
    "    )\n",
    "    full_trajectory = np.concatenate([context, predictions], axis=1 if transpose else 0)\n",
    "\n",
    "    if transpose:\n",
    "        full_trajectory = full_trajectory.T\n",
    "\n",
    "    if normalize:\n",
    "        return normalizer(\n",
    "            full_trajectory,\n",
    "            axis=0,\n",
    "            context=trajectory[:context_length],\n",
    "            denormalize=True,\n",
    "        )\n",
    "\n",
    "    return full_trajectory"
   ]
  },
  {
   "cell_type": "code",
   "execution_count": null,
   "metadata": {},
   "outputs": [],
   "source": [
    "def plot_forecast(\n",
    "    ts: np.ndarray,\n",
    "    grid: np.ndarray,\n",
    "    trajectory: np.ndarray,\n",
    "    predictions: np.ndarray,\n",
    "    run_name: str = \"\",\n",
    "    context_length: int = 0,\n",
    "    save_path: str | None = None,\n",
    "    v_abs: float = 0.025,\n",
    "):\n",
    "    fig, axes = plt.subplots(3, 1, sharex=True, figsize=(9, 9))\n",
    "\n",
    "    vmin = min(trajectory.min(), predictions.min())\n",
    "    vmax = max(trajectory.max(), predictions.max())\n",
    "    vabs = max(abs(vmin), abs(vmax))\n",
    "    if v_abs is not None:\n",
    "        print(f\"Using v_abs: {v_abs} instead of {vabs}\")\n",
    "        vabs = v_abs\n",
    "\n",
    "    for i, (ax, data, label) in enumerate(\n",
    "        zip(\n",
    "            axes,\n",
    "            [trajectory, predictions, predictions - trajectory],\n",
    "            [\n",
    "                \"Ground Truth\",\n",
    "                f\"Predictions ({run_name})\",\n",
    "                f\"Prediction Error ({np.mean(np.abs(predictions - trajectory)):.2e}) ({run_name})\",\n",
    "            ],\n",
    "        )\n",
    "    ):\n",
    "        im = ax.pcolormesh(\n",
    "            ts, grid, data.T, cmap=\"Spectral\", shading=\"gouraud\", vmin=-vabs, vmax=vabs\n",
    "        )\n",
    "        ax.set_ylabel(\"x\")\n",
    "        ax.set_title(label, fontweight=\"bold\")\n",
    "        fig.colorbar(im, ax=ax)\n",
    "        # draw black vertical line at middle of plot (x axis middle)\n",
    "        ax.axvline(ts[context_length], color=\"black\", linewidth=1)\n",
    "        if i == 2:\n",
    "            # draw a black dotted vertical line at the end of 128 pred length window\n",
    "            ax.axvline(\n",
    "                ts[context_length + 128], color=\"gray\", linestyle=\"--\", linewidth=1\n",
    "            )\n",
    "    axes[-1].set_xlabel(\"t\")\n",
    "    plt.tight_layout()\n",
    "\n",
    "    if save_path:\n",
    "        plt.savefig(save_path, bbox_inches=\"tight\")"
   ]
  },
  {
   "cell_type": "code",
   "execution_count": null,
   "metadata": {},
   "outputs": [],
   "source": [
    "start_time = 1024\n",
    "end_time = 2048\n",
    "context_length = 512"
   ]
  },
  {
   "cell_type": "code",
   "execution_count": null,
   "metadata": {},
   "outputs": [],
   "source": [
    "# predict in frequency domain\n",
    "preds_freq = forecast(\n",
    "    pipeline,\n",
    "    freq_traj[start_time:end_time],\n",
    "    context_length,\n",
    "    prediction_length=None,\n",
    "    normalize=True,\n",
    "    sliding_context=True,\n",
    ")\n",
    "\n",
    "# convert to spatial domain\n",
    "preds_freq_to_spatial = ks.to_spatial(preds_freq, N=ks.dimension)"
   ]
  },
  {
   "cell_type": "code",
   "execution_count": null,
   "metadata": {},
   "outputs": [],
   "source": [
    "plot_forecast(\n",
    "    ts[start_time:end_time],\n",
    "    grid,\n",
    "    spatial_traj[start_time:end_time],\n",
    "    preds_freq_to_spatial,\n",
    "    run_name=\"Our Model\",\n",
    "    context_length=context_length,\n",
    "    save_path=\"ks_our_model_freq_to_spatial.pdf\",\n",
    "    v_abs=0.025,\n",
    ")"
   ]
  },
  {
   "cell_type": "code",
   "execution_count": null,
   "metadata": {},
   "outputs": [],
   "source": [
    "# predict in spatial domain\n",
    "preds_spatial = forecast(\n",
    "    pipeline,\n",
    "    spatial_traj[start_time:end_time],\n",
    "    context_length,\n",
    "    prediction_length=None,\n",
    "    normalize=True,\n",
    "    sliding_context=True,\n",
    ")"
   ]
  },
  {
   "cell_type": "code",
   "execution_count": null,
   "metadata": {},
   "outputs": [],
   "source": [
    "plot_forecast(\n",
    "    ts[start_time:end_time],\n",
    "    grid,\n",
    "    spatial_traj[start_time:end_time],\n",
    "    preds_spatial,\n",
    "    run_name=\"Our Model\",\n",
    "    context_length=context_length,\n",
    "    save_path=\"ks_our_model_spatial.pdf\",\n",
    "    v_abs=0.025,\n",
    ")"
   ]
  },
  {
   "cell_type": "markdown",
   "metadata": {},
   "source": [
    "### Chronos Finetune"
   ]
  },
  {
   "cell_type": "code",
   "execution_count": null,
   "metadata": {},
   "outputs": [],
   "source": [
    "chronos = ChronosPipeline.from_pretrained(\n",
    "    \"/stor/work/AMDG_Gilpin_Summer2024/checkpoints/chronos_mini_ft-0/checkpoint-final\",\n",
    "    device_map=\"cuda:1\",\n",
    "    torch_dtype=torch.float32,\n",
    ")\n",
    "chronos"
   ]
  },
  {
   "cell_type": "code",
   "execution_count": null,
   "metadata": {},
   "outputs": [],
   "source": [
    "def forecast_chronos(\n",
    "    pipeline,\n",
    "    trajectory: np.ndarray,\n",
    "    context_length: int,\n",
    "    chunk_size: int,\n",
    ") -> np.ndarray:\n",
    "    subchannel_predictions = []\n",
    "    for i in trange(0, trajectory.shape[1] // chunk_size):\n",
    "        subpreds = forecast(\n",
    "            pipeline,\n",
    "            trajectory[:, i * chunk_size : (i + 1) * chunk_size],\n",
    "            context_length,\n",
    "            prediction_length=None,\n",
    "            transpose=True,\n",
    "            normalize=False,\n",
    "            num_samples=1,\n",
    "        )\n",
    "        subchannel_predictions.append(subpreds)\n",
    "\n",
    "    return np.concatenate(subchannel_predictions, axis=1)"
   ]
  },
  {
   "cell_type": "code",
   "execution_count": null,
   "metadata": {},
   "outputs": [],
   "source": [
    "# predict in frequency domain\n",
    "chronos_preds_freq = forecast_chronos(\n",
    "    chronos, freq_traj[start_time:end_time], context_length, chunk_size=ks.dimension\n",
    ")\n",
    "\n",
    "# convert to spatial domain\n",
    "chronos_preds_freq_to_spatial = ks.to_spatial(chronos_preds_freq, N=ks.dimension)"
   ]
  },
  {
   "cell_type": "code",
   "execution_count": null,
   "metadata": {},
   "outputs": [],
   "source": [
    "plot_forecast(\n",
    "    ts[start_time:end_time],\n",
    "    grid,\n",
    "    spatial_traj[start_time:end_time],\n",
    "    chronos_preds_freq_to_spatial,\n",
    "    run_name=\"Chronos 20M Finetune\",\n",
    "    context_length=context_length,\n",
    "    save_path=\"ks_chronos_ft_freq_to_spatial.pdf\",\n",
    ")"
   ]
  },
  {
   "cell_type": "code",
   "execution_count": null,
   "metadata": {},
   "outputs": [],
   "source": [
    "# spatial domain chronos prediction\n",
    "chronos_preds_spatial = forecast_chronos(\n",
    "    chronos, spatial_traj[start_time:end_time], context_length, chunk_size=ks.dimension\n",
    ")"
   ]
  },
  {
   "cell_type": "code",
   "execution_count": null,
   "metadata": {},
   "outputs": [],
   "source": [
    "plot_forecast(\n",
    "    ts[start_time:end_time],\n",
    "    grid,\n",
    "    spatial_traj[start_time:end_time],\n",
    "    chronos_preds_spatial,\n",
    "    run_name=\"Chronos 20M Finetune\",\n",
    "    context_length=context_length,\n",
    "    save_path=\"ks_chronos_ft_spatial.pdf\",\n",
    "    v_abs=0.025,\n",
    ")"
   ]
  },
  {
   "cell_type": "markdown",
   "metadata": {},
   "source": [
    "### Chronos Zeroshot"
   ]
  },
  {
   "cell_type": "code",
   "execution_count": null,
   "metadata": {},
   "outputs": [],
   "source": [
    "chronos_zs = ChronosPipeline.from_pretrained(\n",
    "    \"amazon/chronos-t5-mini\",\n",
    "    device_map=\"cuda:1\",\n",
    "    torch_dtype=torch.float32,\n",
    ")\n",
    "chronos_zs"
   ]
  },
  {
   "cell_type": "code",
   "execution_count": null,
   "metadata": {},
   "outputs": [],
   "source": [
    "chronos_zs_preds_freq = forecast_chronos(\n",
    "    chronos_zs, freq_traj[start_time:end_time], context_length, chunk_size=ks.dimension\n",
    ")\n",
    "\n",
    "# convert to spatial domain\n",
    "chronos_zs_preds_freq_to_spatial = ks.to_spatial(chronos_zs_preds_freq, N=ks.dimension)"
   ]
  },
  {
   "cell_type": "code",
   "execution_count": null,
   "metadata": {},
   "outputs": [],
   "source": [
    "plot_forecast(\n",
    "    ts[start_time:end_time],\n",
    "    grid,\n",
    "    spatial_traj[start_time:end_time],\n",
    "    chronos_zs_preds_freq_to_spatial,\n",
    "    run_name=\"Chronos 20M\",\n",
    "    context_length=context_length,\n",
    "    save_path=\"ks_chronos_zs_freq_to_spatial.pdf\",\n",
    ")"
   ]
  },
  {
   "cell_type": "code",
   "execution_count": null,
   "metadata": {},
   "outputs": [],
   "source": [
    "# spatial domain chronos prediction\n",
    "chronos_zs_preds_spatial = forecast_chronos(\n",
    "    chronos_zs,\n",
    "    spatial_traj[start_time:end_time],\n",
    "    context_length,\n",
    "    chunk_size=ks.dimension,\n",
    ")"
   ]
  },
  {
   "cell_type": "code",
   "execution_count": null,
   "metadata": {},
   "outputs": [],
   "source": [
    "plot_forecast(\n",
    "    ts[start_time:end_time],\n",
    "    grid,\n",
    "    spatial_traj[start_time:end_time],\n",
    "    chronos_zs_preds_spatial,\n",
    "    run_name=\"Chronos 20M\",\n",
    "    context_length=context_length,\n",
    "    save_path=\"ks_chronos_zs_spatial.pdf\",\n",
    ")"
   ]
  }
 ],
 "metadata": {
  "kernelspec": {
   "display_name": "dystformer",
   "language": "python",
   "name": "python3"
  },
  "language_info": {
   "codemirror_mode": {
    "name": "ipython",
    "version": 3
   },
   "file_extension": ".py",
   "mimetype": "text/x-python",
   "name": "python",
   "nbconvert_exporter": "python",
   "pygments_lexer": "ipython3",
   "version": "3.10.14"
  }
 },
 "nbformat": 4,
 "nbformat_minor": 2
}
