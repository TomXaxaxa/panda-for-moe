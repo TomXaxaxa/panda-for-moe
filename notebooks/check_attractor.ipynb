{
 "cells": [
  {
   "cell_type": "code",
   "execution_count": null,
   "metadata": {},
   "outputs": [],
   "source": [
    "%load_ext autoreload\n",
    "%autoreload 2"
   ]
  },
  {
   "cell_type": "code",
   "execution_count": null,
   "metadata": {},
   "outputs": [],
   "source": [
    "import os\n",
    "from collections import Counter, defaultdict\n",
    "\n",
    "import matplotlib.colors as colors\n",
    "import matplotlib.pyplot as plt\n",
    "import numpy as np\n",
    "\n",
    "from panda.utils import (\n",
    "    load_trajectory_from_arrow,\n",
    "    plot_trajs_multivariate,\n",
    ")"
   ]
  },
  {
   "cell_type": "code",
   "execution_count": null,
   "metadata": {},
   "outputs": [],
   "source": [
    "# apply_custom_style(\"../config/plotting.yaml\")"
   ]
  },
  {
   "cell_type": "code",
   "execution_count": null,
   "metadata": {},
   "outputs": [],
   "source": [
    "WORK_DIR = os.getenv(\"WORK\", \"\")\n",
    "DATA_DIR = os.path.join(WORK_DIR, \"data\")"
   ]
  },
  {
   "cell_type": "code",
   "execution_count": null,
   "metadata": {},
   "outputs": [],
   "source": [
    "split_name = \"improved/final_skew40/train\"\n",
    "system_name = \"Thomas_Sakarya\""
   ]
  },
  {
   "cell_type": "code",
   "execution_count": null,
   "metadata": {},
   "outputs": [],
   "source": [
    "subdir = os.path.join(DATA_DIR, split_name, system_name)\n",
    "files_lst = os.listdir(subdir)\n",
    "files_lst.sort()\n",
    "filepath = os.path.join(subdir, files_lst[-1])"
   ]
  },
  {
   "cell_type": "code",
   "execution_count": null,
   "metadata": {},
   "outputs": [],
   "source": [
    "transient_time = 512\n",
    "dyst_coords, _ = load_trajectory_from_arrow(filepath)\n",
    "dyst_coords = dyst_coords[:, transient_time:]"
   ]
  },
  {
   "cell_type": "code",
   "execution_count": null,
   "metadata": {},
   "outputs": [],
   "source": [
    "dyst_coords.shape"
   ]
  },
  {
   "cell_type": "code",
   "execution_count": null,
   "metadata": {},
   "outputs": [],
   "source": [
    "plot_trajs_multivariate(\n",
    "    np.expand_dims(dyst_coords, axis=0),\n",
    "    plot_name=f\"{system_name}\",\n",
    "    show_plot=True,\n",
    ")"
   ]
  },
  {
   "cell_type": "code",
   "execution_count": null,
   "metadata": {},
   "outputs": [],
   "source": [
    "dim = dyst_coords.shape[0]\n",
    "for i in range(dim):\n",
    "    plt.figure(figsize=(5, 2))\n",
    "    plt.plot(dyst_coords[i], \"b-\", color=\"tab:blue\")\n",
    "    plt.title(f\"Dimension {i}\")\n",
    "    plt.show()"
   ]
  },
  {
   "cell_type": "code",
   "execution_count": null,
   "metadata": {},
   "outputs": [],
   "source": [
    "# Create a sample trajectory.\n",
    "# Here we generate a simple (regular) trajectory as an example.\n",
    "t = np.linspace(0, 10 * np.pi, 4096)\n",
    "\n",
    "test_system_periodic = np.array(\n",
    "    [\n",
    "        np.sin(t),  # x-coordinate\n",
    "        np.sin(2 * t),  # y-coordinate\n",
    "        np.sin(3 * t),  # z-coordinate\n",
    "    ]\n",
    ")\n",
    "test_system_fourier = np.zeros((3, 4096))\n",
    "for i in range(3):  # For each dimension\n",
    "    for j in range(10):  # For each mode\n",
    "        freq = np.random.rand() * 2 * np.pi  # Random frequency\n",
    "        phase = np.random.rand() * 2 * np.pi  # Random phase\n",
    "        test_system_fourier[i] += np.sin(freq * t + phase)\n",
    "\n",
    "test_system_noise = np.random.randn(3, 4097).cumsum(axis=1)"
   ]
  },
  {
   "cell_type": "markdown",
   "metadata": {},
   "source": [
    "### Power Spectrum"
   ]
  },
  {
   "cell_type": "code",
   "execution_count": null,
   "metadata": {},
   "outputs": [],
   "source": [
    "from scipy.fft import rfft\n",
    "\n",
    "from panda.attractor import check_power_spectrum"
   ]
  },
  {
   "cell_type": "code",
   "execution_count": null,
   "metadata": {},
   "outputs": [],
   "source": [
    "check_power_spectrum(dyst_coords)"
   ]
  },
  {
   "cell_type": "code",
   "execution_count": null,
   "metadata": {},
   "outputs": [],
   "source": [
    "def plot_power_spectrum(traj: np.ndarray):\n",
    "    power = np.abs(rfft(traj, axis=1)) ** 2  # type: ignore\n",
    "    print(power.shape)\n",
    "    d, n_freqs = power.shape\n",
    "    _, axes = plt.subplots(d, 1, figsize=(10, 2 * d), sharex=True)\n",
    "    x = np.arange(n_freqs)\n",
    "\n",
    "    for i in range(d):\n",
    "        axes[i].plot(x, power[i], \"b-\", color=\"tab:blue\")\n",
    "        axes[i].set_yscale(\"log\")\n",
    "        axes[i].set_ylabel(f\"Dim {i + 1}\")\n",
    "        axes[i].grid(True)\n",
    "\n",
    "    # Set common x-axis label\n",
    "    axes[-1].set_xlabel(\"Frequency\")\n",
    "\n",
    "    # Add a title to the figure\n",
    "    plt.suptitle(\"Power Spectrum\")\n",
    "\n",
    "    # Adjust layout to prevent overlap\n",
    "    plt.tight_layout()\n",
    "    plt.subplots_adjust(top=0.95)\n",
    "\n",
    "    # Show the plot\n",
    "    plt.show()\n",
    "\n",
    "\n",
    "plot_power_spectrum(dyst_coords)"
   ]
  },
  {
   "cell_type": "code",
   "execution_count": null,
   "metadata": {},
   "outputs": [],
   "source": [
    "# plot_power_spectrum(test_system_fourier)"
   ]
  },
  {
   "cell_type": "markdown",
   "metadata": {},
   "source": [
    "### Grassberger-Procaccia Dimension"
   ]
  },
  {
   "cell_type": "code",
   "execution_count": null,
   "metadata": {},
   "outputs": [],
   "source": [
    "from dysts.analysis import gp_dim"
   ]
  },
  {
   "cell_type": "code",
   "execution_count": null,
   "metadata": {},
   "outputs": [],
   "source": [
    "dyst_coords.shape"
   ]
  },
  {
   "cell_type": "code",
   "execution_count": null,
   "metadata": {},
   "outputs": [],
   "source": [
    "gp = gp_dim(dyst_coords.T)"
   ]
  },
  {
   "cell_type": "code",
   "execution_count": null,
   "metadata": {},
   "outputs": [],
   "source": [
    "print(gp)"
   ]
  },
  {
   "cell_type": "code",
   "execution_count": null,
   "metadata": {},
   "outputs": [],
   "source": [
    "# from panda.utils import compute_gp_dimension\n",
    "# compute_gp_dimension(test_system_periodic.T)\n",
    "# compute_gp_dimension(test_system_noise.T)\n",
    "# compute_gp_dimension(test_system_fourier.T)"
   ]
  },
  {
   "cell_type": "markdown",
   "metadata": {},
   "source": [
    "### Additional Checks"
   ]
  },
  {
   "cell_type": "markdown",
   "metadata": {},
   "source": [
    "#### Limit Cycle Test"
   ]
  },
  {
   "cell_type": "code",
   "execution_count": null,
   "metadata": {},
   "outputs": [],
   "source": [
    "from scipy.spatial.distance import cdist"
   ]
  },
  {
   "cell_type": "code",
   "execution_count": null,
   "metadata": {},
   "outputs": [],
   "source": [
    "# NOTE: could also just import from attractor.py but I wanted to expose some things for plotting\n",
    "\n",
    "\n",
    "def check_not_limit_cycle(\n",
    "    traj: np.ndarray,\n",
    "    tolerance: float = 1e-3,\n",
    "    min_prop_recurrences: float = 0.0,\n",
    "    min_counts_per_rtime: int = 100,\n",
    "    min_block_length: int = 1,\n",
    "    min_recurrence_time: int = 1,\n",
    "    enforce_endpoint_recurrence: bool = False,\n",
    "    return_computed_quantities: bool = False,\n",
    ") -> bool | tuple[bool, dict]:\n",
    "    \"\"\"\n",
    "    limit cycle test from attractor.py, exposed here for plotting purposes\n",
    "    Returns: True if the trajectory is not a limit cycle, False otherwise\n",
    "        If False and also return_computed_quantities is True, returns a tuple (False, computed_quantities)\n",
    "    \"\"\"\n",
    "    n = traj.shape[1]\n",
    "\n",
    "    # Step 1: Calculate the pairwise distance matrix, shape should be (N, N)\n",
    "    dist_matrix = cdist(traj.T, traj.T, metric=\"euclidean\").astype(np.float16)\n",
    "    dist_matrix = np.triu(dist_matrix, k=1)\n",
    "\n",
    "    # Step 2: Get recurrence times from thresholding distance matrix\n",
    "    recurrence_indices = np.asarray(\n",
    "        (dist_matrix < tolerance) & (dist_matrix > 0)\n",
    "    ).nonzero()\n",
    "\n",
    "    n_recurrences = len(recurrence_indices[0])\n",
    "    if n_recurrences == 0:\n",
    "        return True\n",
    "\n",
    "    if enforce_endpoint_recurrence:\n",
    "        # check if an eps neighborhood around either n-1 or 0 is in either of the recurrence indices\n",
    "        eps = 0\n",
    "        if not any(\n",
    "            (n - 1) - max(indices) <= eps or min(indices) - 0 <= eps\n",
    "            for indices in recurrence_indices\n",
    "        ):\n",
    "            return True\n",
    "\n",
    "    # get recurrence times\n",
    "    recurrence_times = np.abs(recurrence_indices[0] - recurrence_indices[1])\n",
    "    recurrence_times = recurrence_times[recurrence_times >= min_recurrence_time]\n",
    "\n",
    "    # Heuristic 1: Check if there are enough recurrences to consider a limit cycle\n",
    "    n_recurrences = len(recurrence_times)\n",
    "    if n_recurrences < int(min_prop_recurrences * n):\n",
    "        return True\n",
    "\n",
    "    # Heuristic 2: Check if there are enough valid recurrence times\n",
    "    rtimes_counts = Counter(recurrence_times)\n",
    "    n_valid_rtimes = sum(\n",
    "        1 for count in rtimes_counts.values() if count >= min_counts_per_rtime\n",
    "    )\n",
    "    if n_valid_rtimes < 1:\n",
    "        return True\n",
    "\n",
    "    # Heuristic 3: Check if the valid recurrence times are formed of blocks of consecutive timepoints\n",
    "    if min_block_length > 1:\n",
    "        rtimes_dict = defaultdict(list)\n",
    "        block_length = 1\n",
    "        prev_rtime = None\n",
    "        prev_t1 = None\n",
    "        prev_t2 = None\n",
    "        rtimes_is_valid = False\n",
    "        num_blocks = 0\n",
    "        # assuming recurrence_indices[0] is sorted\n",
    "        for t1, t2 in zip(*recurrence_indices):\n",
    "            rtime = abs(t2 - t1)\n",
    "            if rtime < min_recurrence_time:\n",
    "                continue\n",
    "            if (\n",
    "                rtime == prev_rtime\n",
    "                and abs(t1 - prev_t1) == 1\n",
    "                and abs(t2 - prev_t2) == 1\n",
    "            ):\n",
    "                block_length += 1\n",
    "            else:\n",
    "                if block_length > min_block_length:\n",
    "                    rtimes_dict[prev_rtime].append(block_length)\n",
    "                    num_blocks += 1\n",
    "                block_length = 1\n",
    "            prev_t1, prev_t2, prev_rtime = t1, t2, rtime\n",
    "            if block_length > min_block_length * 2:\n",
    "                rtimes_is_valid = True\n",
    "                break\n",
    "            if num_blocks >= 2:  # if valid, save computation and break\n",
    "                rtimes_is_valid = True\n",
    "                break\n",
    "        if not rtimes_is_valid:\n",
    "            return True\n",
    "\n",
    "    computed_quantities = {\n",
    "        \"dist_matrix\": dist_matrix,\n",
    "        \"recurrence_indices\": recurrence_indices,\n",
    "        \"recurrence_times\": recurrence_times,\n",
    "    }\n",
    "    if return_computed_quantities:\n",
    "        return False, computed_quantities\n",
    "    return False"
   ]
  },
  {
   "cell_type": "code",
   "execution_count": null,
   "metadata": {},
   "outputs": [],
   "source": [
    "# is_not_limit_cycle_result = check_not_limit_cycle(\n",
    "#     dyst_coords,\n",
    "#     tolerance=1e-3,\n",
    "#     min_prop_recurrences=0.1,\n",
    "#     min_counts_per_rtime=200,\n",
    "#     min_block_length=50,\n",
    "#     enforce_endpoint_recurrence=True,\n",
    "#     return_computed_quantities=True,\n",
    "# )\n",
    "# print(is_not_limit_cycle_result)"
   ]
  },
  {
   "cell_type": "code",
   "execution_count": null,
   "metadata": {},
   "outputs": [],
   "source": [
    "def plot_recurrence_times(\n",
    "    traj: np.ndarray,\n",
    "    dist_matrix: np.ndarray,\n",
    "    recurrence_times: np.ndarray,\n",
    "    recurrence_indices: np.ndarray,\n",
    "):\n",
    "    dyst_name = system_name.split(\"_\")[0]\n",
    "    fig, (ax1, ax2, ax3) = plt.subplots(3, 1, figsize=(10, 18))\n",
    "\n",
    "    ax1.hist(recurrence_times, bins=100, edgecolor=\"black\")\n",
    "    ax1.set_xlabel(\"Recurrence Time\")\n",
    "    ax1.set_ylabel(\"Frequency\")\n",
    "    ax1.set_title(\"Recurrence Times\")\n",
    "    ax1.grid(True)\n",
    "\n",
    "    xyz = traj[:3, :]\n",
    "    xyz1 = xyz[:, : int(n / 2)]\n",
    "    xyz2 = xyz[:, int(n / 2) :]\n",
    "    ic_point = traj[:3, 0]\n",
    "    final_point = traj[:3, -1]\n",
    "    ax2 = fig.add_subplot(312, projection=\"3d\")\n",
    "    ax2.plot(*xyz1, alpha=0.5, linewidth=1, color=\"tab:blue\")\n",
    "    ax2.plot(*xyz2, alpha=0.5, linewidth=1, color=\"tab:orange\")\n",
    "    ax2.scatter(*ic_point, marker=\"*\", s=100, alpha=0.5, color=\"tab:blue\")\n",
    "    ax2.scatter(*final_point, marker=\"x\", s=100, alpha=0.5, color=\"tab:orange\")\n",
    "    ax2.set_xlabel(\"X\")\n",
    "    ax2.set_ylabel(\"Y\")\n",
    "    ax2.set_zlabel(\"Z\")  # type: ignore\n",
    "    ax2.set_title(dyst_name)\n",
    "\n",
    "    ax3 = fig.add_subplot(313)\n",
    "    X, Y = np.meshgrid(np.arange(dist_matrix.shape[0]), np.arange(dist_matrix.shape[1]))\n",
    "    pcolormesh = ax3.pcolormesh(\n",
    "        X,\n",
    "        Y,\n",
    "        dist_matrix,\n",
    "        cmap=\"viridis_r\",\n",
    "        shading=\"auto\",\n",
    "        norm=colors.LogNorm(),\n",
    "    )\n",
    "    plt.colorbar(pcolormesh, ax=ax3)\n",
    "    ax3.scatter(\n",
    "        recurrence_indices[0],\n",
    "        recurrence_indices[1],\n",
    "        color=\"black\",\n",
    "        s=20,\n",
    "        alpha=0.5,\n",
    "    )\n",
    "    ax3.set_title(\"Recurrence Distance Matrix\")\n",
    "    ax3.set_xlabel(\"Time\")\n",
    "    ax3.set_ylabel(\"Time\")\n",
    "    ax3.set_aspect(\"equal\")\n",
    "    plt.tight_layout()\n",
    "    plt.show()"
   ]
  }
 ],
 "metadata": {
  "kernelspec": {
   "display_name": "dystformer",
   "language": "python",
   "name": "python3"
  },
  "language_info": {
   "codemirror_mode": {
    "name": "ipython",
    "version": 3
   },
   "file_extension": ".py",
   "mimetype": "text/x-python",
   "name": "python",
   "nbconvert_exporter": "python",
   "pygments_lexer": "ipython3",
   "version": "3.10.14"
  }
 },
 "nbformat": 4,
 "nbformat_minor": 2
}
