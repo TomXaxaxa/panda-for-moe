{
 "cells": [
  {
   "cell_type": "code",
   "execution_count": null,
   "metadata": {},
   "outputs": [],
   "source": [
    "%load_ext autoreload\n",
    "%autoreload 2"
   ]
  },
  {
   "cell_type": "code",
   "execution_count": null,
   "metadata": {},
   "outputs": [],
   "source": [
    "import glob\n",
    "import json\n",
    "import os\n",
    "from typing import Any\n",
    "\n",
    "import dysts.flows as flows\n",
    "import numpy as np\n",
    "from dysts.systems import DynSys\n",
    "from tqdm import tqdm\n",
    "\n",
    "from dystformer.coupling_maps import RandomAdditiveCouplingMap\n",
    "from dystformer.skew_system import SkewProduct\n",
    "from dystformer.utils import load_trajectory_from_arrow, plot_trajs_multivariate"
   ]
  },
  {
   "cell_type": "code",
   "execution_count": null,
   "metadata": {},
   "outputs": [],
   "source": [
    "rseed = 99\n",
    "rng = np.random.default_rng(rseed)"
   ]
  },
  {
   "cell_type": "code",
   "execution_count": null,
   "metadata": {},
   "outputs": [],
   "source": [
    "WORK_DIR = os.environ.get(\"WORK\", \"\")\n",
    "DATA_DIR = os.path.join(WORK_DIR, \"data\")"
   ]
  },
  {
   "cell_type": "markdown",
   "metadata": {},
   "source": [
    "### Utils"
   ]
  },
  {
   "cell_type": "code",
   "execution_count": null,
   "metadata": {},
   "outputs": [],
   "source": [
    "def init_skew_system_from_params(\n",
    "    driver_name: str,\n",
    "    response_name: str,\n",
    "    param_dict: dict[str, Any],\n",
    "    **kwargs,\n",
    ") -> DynSys:\n",
    "    \"\"\"\n",
    "    Initialize a skew-product dynamical system from saved parameters.\n",
    "    Assumes RandomAdditiveCouplingMap.\n",
    "    \"\"\"\n",
    "    system_name = f\"{driver_name}_{response_name}\"\n",
    "    required_keys = [\n",
    "        \"driver_params\",\n",
    "        \"response_params\",\n",
    "        \"coupling_map\",\n",
    "    ]\n",
    "    for key in required_keys:\n",
    "        if key not in param_dict:\n",
    "            raise ValueError(f\"Key {key} not found in param_dict for {system_name}\")\n",
    "\n",
    "    driver = getattr(flows, driver_name)(parameters=param_dict[\"driver_params\"])\n",
    "    response = getattr(flows, response_name)(parameters=param_dict[\"response_params\"])\n",
    "\n",
    "    coupling_map = RandomAdditiveCouplingMap._deserialize(param_dict[\"coupling_map\"])\n",
    "\n",
    "    sys = SkewProduct(\n",
    "        driver=driver, response=response, coupling_map=coupling_map, **kwargs\n",
    "    )\n",
    "\n",
    "    return sys"
   ]
  },
  {
   "cell_type": "markdown",
   "metadata": {},
   "source": [
    "### Test system"
   ]
  },
  {
   "cell_type": "code",
   "execution_count": null,
   "metadata": {},
   "outputs": [],
   "source": [
    "output_dir = \"../outputs\"\n",
    "output_path = os.path.join(output_dir, \"filtered_params_dict.json\")"
   ]
  },
  {
   "cell_type": "code",
   "execution_count": null,
   "metadata": {},
   "outputs": [],
   "source": [
    "reloaded_params_dicts = json.load(open(output_path))"
   ]
  },
  {
   "cell_type": "code",
   "execution_count": null,
   "metadata": {},
   "outputs": [],
   "source": [
    "test_system_name = \"Rucklidge_PanXuZhou\""
   ]
  },
  {
   "cell_type": "code",
   "execution_count": null,
   "metadata": {},
   "outputs": [],
   "source": [
    "reloaded_test_params = reloaded_params_dicts[test_system_name][0]"
   ]
  },
  {
   "cell_type": "code",
   "execution_count": null,
   "metadata": {},
   "outputs": [],
   "source": [
    "reloaded_test_params"
   ]
  },
  {
   "cell_type": "code",
   "execution_count": null,
   "metadata": {},
   "outputs": [],
   "source": [
    "is_skew = \"_\" in test_system_name\n",
    "if is_skew:\n",
    "    driver_name, response_name = test_system_name.split(\"_\")\n",
    "    sys = init_skew_system_from_params(driver_name, response_name, reloaded_test_params)"
   ]
  },
  {
   "cell_type": "code",
   "execution_count": null,
   "metadata": {},
   "outputs": [],
   "source": [
    "# set initial condition\n",
    "sys.ic = np.array(reloaded_test_params[\"ic\"])\n",
    "print(sys.ic)\n",
    "\n",
    "if not sys.has_jacobian():\n",
    "    print(f\"Jacobian not implemented for {test_system_name}\")\n",
    "\n",
    "num_timesteps = 4311\n",
    "num_periods = 40\n",
    "\n",
    "ts, traj = sys.make_trajectory(\n",
    "    num_timesteps,\n",
    "    pts_per_period=num_timesteps // num_periods,\n",
    "    return_times=True,\n",
    "    atol=1e-10,\n",
    "    rtol=1e-8,\n",
    ")"
   ]
  },
  {
   "cell_type": "code",
   "execution_count": null,
   "metadata": {},
   "outputs": [],
   "source": [
    "transient_frac = 0.05\n",
    "transient_length = int(transient_frac * num_timesteps)\n",
    "trajectory = traj[None, transient_length:, :]\n",
    "print(trajectory.shape)\n",
    "trajectory_to_plot = trajectory.transpose(0, 2, 1)\n",
    "driver_coords = trajectory_to_plot[:, : sys.driver_dim, :]\n",
    "response_coords = trajectory_to_plot[:, sys.driver_dim :, :]\n",
    "for name, coords in [\n",
    "    (\"driver\", driver_coords),\n",
    "    (\"response\", response_coords),\n",
    "]:\n",
    "    plot_trajs_multivariate(\n",
    "        coords,\n",
    "        save_dir=None,\n",
    "        plot_name=f\"reconstructed_{test_system_name}_{name}\",\n",
    "        standardize=True,\n",
    "        plot_projections=False,\n",
    "        show_plot=True,\n",
    "    )"
   ]
  },
  {
   "cell_type": "markdown",
   "metadata": {},
   "source": [
    "### Remake trajectory with new IC"
   ]
  },
  {
   "cell_type": "code",
   "execution_count": null,
   "metadata": {},
   "outputs": [],
   "source": [
    "traj.shape"
   ]
  },
  {
   "cell_type": "code",
   "execution_count": null,
   "metadata": {},
   "outputs": [],
   "source": [
    "print(f\"Old initial condition: \\n {sys.ic}\")"
   ]
  },
  {
   "cell_type": "code",
   "execution_count": null,
   "metadata": {},
   "outputs": [],
   "source": [
    "n_timesteps = traj.shape[0]\n",
    "n_dims = traj.shape[1]\n",
    "new_ic_idx = rng.integers(0, n_timesteps, size=n_dims)\n",
    "new_ic = np.array([traj[new_ic_idx[i], i] for i in range(n_dims)])\n",
    "print(f\"New initial condition: \\n {new_ic}\")"
   ]
  },
  {
   "cell_type": "code",
   "execution_count": null,
   "metadata": {},
   "outputs": [],
   "source": [
    "sys.ic = new_ic\n",
    "\n",
    "if not sys.has_jacobian():\n",
    "    print(f\"Jacobian not implemented for {test_system_name}\")\n",
    "\n",
    "num_timesteps = 4311\n",
    "num_periods = 40\n",
    "\n",
    "ts, traj = sys.make_trajectory(\n",
    "    num_timesteps,\n",
    "    pts_per_period=num_timesteps // num_periods,\n",
    "    return_times=True,\n",
    "    atol=1e-10,\n",
    "    rtol=1e-8,\n",
    ")"
   ]
  },
  {
   "cell_type": "code",
   "execution_count": null,
   "metadata": {},
   "outputs": [],
   "source": [
    "trajectory = traj[None, transient_length:, :]\n",
    "print(trajectory.shape)\n",
    "trajectory_to_plot = trajectory.transpose(0, 2, 1)\n",
    "driver_coords = trajectory_to_plot[:, : sys.driver_dim, :]\n",
    "response_coords = trajectory_to_plot[:, sys.driver_dim :, :]\n",
    "for name, coords in [\n",
    "    (\"driver\", driver_coords),\n",
    "    (\"response\", response_coords),\n",
    "]:\n",
    "    plot_trajs_multivariate(\n",
    "        coords,\n",
    "        save_dir=None,\n",
    "        plot_name=f\"reconstructed_{test_system_name}_{name}\",\n",
    "        standardize=True,\n",
    "        plot_projections=False,\n",
    "        show_plot=True,\n",
    "    )"
   ]
  },
  {
   "cell_type": "markdown",
   "metadata": {},
   "source": [
    "### QA: check if corresponding saved arrow file exists"
   ]
  },
  {
   "cell_type": "code",
   "execution_count": null,
   "metadata": {},
   "outputs": [],
   "source": [
    "def check_matching_sample_idx(\n",
    "    saved_params_dict: dict, system_arrow_dirs_lst: list[str], verbose: bool = False\n",
    ") -> bool:\n",
    "    params_sample_idx_lst = []\n",
    "    for entry in saved_params_dict:\n",
    "        sample_idx = entry[\"sample_idx\"]\n",
    "        params_sample_idx_lst.append(sample_idx)\n",
    "    params_sample_idx_lst.sort()\n",
    "\n",
    "    arrow_sample_idx_paths_lst = []\n",
    "    arrow_sample_idx_lst = []\n",
    "    for system_arrow_dir in system_arrow_dirs_lst:\n",
    "        arrow_file_paths = glob.glob(os.path.join(system_arrow_dir, \"*.arrow\"))\n",
    "        if len(arrow_file_paths) > 0:\n",
    "            arrow_sample_idx_paths_lst.extend(arrow_file_paths)\n",
    "\n",
    "            sample_idx_lst = [\n",
    "                int(os.path.basename(arrow_file_path).split(\"_T-4096.arrow\")[0])\n",
    "                for arrow_file_path in arrow_file_paths\n",
    "            ]\n",
    "            arrow_sample_idx_lst.extend(sample_idx_lst)\n",
    "\n",
    "    arrow_sample_idx_lst.sort()\n",
    "\n",
    "    if verbose:\n",
    "        print(arrow_sample_idx_lst)\n",
    "        print(params_sample_idx_lst)\n",
    "        print(arrow_sample_idx_paths_lst)\n",
    "    if arrow_sample_idx_lst != params_sample_idx_lst:\n",
    "        return False\n",
    "    return True"
   ]
  },
  {
   "cell_type": "code",
   "execution_count": null,
   "metadata": {},
   "outputs": [],
   "source": [
    "split_names_lst = [\"copy/final_skew40/train\", \"copy/final_skew40/train_z5_z10\"]\n",
    "saved_arrow_dirs_lst = [\n",
    "    os.path.join(DATA_DIR, split_name) for split_name in split_names_lst\n",
    "]\n",
    "print(saved_arrow_dirs_lst)\n",
    "\n",
    "system_arrow_dirs_lst = [\n",
    "    os.path.join(saved_arrow_dir, test_system_name)\n",
    "    for saved_arrow_dir in saved_arrow_dirs_lst\n",
    "]\n",
    "print(system_arrow_dirs_lst)"
   ]
  },
  {
   "cell_type": "code",
   "execution_count": null,
   "metadata": {},
   "outputs": [],
   "source": [
    "check_matching_sample_idx(\n",
    "    reloaded_params_dicts[test_system_name], system_arrow_dirs_lst, verbose=True\n",
    ")"
   ]
  },
  {
   "cell_type": "code",
   "execution_count": null,
   "metadata": {},
   "outputs": [],
   "source": [
    "for system_name, param_dict in tqdm(\n",
    "    reloaded_params_dicts.items(), desc=\"Checking sample idx of all systems...\"\n",
    "):\n",
    "    curr_system_arrow_dirs_lst = [\n",
    "        os.path.join(saved_arrow_dir, system_name)\n",
    "        for saved_arrow_dir in saved_arrow_dirs_lst\n",
    "    ]\n",
    "    res = check_matching_sample_idx(param_dict, curr_system_arrow_dirs_lst)\n",
    "    if not res:\n",
    "        print(f\"Mismatch found for {system_name}\")\n",
    "        break"
   ]
  },
  {
   "cell_type": "markdown",
   "metadata": {},
   "source": [
    "### Make traj from saved params, with new ic sampled from saved arrow file (NOTE: can't use this method because we only save the response coordinates to arrow file)"
   ]
  },
  {
   "cell_type": "code",
   "execution_count": null,
   "metadata": {},
   "outputs": [],
   "source": [
    "test_sample_idx = reloaded_test_params[\"sample_idx\"]\n",
    "print(test_sample_idx)\n",
    "\n",
    "saved_traj = None\n",
    "for system_arrow_dir in system_arrow_dirs_lst:\n",
    "    cand_path = os.path.join(system_arrow_dir, f\"{test_sample_idx}_T-4096.arrow\")\n",
    "    print(cand_path)\n",
    "    if os.path.exists(cand_path):\n",
    "        saved_traj, _ = load_trajectory_from_arrow(cand_path)\n",
    "        break\n",
    "\n",
    "if saved_traj is None:\n",
    "    raise ValueError(\"No saved traj found\")\n",
    "print(saved_traj.shape)"
   ]
  },
  {
   "cell_type": "code",
   "execution_count": null,
   "metadata": {},
   "outputs": [],
   "source": [
    "# Sample a new initial condition from the saved trajectory\n",
    "# We'll randomly select a point from the trajectory to use as our new initial condition\n",
    "n_timepoints = saved_traj.shape[1]  # type: ignore\n",
    "n_dims_response = saved_traj.shape[0]  # type: ignore\n",
    "random_idx = rng.integers(0, n_timepoints, size=n_dims_response)  # type: ignore\n",
    "# print(random_idx)\n",
    "new_ic = np.array([saved_traj[i, idx] for i, idx in enumerate(random_idx)])\n",
    "\n",
    "old_ic = reloaded_test_params[\"ic\"][n_dims_response:]\n",
    "print(f\"Old initial condition: {old_ic}\")\n",
    "print(f\"Sampled new initial condition from index {random_idx} of the trajectory\")\n",
    "print(f\"New initial condition shape: {new_ic.shape}\")\n",
    "print(f\"New initial condition: {new_ic}\")"
   ]
  },
  {
   "cell_type": "code",
   "execution_count": null,
   "metadata": {},
   "outputs": [],
   "source": []
  }
 ],
 "metadata": {
  "kernelspec": {
   "display_name": "dystformer",
   "language": "python",
   "name": "python3"
  },
  "language_info": {
   "codemirror_mode": {
    "name": "ipython",
    "version": 3
   },
   "file_extension": ".py",
   "mimetype": "text/x-python",
   "name": "python",
   "nbconvert_exporter": "python",
   "pygments_lexer": "ipython3",
   "version": "3.10.14"
  }
 },
 "nbformat": 4,
 "nbformat_minor": 2
}
