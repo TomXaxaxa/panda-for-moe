{
 "cells": [
  {
   "cell_type": "code",
   "execution_count": null,
   "metadata": {},
   "outputs": [],
   "source": [
    "%load_ext autoreload\n",
    "%autoreload 2"
   ]
  },
  {
   "cell_type": "code",
   "execution_count": null,
   "metadata": {},
   "outputs": [],
   "source": [
    "import os\n",
    "\n",
    "import matplotlib.pyplot as plt\n",
    "import numpy as np\n",
    "import torch\n",
    "from matplotlib.patches import FancyArrowPatch\n",
    "from mpl_toolkits.mplot3d.proj3d import proj_transform\n",
    "\n",
    "from dystformer.patchtst.pipeline import PatchTSTPipeline\n",
    "from dystformer.utils import (\n",
    "    apply_custom_style,\n",
    "    get_system_filepaths,\n",
    "    load_trajectory_from_arrow,\n",
    ")"
   ]
  },
  {
   "cell_type": "code",
   "execution_count": null,
   "metadata": {},
   "outputs": [],
   "source": [
    "# Apply matplotlib style from config\n",
    "apply_custom_style(\"../config/plotting.yaml\")"
   ]
  },
  {
   "cell_type": "code",
   "execution_count": null,
   "metadata": {},
   "outputs": [],
   "source": [
    "# run_name = \"pft_stand_rff_only_pretrained-0\"\n",
    "run_name = \"pft_linattnpolyemb_from_scratch-0\"\n",
    "# run_name = \"pft_chattn_emb_w_poly-0\"  # NOTE: this is still the best\n",
    "# run_name = \"pft_chattn_fullemb_quartic_enc-0\"\n",
    "# run_name = \"pft_chattn_noembed_pretrained_correct-0\"\n",
    "pft_model = PatchTSTPipeline.from_pretrained(\n",
    "    mode=\"predict\",\n",
    "    pretrain_path=f\"/stor/work/AMDG_Gilpin_Summer2024/checkpoints/{run_name}/checkpoint-final\",\n",
    "    device_map=\"cuda:0\",\n",
    ")"
   ]
  },
  {
   "cell_type": "code",
   "execution_count": null,
   "metadata": {},
   "outputs": [],
   "source": [
    "pft_model.model.model.encoder.layers[0]"
   ]
  },
  {
   "cell_type": "code",
   "execution_count": null,
   "metadata": {},
   "outputs": [],
   "source": [
    "class Arrow3D(FancyArrowPatch):\n",
    "    def __init__(self, xs, ys, zs, *args, **kwargs):\n",
    "        super().__init__((0, 0), (0, 0), *args, **kwargs)\n",
    "        self._verts3d = xs, ys, zs\n",
    "\n",
    "    def draw(self, renderer):\n",
    "        xs3d, ys3d, zs3d = self._verts3d\n",
    "        xs, ys, _ = proj_transform(xs3d, ys3d, zs3d, self.axes.get_proj())\n",
    "        self.set_positions((xs[0], ys[0]), (xs[1], ys[1]))\n",
    "        super().draw(renderer)\n",
    "\n",
    "    def do_3d_projection(self):\n",
    "        xs3d, ys3d, zs3d = self._verts3d\n",
    "        xs, ys, zs = proj_transform(xs3d, ys3d, zs3d, self.axes.get_proj())\n",
    "        self.set_positions((xs[0], ys[0]), (xs[1], ys[1]))\n",
    "        return np.min(zs)"
   ]
  },
  {
   "cell_type": "code",
   "execution_count": null,
   "metadata": {},
   "outputs": [],
   "source": [
    "def make_clean_projection(ax_3d):\n",
    "    ax_3d.grid(False)\n",
    "    ax_3d.set_facecolor(\"white\")\n",
    "    ax_3d.set_xticks([])\n",
    "    ax_3d.set_yticks([])\n",
    "    ax_3d.set_zticks([])\n",
    "    ax_3d.axis(\"off\")"
   ]
  },
  {
   "cell_type": "code",
   "execution_count": null,
   "metadata": {},
   "outputs": [],
   "source": [
    "def make_arrow_axes(ax_3d):\n",
    "    ax_3d.grid(False)\n",
    "    ax_3d.set_facecolor(\"white\")\n",
    "    ax_3d.set_xticks([])\n",
    "    ax_3d.set_yticks([])\n",
    "    ax_3d.set_zticks([])\n",
    "    ax_3d.axis(\"off\")\n",
    "\n",
    "    # Get axis limits\n",
    "    x0, x1 = ax_3d.get_xlim3d()\n",
    "    y0, y1 = ax_3d.get_ylim3d()\n",
    "    z0, z1 = ax_3d.get_zlim3d()\n",
    "\n",
    "    ax_3d.set_box_aspect((x1 - x0, y1 - y0, z1 - z0))\n",
    "    # Define arrows along the three frame edges\n",
    "    edges = [\n",
    "        ((x0, y0, z0), (x1, y0, z0), \"X\"),\n",
    "        ((x0, y0, z0), (x0, y1, z0), \"Y\"),\n",
    "        ((x0, y0, z0), (x0, y0, z1), \"Z\"),\n",
    "    ]\n",
    "\n",
    "    for (xs, ys, zs), (xe, ye, ze), label in edges:\n",
    "        arr = Arrow3D(\n",
    "            [xs, xe],\n",
    "            [ys, ye],\n",
    "            [zs, ze],\n",
    "            mutation_scale=20,\n",
    "            lw=1.5,\n",
    "            arrowstyle=\"-|>\",\n",
    "            color=\"black\",\n",
    "        )\n",
    "        ax_3d.add_artist(arr)\n",
    "        ax_3d.text(xe * 1.03, ye * 1.03, ze * 1.03, label, fontsize=12)\n",
    "\n",
    "    # Hide the default frame and ticks\n",
    "    for pane in (ax_3d.xaxis.pane, ax_3d.yaxis.pane, ax_3d.zaxis.pane):\n",
    "        pane.set_visible(False)\n",
    "    ax_3d.view_init(elev=30, azim=30)"
   ]
  },
  {
   "cell_type": "code",
   "execution_count": null,
   "metadata": {},
   "outputs": [],
   "source": [
    "def plot_model_prediction(\n",
    "    model,\n",
    "    context: np.ndarray,\n",
    "    groundtruth: np.ndarray,\n",
    "    prediction_length: int,\n",
    "    title: str | None = None,\n",
    "    save_path: str | None = None,\n",
    "    show_plot: bool = True,\n",
    "    **kwargs,\n",
    "):\n",
    "    context_tensor = torch.from_numpy(context.T).float().to(pft_model.device)[None, ...]\n",
    "    pred = (\n",
    "        model.predict(context_tensor, prediction_length, **kwargs)\n",
    "        .squeeze()\n",
    "        .cpu()\n",
    "        .numpy()\n",
    "    )\n",
    "    total_length = context.shape[1] + prediction_length\n",
    "    context_ts = np.arange(context.shape[1]) / total_length\n",
    "    pred_ts = np.arange(context.shape[1], total_length) / total_length\n",
    "\n",
    "    # Create figure with gridspec layout\n",
    "    fig = plt.figure(figsize=(6, 8))\n",
    "\n",
    "    # Create main grid with padding for colorbar\n",
    "    outer_grid = fig.add_gridspec(2, 1, height_ratios=[0.65, 0.35], hspace=-0.1)\n",
    "\n",
    "    # Create sub-grid for the plots\n",
    "    gs = outer_grid[1].subgridspec(3, 1, height_ratios=[0.2] * 3, wspace=0, hspace=0)\n",
    "    ax_3d = fig.add_subplot(outer_grid[0], projection=\"3d\")\n",
    "\n",
    "    ax_3d.plot(*context[:3], alpha=0.5, color=\"black\", label=\"Context\")\n",
    "    ax_3d.plot(*groundtruth[:3], linestyle=\"-\", color=\"black\", label=\"Groundtruth\")\n",
    "    ax_3d.plot(*pred.T[:3], color=\"red\", label=\"Prediction\")\n",
    "    # make_arrow_axes(ax_3d)\n",
    "    make_clean_projection(ax_3d)\n",
    "\n",
    "    if title is not None:\n",
    "        title_name = title.replace(\"_\", \" \")\n",
    "        ax_3d.set_title(title_name, fontweight=\"bold\")\n",
    "\n",
    "    axes_1d = [fig.add_subplot(gs[i, 0]) for i in range(3)]\n",
    "    for i, ax in enumerate(axes_1d):\n",
    "        ax.plot(context_ts, context[i], alpha=0.5, color=\"black\")\n",
    "        ax.plot(pred_ts, groundtruth[i], linestyle=\"-\", color=\"black\")\n",
    "        ax.plot(pred_ts, pred[:, i], color=\"red\")\n",
    "        ax.set_xticks([])\n",
    "        ax.set_yticks([])\n",
    "        ax.set_aspect(\"auto\")\n",
    "\n",
    "    if save_path is not None:\n",
    "        os.makedirs(os.path.dirname(save_path), exist_ok=True)\n",
    "        print(f\"saving fig to: {save_path}\")\n",
    "        plt.savefig(save_path, bbox_inches=\"tight\")\n",
    "    if show_plot:\n",
    "        plt.show()\n",
    "    plt.close()"
   ]
  },
  {
   "cell_type": "code",
   "execution_count": null,
   "metadata": {},
   "outputs": [],
   "source": [
    "# (sample_idx, start_time, prediction_length) assuming context_length = 512\n",
    "chosen_forecast_settings = {\n",
    "    # \"KawczynskiStrizhak_HyperXu\": (1, 1260, 128),\n",
    "    \"ForcedBrusselator_SprottB\": (2, 770, 128),\n",
    "    \"SaltonSea_Duffing\": (0, 1999, 128),\n",
    "    \"Bouali_Laser\": (10, 55, 128),\n",
    "    # \"QiChen\": (0, 980, 256),\n",
    "    \"Lorenz96_SprottB\": (10, 1999, 512),\n",
    "    \"LorenzStenflo_IsothermalChemical\": (0, 322, 256),\n",
    "    \"Coullet_GenesioTesi\": (0, 300, 128),\n",
    "    \"SprottK_Duffing\": (6, 815, 256),\n",
    "}"
   ]
  },
  {
   "cell_type": "code",
   "execution_count": null,
   "metadata": {},
   "outputs": [],
   "source": [
    "split = \"final_skew40\"\n",
    "subsplit = \"test_zeroshot\"\n",
    "test_data_dirs = f\"/stor/work/AMDG_Gilpin_Summer2024/data/improved/{split}\""
   ]
  },
  {
   "cell_type": "code",
   "execution_count": null,
   "metadata": {},
   "outputs": [],
   "source": [
    "context_length = 512\n",
    "\n",
    "for dyst_name, settings in chosen_forecast_settings.items():\n",
    "    sample_idx, start_time, pred_length = settings\n",
    "\n",
    "    syspaths = get_system_filepaths(dyst_name, test_data_dirs, subsplit)\n",
    "    trajectory, _ = load_trajectory_from_arrow(syspaths[sample_idx])\n",
    "    # trajectory = trajectory[:, ::2]\n",
    "\n",
    "    end_time = start_time + context_length\n",
    "\n",
    "    save_path = os.path.join(\n",
    "        \"../figures\",\n",
    "        run_name,\n",
    "        split,\n",
    "        subsplit,\n",
    "        dyst_name,\n",
    "        f\"{dyst_name}_sample{sample_idx}_context{start_time}-{end_time}_pred{pred_length}_.pdf\",\n",
    "    )\n",
    "\n",
    "    plot_model_prediction(\n",
    "        pft_model,\n",
    "        trajectory[:, start_time:end_time],  # context\n",
    "        trajectory[:, end_time : end_time + pred_length],  # ground truth\n",
    "        pred_length,\n",
    "        limit_prediction_length=False,\n",
    "        sliding_context=True,\n",
    "        save_path=save_path,  # save_path,\n",
    "        show_plot=True,\n",
    "    )"
   ]
  },
  {
   "cell_type": "code",
   "execution_count": null,
   "metadata": {},
   "outputs": [],
   "source": []
  },
  {
   "cell_type": "code",
   "execution_count": null,
   "metadata": {},
   "outputs": [],
   "source": []
  },
  {
   "cell_type": "code",
   "execution_count": null,
   "metadata": {},
   "outputs": [],
   "source": []
  },
  {
   "cell_type": "code",
   "execution_count": null,
   "metadata": {},
   "outputs": [],
   "source": []
  },
  {
   "cell_type": "code",
   "execution_count": null,
   "metadata": {},
   "outputs": [],
   "source": []
  }
 ],
 "metadata": {
  "kernelspec": {
   "display_name": "dystformer",
   "language": "python",
   "name": "python3"
  },
  "language_info": {
   "codemirror_mode": {
    "name": "ipython",
    "version": 3
   },
   "file_extension": ".py",
   "mimetype": "text/x-python",
   "name": "python",
   "nbconvert_exporter": "python",
   "pygments_lexer": "ipython3",
   "version": "3.10.14"
  }
 },
 "nbformat": 4,
 "nbformat_minor": 2
}
