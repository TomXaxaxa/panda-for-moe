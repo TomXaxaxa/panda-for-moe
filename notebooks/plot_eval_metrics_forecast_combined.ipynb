{
 "cells": [
  {
   "cell_type": "code",
   "execution_count": null,
   "metadata": {},
   "outputs": [],
   "source": [
    "import os\n",
    "from collections import defaultdict\n",
    "\n",
    "import matplotlib.pyplot as plt\n",
    "import numpy as np\n",
    "import pandas as pd\n",
    "import seaborn as sns"
   ]
  },
  {
   "cell_type": "code",
   "execution_count": null,
   "metadata": {},
   "outputs": [],
   "source": [
    "if os.path.exists(\"../custom_style.mplstyle\"):\n",
    "    plt.style.use([\"ggplot\", \"../custom_style.mplstyle\"])"
   ]
  },
  {
   "cell_type": "code",
   "execution_count": null,
   "metadata": {},
   "outputs": [],
   "source": [
    "figs_save_dir = os.path.join(\"../figs\", \"eval_metrics\")\n",
    "os.makedirs(figs_save_dir, exist_ok=True)"
   ]
  },
  {
   "cell_type": "code",
   "execution_count": null,
   "metadata": {},
   "outputs": [],
   "source": [
    "WORK_DIR = os.getenv(\"WORK\", \"\")\n",
    "DATA_DIR = os.path.join(WORK_DIR, \"data\")"
   ]
  },
  {
   "cell_type": "code",
   "execution_count": null,
   "metadata": {},
   "outputs": [],
   "source": [
    "run_metrics_dir_dict = {\n",
    "    \"Chronos Finetune\": os.path.join(\n",
    "        \"../eval_results\", \"chronos\", \"387_metrics\", \"zeroshot\"\n",
    "    ),\n",
    "    \"Model 385\": os.path.join(\"../eval_results\", \"patchtst\", \"385_metrics\", \"zeroshot\"),\n",
    "    \"Model 388\": os.path.join(\"../eval_results\", \"patchtst\", \"388_metrics\", \"zeroshot\"),\n",
    "}"
   ]
  },
  {
   "cell_type": "code",
   "execution_count": null,
   "metadata": {},
   "outputs": [],
   "source": [
    "run_metrics_dir_dict.keys()"
   ]
  },
  {
   "cell_type": "code",
   "execution_count": null,
   "metadata": {},
   "outputs": [],
   "source": [
    "metrics_all_runs = defaultdict(dict)\n",
    "for model_name, run_metrics_dir in run_metrics_dir_dict.items():\n",
    "    print(model_name)\n",
    "    for file in sorted(\n",
    "        os.listdir(run_metrics_dir),\n",
    "        key=lambda x: int(x.split(\"_pred\")[1].split(\".csv\")[0]),\n",
    "    ):\n",
    "        if file.endswith(\".csv\"):\n",
    "            prediction_length = int(file.split(\"_pred\")[1].split(\".csv\")[0])\n",
    "            print(prediction_length)\n",
    "            with open(os.path.join(run_metrics_dir, file), \"r\") as f:\n",
    "                metrics = pd.read_csv(f).to_dict()\n",
    "                metrics_all_runs[model_name][prediction_length] = metrics"
   ]
  },
  {
   "cell_type": "code",
   "execution_count": null,
   "metadata": {},
   "outputs": [],
   "source": [
    "metrics_all_runs.keys()"
   ]
  },
  {
   "cell_type": "code",
   "execution_count": null,
   "metadata": {},
   "outputs": [],
   "source": [
    "metrics_all_runs[\"Model 385\"][64].keys()"
   ]
  },
  {
   "cell_type": "code",
   "execution_count": null,
   "metadata": {},
   "outputs": [],
   "source": [
    "unrolled_metrics = defaultdict(dict)\n",
    "for model_name, all_metrics_of_model in metrics_all_runs.items():\n",
    "    print(model_name)\n",
    "    for run_name, metrics in all_metrics_of_model.items():\n",
    "        print(run_name)\n",
    "        systems = metrics.pop(\"system\")\n",
    "        metrics_unrolled = {k: list(v.values()) for k, v in metrics.items()}\n",
    "        print(metrics_unrolled.keys())\n",
    "        unrolled_metrics[model_name][run_name] = metrics_unrolled"
   ]
  },
  {
   "cell_type": "code",
   "execution_count": null,
   "metadata": {},
   "outputs": [],
   "source": [
    "unrolled_metrics.keys()"
   ]
  },
  {
   "cell_type": "code",
   "execution_count": null,
   "metadata": {},
   "outputs": [],
   "source": [
    "unrolled_metrics[\"Model 385\"][64].keys()"
   ]
  },
  {
   "cell_type": "code",
   "execution_count": null,
   "metadata": {},
   "outputs": [],
   "source": [
    "len(unrolled_metrics[\"Model 385\"][64][\"smape\"])"
   ]
  },
  {
   "cell_type": "code",
   "execution_count": null,
   "metadata": {},
   "outputs": [],
   "source": [
    "plt.figure(figsize=(5, 3))\n",
    "for i, (name, values) in enumerate(unrolled_metrics[\"Model 385\"][128].items()):\n",
    "    name = name.replace(\"_\", \" \")\n",
    "    if name in [\"mse\", \"mae\", \"rmse\", \"mape\", \"smape\"]:\n",
    "        name = name.upper()\n",
    "    else:\n",
    "        name = name.capitalize()\n",
    "    sns.stripplot(x=[name] * len(values), y=values, label=None, alpha=0.7, size=4)\n",
    "    median_value = np.median(values)\n",
    "    print(f\"{name} median: {median_value}\")\n",
    "    # print(np.isnan(median_value))\n",
    "    plt.hlines(\n",
    "        y=median_value, xmin=i - 0.2, xmax=i + 0.2, color=\"black\", linewidth=2, zorder=3\n",
    "    )  # Added horizontal line for median\n",
    "plt.yscale(\"log\")\n",
    "plt.ylim(1e-5, 1e5)\n",
    "# plt.legend(title=\"Metrics\", frameon=True, fontsize=6)\n",
    "plt.title(\"Our Model\", fontweight=\"bold\")\n",
    "plt.savefig(os.path.join(figs_save_dir, f\"{run_name}_metrics_strip.pdf\"))"
   ]
  },
  {
   "cell_type": "code",
   "execution_count": null,
   "metadata": {},
   "outputs": [],
   "source": [
    "plt.figure(figsize=(5, 3))\n",
    "for i, (name, values) in enumerate(unrolled_metrics[\"Chronos Finetune\"][128].items()):\n",
    "    name = name.replace(\"_\", \" \")\n",
    "    if name in [\"mse\", \"mae\", \"rmse\", \"mape\", \"smape\"]:\n",
    "        name = name.upper()\n",
    "    else:\n",
    "        name = name.capitalize()\n",
    "    sns.stripplot(x=[name] * len(values), y=values, label=None, alpha=0.7, size=4)\n",
    "    median_value = np.median(values)\n",
    "    print(f\"{name} median: {median_value}\")\n",
    "    # print(np.isnan(median_value))\n",
    "    plt.hlines(\n",
    "        y=median_value, xmin=i - 0.2, xmax=i + 0.2, color=\"black\", linewidth=2, zorder=3\n",
    "    )  # Added horizontal line for median\n",
    "plt.yscale(\"log\")\n",
    "plt.ylim(1e-5, 1e5)\n",
    "plt.title(\"Chronos Finetune\", fontweight=\"bold\")\n",
    "\n",
    "# plt.legend(title=\"Metrics\", frameon=True, fontsize=6)\n",
    "plt.savefig(os.path.join(figs_save_dir, f\"{run_name}_metrics_strip.pdf\"))"
   ]
  },
  {
   "cell_type": "code",
   "execution_count": null,
   "metadata": {},
   "outputs": [],
   "source": [
    "def get_summary_metrics_dict(unrolled_metrics, metric_name):\n",
    "    summary_metrics_dict = defaultdict(dict)\n",
    "    for model_name, metrics_dict in unrolled_metrics.items():\n",
    "        print(model_name)\n",
    "        prediction_lengths = list(metrics_dict.keys())\n",
    "        summary_metrics_dict[model_name][\"prediction_lengths\"] = prediction_lengths\n",
    "        means = []\n",
    "        medians = []\n",
    "        stds = []\n",
    "        for prediction_length in prediction_lengths:\n",
    "            metric_val = metrics_dict[prediction_length][metric_name]\n",
    "            means.append(np.mean(metric_val))\n",
    "            medians.append(np.median(metric_val))\n",
    "            stds.append(np.std(metric_val))\n",
    "        summary_metrics_dict[model_name][\"means\"] = means\n",
    "        summary_metrics_dict[model_name][\"medians\"] = medians\n",
    "        summary_metrics_dict[model_name][\"stds\"] = stds\n",
    "    return summary_metrics_dict"
   ]
  },
  {
   "cell_type": "code",
   "execution_count": null,
   "metadata": {},
   "outputs": [],
   "source": [
    "smape_metrics_dict = get_summary_metrics_dict(unrolled_metrics, \"smape\")"
   ]
  },
  {
   "cell_type": "code",
   "execution_count": null,
   "metadata": {},
   "outputs": [],
   "source": [
    "smape_metrics_dict[\"Model 385\"].keys()"
   ]
  },
  {
   "cell_type": "code",
   "execution_count": null,
   "metadata": {},
   "outputs": [],
   "source": [
    "def plot_metrics_by_prediction_length(\n",
    "    metrics_dict, metric_name, show_std_envelope=False\n",
    "):\n",
    "    plt.figure(figsize=(5, 4))\n",
    "    for model_name, metrics in metrics_dict.items():\n",
    "        plt.plot(\n",
    "            metrics[\"prediction_lengths\"],\n",
    "            metrics[\"medians\"],\n",
    "            marker=\"o\",\n",
    "            label=model_name,\n",
    "        )\n",
    "        std_envelope = np.array(metrics[\"stds\"])\n",
    "        if show_std_envelope:\n",
    "            plt.fill_between(\n",
    "                metrics[\"prediction_lengths\"],\n",
    "                metrics[\"means\"] - std_envelope,\n",
    "                metrics[\"means\"] + std_envelope,\n",
    "                alpha=0.2,\n",
    "            )\n",
    "    plt.legend(loc=\"lower right\")\n",
    "    plt.xlabel(\"Prediction Length\")\n",
    "    plt.title(metric_name, fontweight=\"bold\")"
   ]
  },
  {
   "cell_type": "code",
   "execution_count": null,
   "metadata": {},
   "outputs": [],
   "source": [
    "plot_metrics_by_prediction_length(smape_metrics_dict, \"sMAPE\", show_std_envelope=True)"
   ]
  },
  {
   "cell_type": "code",
   "execution_count": null,
   "metadata": {},
   "outputs": [],
   "source": [
    "all_metrics_dict = {\n",
    "    metrics_name: get_summary_metrics_dict(unrolled_metrics, metrics_name)\n",
    "    for metrics_name in [\n",
    "        \"mse\",\n",
    "        \"mae\",\n",
    "        \"mape\",\n",
    "        \"smape\",\n",
    "        \"r2_score\",\n",
    "        \"pearson\",\n",
    "        \"spearman\",\n",
    "    ]\n",
    "}"
   ]
  },
  {
   "cell_type": "code",
   "execution_count": null,
   "metadata": {},
   "outputs": [],
   "source": [
    "plot_metrics_by_prediction_length(\n",
    "    all_metrics_dict[\"r2_score\"], \"R2 Score\", show_std_envelope=False\n",
    ")"
   ]
  },
  {
   "cell_type": "code",
   "execution_count": null,
   "metadata": {},
   "outputs": [],
   "source": [
    "all_metrics_dict.keys()"
   ]
  },
  {
   "cell_type": "code",
   "execution_count": null,
   "metadata": {},
   "outputs": [],
   "source": [
    "all_metrics_dict[\"mse\"].keys()"
   ]
  },
  {
   "cell_type": "code",
   "execution_count": null,
   "metadata": {},
   "outputs": [],
   "source": [
    "def plot_all_metrics_by_prediction_length(\n",
    "    all_metrics_dict: dict[str, dict[str, dict[str, list[float]]]],\n",
    "    metric_names: list[str],\n",
    "    metrics_to_show_std_envelope: list[str],\n",
    "    n_rows: int = 2,\n",
    "    n_cols: int = 3,\n",
    "):\n",
    "    num_metrics = len(metric_names)\n",
    "    fig, axes = plt.subplots(\n",
    "        nrows=n_rows, ncols=n_cols, figsize=(4 * n_cols, 4 * n_rows)\n",
    "    )\n",
    "    axes = axes.flatten()  # Flatten the axes array for easy iteration\n",
    "\n",
    "    for i, (ax, metric_name) in enumerate(zip(axes, metric_names)):\n",
    "        metrics_dict = all_metrics_dict[metric_name]\n",
    "        for model_name, metrics in metrics_dict.items():\n",
    "            print(model_name)\n",
    "            print(metrics.keys())\n",
    "            ax.plot(\n",
    "                metrics[\"prediction_lengths\"],\n",
    "                metrics[\"medians\"],\n",
    "                marker=\"o\",\n",
    "                label=model_name,\n",
    "            )\n",
    "            std_envelope = np.array(metrics[\"stds\"])\n",
    "            if metric_name in metrics_to_show_std_envelope:\n",
    "                ax.fill_between(\n",
    "                    metrics[\"prediction_lengths\"],\n",
    "                    metrics[\"means\"] - std_envelope,\n",
    "                    metrics[\"means\"] + std_envelope,\n",
    "                    alpha=0.2,\n",
    "                )\n",
    "        if i == 0:\n",
    "            ax.legend(loc=\"lower right\", frameon=True)\n",
    "        ax.set_xlabel(\"Prediction Length\")\n",
    "        ax.set_xticks(metrics[\"prediction_lengths\"])\n",
    "        name = metric_name.replace(\"_\", \" \")\n",
    "        if name in [\"mse\", \"mae\", \"rmse\", \"mape\", \"smape\"]:\n",
    "            name = name.upper()\n",
    "        else:\n",
    "            name = name.capitalize()\n",
    "        ax.set_title(name, fontweight=\"bold\")\n",
    "\n",
    "    # Hide any unused subplots\n",
    "    for ax in axes[num_metrics:]:\n",
    "        ax.set_visible(False)\n",
    "\n",
    "    plt.tight_layout()\n",
    "    plt.show()"
   ]
  },
  {
   "cell_type": "code",
   "execution_count": null,
   "metadata": {},
   "outputs": [],
   "source": [
    "plot_all_metrics_by_prediction_length(\n",
    "    all_metrics_dict,\n",
    "    [\"mse\", \"mape\", \"smape\", \"r2_score\", \"pearson\", \"spearman\"],\n",
    "    metrics_to_show_std_envelope=[\"smape\", \"pearson\", \"spearman\"],\n",
    ")"
   ]
  },
  {
   "cell_type": "code",
   "execution_count": null,
   "metadata": {},
   "outputs": [],
   "source": []
  }
 ],
 "metadata": {
  "kernelspec": {
   "display_name": "dystformer",
   "language": "python",
   "name": "python3"
  },
  "language_info": {
   "codemirror_mode": {
    "name": "ipython",
    "version": 3
   },
   "file_extension": ".py",
   "mimetype": "text/x-python",
   "name": "python",
   "nbconvert_exporter": "python",
   "pygments_lexer": "ipython3",
   "version": "3.10.14"
  }
 },
 "nbformat": 4,
 "nbformat_minor": 2
}
