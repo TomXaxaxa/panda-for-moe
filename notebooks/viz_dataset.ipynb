{
 "cells": [
  {
   "cell_type": "code",
   "execution_count": null,
   "metadata": {},
   "outputs": [],
   "source": [
    "%load_ext autoreload\n",
    "%autoreload 2"
   ]
  },
  {
   "cell_type": "code",
   "execution_count": null,
   "metadata": {},
   "outputs": [],
   "source": [
    "import os\n",
    "from pathlib import Path\n",
    "from typing import Any\n",
    "\n",
    "import dysts.flows as flows\n",
    "import numpy as np\n",
    "\n",
    "from dystformer.utils import make_ensemble_from_arrow_dir"
   ]
  },
  {
   "cell_type": "code",
   "execution_count": null,
   "metadata": {},
   "outputs": [],
   "source": [
    "import matplotlib.pyplot as plt\n",
    "from matplotlib.colors import TABLEAU_COLORS\n",
    "\n",
    "from dystformer.utils import apply_custom_style, safe_standardize\n",
    "\n",
    "COLORS = list(TABLEAU_COLORS.values())\n",
    "\n",
    "# Apply matplotlib style from config\n",
    "apply_custom_style(\"../config/plotting.yaml\")"
   ]
  },
  {
   "cell_type": "code",
   "execution_count": null,
   "metadata": {},
   "outputs": [],
   "source": [
    "WORK_DIR = os.getenv(\"WORK\", \"\")\n",
    "DATA_DIR = os.path.join(WORK_DIR, \"data\")"
   ]
  },
  {
   "cell_type": "code",
   "execution_count": null,
   "metadata": {},
   "outputs": [],
   "source": [
    "np.arange(0, 10, 1)"
   ]
  },
  {
   "cell_type": "code",
   "execution_count": null,
   "metadata": {},
   "outputs": [],
   "source": [
    "def plot_grid_trajs_multivariate(\n",
    "    ensemble: dict[str, np.ndarray],\n",
    "    save_path: str | None = None,\n",
    "    standardize: bool = False,\n",
    "    dims_3d: list[int] = [0, 1, 2],\n",
    "    sample_indices: list[int] | np.ndarray | None = None,\n",
    "    n_rows_cols: tuple[int, int] | None = None,\n",
    "    subplot_size: tuple[int, int] = (3, 3),\n",
    "    row_col_padding: tuple[float, float] = (0.2, 0.2),\n",
    "    plot_kwargs: dict[str, Any] = {},\n",
    "    scatter_kwargs: dict[str, Any] = {},\n",
    "    title_kwargs: dict[str, Any] = {},\n",
    "    color: str = \"black\",\n",
    "    show_start_end: bool = True,\n",
    "    show_titles: bool = True,\n",
    ") -> None:\n",
    "    n_systems = len(ensemble)\n",
    "    if n_rows_cols is None:\n",
    "        n_rows = int(np.ceil(np.sqrt(n_systems)))\n",
    "        n_cols = int(np.ceil(n_systems / n_rows))\n",
    "    else:\n",
    "        n_rows, n_cols = n_rows_cols\n",
    "\n",
    "    row_padding, column_padding = row_col_padding\n",
    "    figsize = (\n",
    "        n_cols * subplot_size[0] * (1 + column_padding),\n",
    "        n_rows * subplot_size[1] * (1 + row_padding),\n",
    "    )\n",
    "    fig = plt.figure(figsize=figsize)\n",
    "\n",
    "    if sample_indices is None:\n",
    "        sample_indices = np.zeros(len(ensemble), dtype=int)\n",
    "\n",
    "    for i, (system_name, trajectories) in enumerate(ensemble.items()):\n",
    "        assert trajectories.shape[1] >= len(dims_3d), (\n",
    "            f\"Data has {trajectories.shape[1]} dimensions, but {len(dims_3d)} dimensions were requested for plotting\"\n",
    "        )\n",
    "\n",
    "        if standardize:\n",
    "            trajectories = safe_standardize(trajectories)\n",
    "\n",
    "        ax = fig.add_subplot(n_rows, n_cols, i + 1, projection=\"3d\")\n",
    "\n",
    "        sample_idx = sample_indices[i]\n",
    "        xyz = trajectories[sample_idx, dims_3d, :]\n",
    "        ax.plot(*xyz, **plot_kwargs, color=color)\n",
    "\n",
    "        if show_start_end:\n",
    "            ic_pt = xyz[:, 0]\n",
    "            ax.scatter(*ic_pt, marker=\"*\", **scatter_kwargs, color=color)\n",
    "\n",
    "            end_pt = xyz[:, -1]\n",
    "            ax.scatter(*end_pt, marker=\"x\", **scatter_kwargs, color=color)\n",
    "\n",
    "        if show_titles:\n",
    "            system_name_title = system_name.replace(\"_\", \" + \")\n",
    "            ax.set_title(f\"{system_name_title}\", **title_kwargs)\n",
    "        fig.patch.set_facecolor(\"white\")  # Set the figure's face color to white\n",
    "        ax.set_facecolor(\"white\")  # Set the axes' face color to white\n",
    "        # Hide tick marks\n",
    "        ax.set_xticks([])\n",
    "        ax.set_yticks([])\n",
    "        ax.set_zticks([])  # type: ignore\n",
    "        # Hide axes\n",
    "        ax.set_axis_off()\n",
    "        # Ensure 3D grid is off\n",
    "        ax.grid(False)\n",
    "        ax.grid(False)\n",
    "\n",
    "    plt.subplots_adjust(hspace=row_padding, wspace=column_padding)\n",
    "\n",
    "    plt.tight_layout()\n",
    "    if save_path is not None:\n",
    "        os.makedirs(os.path.dirname(save_path), exist_ok=True)\n",
    "        print(\"Plotting grid of 3D trajectories and saving to \", save_path)\n",
    "        plt.savefig(save_path)\n",
    "    plt.show()\n",
    "    plt.close()"
   ]
  },
  {
   "cell_type": "code",
   "execution_count": null,
   "metadata": {},
   "outputs": [],
   "source": [
    "def make_response_ensemble(ensemble: dict[str, np.ndarray]) -> dict[str, np.ndarray]:\n",
    "    \"\"\"\n",
    "    Make an ensemble of just the response coordinates for each system in ensemble.\n",
    "    Use case: when saving the concatenated driver and response coordinates of skew system.\n",
    "    \"\"\"\n",
    "    driver_dims = {\n",
    "        sys: getattr(flows, sys.split(\"_\")[0])().dimension for sys in ensemble.keys()\n",
    "    }\n",
    "    print(\"got driver dims\")\n",
    "    response_ensemble = {\n",
    "        sys: ensemble[sys][:, driver_dims[sys] :, :] for sys in ensemble.keys()\n",
    "    }\n",
    "    return response_ensemble"
   ]
  },
  {
   "cell_type": "code",
   "execution_count": null,
   "metadata": {},
   "outputs": [],
   "source": [
    "rseed = 443\n",
    "split_name = \"improved/final_skew40/train\"\n",
    "n_systems_plot = 10\n",
    "n_samples_plot = 1\n",
    "\n",
    "rng = np.random.default_rng(rseed)\n",
    "split_dir = os.path.join(DATA_DIR, split_name)"
   ]
  },
  {
   "cell_type": "code",
   "execution_count": null,
   "metadata": {},
   "outputs": [],
   "source": [
    "selected_dyst_names = [\n",
    "    \"LorenzCoupled_HyperPang\",\n",
    "    \"Bouali2_StickSlipOscillator\",\n",
    "    \"ThomasLabyrinth_TurchinHanski\",\n",
    "    \"HyperXu_LorenzCoupled\",\n",
    "    \"BlinkingRotlet_YuWang2\",\n",
    "    # \"Laser_IsothermalChemical\",\n",
    "    \"DoubleGyre_SanUmSrisuchinwong\",\n",
    "    \"SwingingAtwood_Finance\",\n",
    "    \"DequanLi_HenonHeiles\",\n",
    "    # \"CellularNeuralNetwork_SprottC\",\n",
    "    \"CellCycle_HyperWang\",\n",
    "    # \"Thomas_WindmiReduced\",\n",
    "    # \"CoevolvingPredatorPrey_HyperPang\",\n",
    "    # \"SprottM_Torus\",\n",
    "    # \"PehlivanWei_NuclearQuadrupole\",\n",
    "    # \"RayleighBenard_IsothermalChemical\",\n",
    "    \"RikitakeDynamo_Aizawa\",\n",
    "    # # \"ItikBanksTumor_Lorenz\",\n",
    "    # \"Colpitts_ForcedVanDerPol\",\n",
    "    # # \"ForcedBrusselator_Lorenz96\",\n",
    "    # # \"Lorenz96_Chua\",\n",
    "    # \"Halvorsen_SprottM\",\n",
    "]\n",
    "n_selected_systems = len(selected_dyst_names)\n",
    "print(\"number of selected systems: \", len(selected_dyst_names))"
   ]
  },
  {
   "cell_type": "code",
   "execution_count": null,
   "metadata": {},
   "outputs": [],
   "source": [
    "if n_selected_systems < n_systems_plot:\n",
    "    all_dyst_names_lst = [\n",
    "        folder.name for folder in Path(split_dir).iterdir() if folder.is_dir()\n",
    "    ]\n",
    "    # Filter out selected systems from all_dyst_names_lst\n",
    "    filtered_dyst_names = [\n",
    "        name for name in all_dyst_names_lst if name not in selected_dyst_names\n",
    "    ]\n",
    "    # Randomly sample the required number of systems\n",
    "    dyst_names_lst = rng.choice(\n",
    "        filtered_dyst_names, size=(n_systems_plot - n_selected_systems), replace=False\n",
    "    ).tolist()\n",
    "else:\n",
    "    dyst_names_lst = selected_dyst_names\n",
    "\n",
    "dyst_names_lst.extend(selected_dyst_names)\n",
    "print(f\"dyst names: {dyst_names_lst}\")\n",
    "print(\"number of systems: \", len(dyst_names_lst))"
   ]
  },
  {
   "cell_type": "code",
   "execution_count": null,
   "metadata": {},
   "outputs": [],
   "source": [
    "plot_name_suffix = \"_\".join(split_name.split(\"/\"))\n",
    "plot_save_dir = \"dataset_figs\""
   ]
  },
  {
   "cell_type": "code",
   "execution_count": null,
   "metadata": {},
   "outputs": [],
   "source": [
    "ensemble = make_ensemble_from_arrow_dir(\n",
    "    DATA_DIR, split_name, dyst_names_lst=dyst_names_lst\n",
    ")"
   ]
  },
  {
   "cell_type": "code",
   "execution_count": null,
   "metadata": {},
   "outputs": [],
   "source": [
    "n_systems = len(ensemble)\n",
    "# assert n_systems == n_systems_plot\n",
    "default_name = f\"{n_systems}_systems\"\n",
    "\n",
    "plot_name = f\"{default_name}_{plot_name_suffix}\" if plot_name_suffix else default_name\n",
    "save_path = os.path.join(plot_save_dir, f\"{plot_name}.pdf\")"
   ]
  },
  {
   "cell_type": "code",
   "execution_count": null,
   "metadata": {},
   "outputs": [],
   "source": [
    "sample_indices = [0] * n_systems"
   ]
  },
  {
   "cell_type": "code",
   "execution_count": null,
   "metadata": {},
   "outputs": [],
   "source": [
    "len(ensemble)"
   ]
  },
  {
   "cell_type": "code",
   "execution_count": null,
   "metadata": {},
   "outputs": [],
   "source": [
    "plot_grid_trajs_multivariate(\n",
    "    ensemble,\n",
    "    save_path=save_path,\n",
    "    standardize=True,\n",
    "    sample_indices=sample_indices,\n",
    "    n_rows_cols=(2, 5),\n",
    "    subplot_size=(4, 4),\n",
    "    row_col_padding=(0.0, 0.00),\n",
    "    plot_kwargs={\"linewidth\": 0.3, \"alpha\": 0.8},\n",
    "    title_kwargs={\"fontweight\": \"bold\"},\n",
    "    color=\"black\",\n",
    "    show_start_end=False,\n",
    "    show_titles=False,\n",
    ")"
   ]
  },
  {
   "cell_type": "code",
   "execution_count": null,
   "metadata": {},
   "outputs": [],
   "source": []
  },
  {
   "cell_type": "code",
   "execution_count": null,
   "metadata": {},
   "outputs": [],
   "source": []
  }
 ],
 "metadata": {
  "kernelspec": {
   "display_name": "dystformer",
   "language": "python",
   "name": "python3"
  },
  "language_info": {
   "codemirror_mode": {
    "name": "ipython",
    "version": 3
   },
   "file_extension": ".py",
   "mimetype": "text/x-python",
   "name": "python",
   "nbconvert_exporter": "python",
   "pygments_lexer": "ipython3",
   "version": "3.10.14"
  }
 },
 "nbformat": 4,
 "nbformat_minor": 2
}
