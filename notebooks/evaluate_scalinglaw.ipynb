{
 "cells": [
  {
   "cell_type": "code",
   "execution_count": null,
   "metadata": {},
   "outputs": [],
   "source": [
    "import os\n",
    "from collections import defaultdict\n",
    "from typing import Literal\n",
    "\n",
    "import matplotlib.pyplot as plt\n",
    "import numpy as np\n",
    "import pandas as pd\n",
    "\n",
    "from dystformer.utils import apply_custom_style, make_box_plot"
   ]
  },
  {
   "cell_type": "code",
   "execution_count": null,
   "metadata": {},
   "outputs": [],
   "source": [
    "apply_custom_style(\"../config/plotting.yaml\")"
   ]
  },
  {
   "cell_type": "code",
   "execution_count": null,
   "metadata": {},
   "outputs": [],
   "source": [
    "figs_save_dir = os.path.join(\"../figs\", \"eval_metrics\")\n",
    "os.makedirs(figs_save_dir, exist_ok=True)"
   ]
  },
  {
   "cell_type": "code",
   "execution_count": null,
   "metadata": {},
   "outputs": [],
   "source": [
    "WORK_DIR = os.getenv(\"WORK\", \"\")\n",
    "DATA_DIR = os.path.join(WORK_DIR, \"data\")"
   ]
  },
  {
   "cell_type": "code",
   "execution_count": null,
   "metadata": {},
   "outputs": [],
   "source": [
    "scalinglaw_splits = [2**i for i in range(0, 8)]"
   ]
  },
  {
   "cell_type": "code",
   "execution_count": null,
   "metadata": {},
   "outputs": [],
   "source": [
    "scalinglaw_splits"
   ]
  },
  {
   "cell_type": "code",
   "execution_count": null,
   "metadata": {},
   "outputs": [],
   "source": [
    "# data_split = \"final_skew40/test_zeroshot\"\n",
    "data_split = \"test_zeroshot\"\n",
    "\n",
    "run_names_chattn = {\n",
    "    \"ic1\": \"pft_chattn_noembed_pretrained_correct-0\",\n",
    "    \"ic2\": \"pft_chattn_mlm_sys10490_ic2-0\",\n",
    "    \"ic4\": \"pft_chattn_mlm_sys5245_ic4-0\",\n",
    "    \"ic8\": \"pft_chattn_mlm_sys2623_ic8-0\",\n",
    "    \"ic16\": \"pft_chattn_mlm_sys1312_ic16-0\",\n",
    "    \"ic32\": \"pft_chattn_mlm_sys656_ic32-0\",\n",
    "    \"ic64\": \"pft_chattn_mlm_sys328_ic64-0\",\n",
    "    \"ic128\": \"pft_chattn_mlm_sys164_ic128-0\",\n",
    "}\n",
    "\n",
    "run_metrics_dirs_all_groups = {\n",
    "    \"chattn\": {\n",
    "        run_abbrv: os.path.join(\n",
    "            WORK_DIR,\n",
    "            \"eval_results\",\n",
    "            \"patchtst\",\n",
    "            run_name,\n",
    "            data_split,\n",
    "        )\n",
    "        for run_abbrv, run_name in run_names_chattn.items()\n",
    "    },\n",
    "}"
   ]
  },
  {
   "cell_type": "code",
   "execution_count": null,
   "metadata": {},
   "outputs": [],
   "source": [
    "run_metrics_dirs_all_groups"
   ]
  },
  {
   "cell_type": "code",
   "execution_count": null,
   "metadata": {},
   "outputs": [],
   "source": [
    "metrics_all = defaultdict(lambda: defaultdict(dict))\n",
    "for run_group, run_metrics_dir_dict in run_metrics_dirs_all_groups.items():\n",
    "    print(f\"Run group: {run_group}\")\n",
    "    for run_abbrv, run_metrics_dir in run_metrics_dir_dict.items():\n",
    "        if not os.path.exists(run_metrics_dir):\n",
    "            print(\n",
    "                f\"Run metrics directory does not exist for {run_abbrv}: {run_metrics_dir}\"\n",
    "            )\n",
    "            continue\n",
    "        run_abbrv = str(run_abbrv)\n",
    "        print(f\"{run_abbrv}: {run_metrics_dir}\")\n",
    "        for file in sorted(\n",
    "            os.listdir(run_metrics_dir),\n",
    "            key=lambda x: int(x.split(\"_pred\")[1].split(\".csv\")[0]),\n",
    "        ):\n",
    "            if file.endswith(\".csv\"):\n",
    "                prediction_length = int(file.split(\"_pred\")[1].split(\".csv\")[0])\n",
    "                # print(f\"Prediction length: {prediction_length} for {run_abbrv}\")\n",
    "                with open(os.path.join(run_metrics_dir, file), \"r\") as f:\n",
    "                    metrics = pd.read_csv(f).to_dict()\n",
    "                    metrics_all[run_group][run_abbrv][prediction_length] = metrics"
   ]
  },
  {
   "cell_type": "markdown",
   "metadata": {},
   "source": []
  },
  {
   "cell_type": "code",
   "execution_count": null,
   "metadata": {},
   "outputs": [],
   "source": [
    "metrics_all.keys()"
   ]
  },
  {
   "cell_type": "code",
   "execution_count": null,
   "metadata": {},
   "outputs": [],
   "source": [
    "unrolled_metrics_all_groups = defaultdict(lambda: defaultdict(dict))\n",
    "for run_group, all_metrics_of_run_group in metrics_all.items():\n",
    "    # print(run_group)\n",
    "    for run_abbrv, all_metrics_of_run_abbrv in all_metrics_of_run_group.items():\n",
    "        # print(run_abbrv)\n",
    "        for run_name, metrics in all_metrics_of_run_abbrv.items():\n",
    "            # print(run_name)\n",
    "            systems = metrics.pop(\"system\")\n",
    "            metrics_unrolled = {k: list(v.values()) for k, v in metrics.items()}\n",
    "            # print(metrics_unrolled.keys())\n",
    "            unrolled_metrics_all_groups[run_group][run_abbrv][run_name] = (\n",
    "                metrics_unrolled\n",
    "            )"
   ]
  },
  {
   "cell_type": "code",
   "execution_count": null,
   "metadata": {},
   "outputs": [],
   "source": [
    "unrolled_metrics_all_combined = {\n",
    "    **unrolled_metrics_all_groups[\"chattn\"],\n",
    "}"
   ]
  },
  {
   "cell_type": "code",
   "execution_count": null,
   "metadata": {},
   "outputs": [],
   "source": [
    "def get_summary_metrics_dict(unrolled_metrics, metric_name):\n",
    "    summary_metrics_dict = defaultdict(dict)\n",
    "    for model_name, metrics_dict in unrolled_metrics.items():\n",
    "        prediction_lengths = list(metrics_dict.keys())\n",
    "        summary_metrics_dict[model_name][\"prediction_lengths\"] = prediction_lengths\n",
    "        means = []\n",
    "        medians = []\n",
    "        stds = []\n",
    "        for prediction_length in prediction_lengths:\n",
    "            metric_val = metrics_dict[prediction_length][metric_name]\n",
    "            means.append(np.nanmean(metric_val))\n",
    "            medians.append(np.nanmedian(metric_val))\n",
    "            stds.append(np.nanstd(metric_val))\n",
    "        summary_metrics_dict[model_name][\"means\"] = means\n",
    "        summary_metrics_dict[model_name][\"medians\"] = medians\n",
    "        summary_metrics_dict[model_name][\"stds\"] = stds\n",
    "    return summary_metrics_dict"
   ]
  },
  {
   "cell_type": "code",
   "execution_count": null,
   "metadata": {},
   "outputs": [],
   "source": [
    "def plot_metrics_by_prediction_length(\n",
    "    metrics_dict, metric_name, show_std_envelope=False\n",
    "):\n",
    "    plt.figure(figsize=(5, 4))\n",
    "    for model_name, metrics in metrics_dict.items():\n",
    "        plt.plot(\n",
    "            metrics[\"prediction_lengths\"],\n",
    "            metrics[\"medians\"],\n",
    "            marker=\"o\",\n",
    "            label=model_name,\n",
    "        )\n",
    "        std_envelope = np.array(metrics[\"stds\"])\n",
    "        if show_std_envelope:\n",
    "            plt.fill_between(\n",
    "                metrics[\"prediction_lengths\"],\n",
    "                metrics[\"means\"] - std_envelope,\n",
    "                metrics[\"means\"] + std_envelope,\n",
    "                alpha=0.2,\n",
    "            )\n",
    "    plt.legend(loc=\"lower right\")\n",
    "    plt.xlabel(\"Prediction Length\")\n",
    "    plt.title(metric_name, fontweight=\"bold\")"
   ]
  },
  {
   "cell_type": "code",
   "execution_count": null,
   "metadata": {},
   "outputs": [],
   "source": [
    "run_metrics_dirs_all_groups.keys()"
   ]
  },
  {
   "cell_type": "code",
   "execution_count": null,
   "metadata": {},
   "outputs": [],
   "source": [
    "metric_names_chosen = [\n",
    "    \"mse\",\n",
    "    \"mae\",\n",
    "    \"smape\",\n",
    "    \"spearman\",\n",
    "]"
   ]
  },
  {
   "cell_type": "code",
   "execution_count": null,
   "metadata": {},
   "outputs": [],
   "source": [
    "all_metrics_dict = defaultdict(dict)\n",
    "\n",
    "for run_group in run_metrics_dirs_all_groups.keys():\n",
    "    all_metrics_dict[run_group] = {\n",
    "        metrics_name: get_summary_metrics_dict(\n",
    "            unrolled_metrics_all_groups[run_group], metrics_name\n",
    "        )\n",
    "        for metrics_name in metric_names_chosen\n",
    "    }"
   ]
  },
  {
   "cell_type": "code",
   "execution_count": null,
   "metadata": {},
   "outputs": [],
   "source": [
    "default_colors = plt.cm.tab10.colors"
   ]
  },
  {
   "cell_type": "code",
   "execution_count": null,
   "metadata": {},
   "outputs": [],
   "source": [
    "all_metrics_dict[\"chattn\"][\"mse\"].keys()"
   ]
  },
  {
   "cell_type": "code",
   "execution_count": null,
   "metadata": {},
   "outputs": [],
   "source": [
    "unrolled_metrics_all_groups[\"chattn\"].keys()"
   ]
  },
  {
   "cell_type": "code",
   "execution_count": null,
   "metadata": {},
   "outputs": [],
   "source": [
    "unrolled_metrics_all_combined.keys()"
   ]
  },
  {
   "cell_type": "code",
   "execution_count": null,
   "metadata": {},
   "outputs": [],
   "source": [
    "n_runs = len(unrolled_metrics_all_combined)\n",
    "print(n_runs)"
   ]
  },
  {
   "cell_type": "code",
   "execution_count": null,
   "metadata": {},
   "outputs": [],
   "source": [
    "bar_colors = plt.cm.Blues(np.linspace(1.0, 0.1, n_runs)).tolist()\n",
    "print(len(bar_colors))"
   ]
  },
  {
   "cell_type": "code",
   "execution_count": null,
   "metadata": {},
   "outputs": [],
   "source": [
    "selected_pred_length = 512"
   ]
  },
  {
   "cell_type": "code",
   "execution_count": null,
   "metadata": {},
   "outputs": [],
   "source": [
    "unrolled_metrics_all_combined.keys()"
   ]
  },
  {
   "cell_type": "code",
   "execution_count": null,
   "metadata": {},
   "outputs": [],
   "source": [
    "unrolled_metrics_all_combined[\"ic2\"].keys()"
   ]
  },
  {
   "cell_type": "code",
   "execution_count": null,
   "metadata": {},
   "outputs": [],
   "source": [
    "unrolled_metrics_all_combined[\"ic2\"][128].keys()"
   ]
  },
  {
   "cell_type": "code",
   "execution_count": null,
   "metadata": {},
   "outputs": [],
   "source": [
    "ic_to_n_systems = {\n",
    "    \"ic1\": 20979,\n",
    "    \"ic2\": 10490,\n",
    "    \"ic4\": 5245,\n",
    "    \"ic8\": 2623,\n",
    "    \"ic16\": 1312,\n",
    "    \"ic32\": 656,\n",
    "    \"ic64\": 328,\n",
    "    \"ic128\": 164,\n",
    "}"
   ]
  },
  {
   "cell_type": "code",
   "execution_count": null,
   "metadata": {},
   "outputs": [],
   "source": [
    "def make_scaling_plot(\n",
    "    unrolled_metrics: dict,\n",
    "    prediction_length: int = 128,\n",
    "    metric_to_plot: str = \"smape\",\n",
    "    stat_to_plot: Literal[\"median\", \"mean\"] = \"median\",\n",
    "    colormap: str = \"Blues\",\n",
    "    legend_kwargs: dict = {},\n",
    "    figsize: tuple = (4, 4),\n",
    "    save_path: str | None = None,\n",
    "    use_inv_spearman: bool = True,\n",
    "    show_legend: bool = True,\n",
    "    title: str | None = None,\n",
    ") -> None:\n",
    "    if metric_to_plot == \"smape\":\n",
    "        metric_to_plot_title = \"sMAPE\"\n",
    "    elif metric_to_plot == \"spearman\" and use_inv_spearman:\n",
    "        metric_to_plot_title = \"1 - Spearman\"\n",
    "    else:\n",
    "        metric_to_plot_title = metric_to_plot.upper()\n",
    "\n",
    "    metric_at_predlength = defaultdict(list)\n",
    "    for ic_split, metrics_by_predlength_dict in unrolled_metrics.items():\n",
    "        n_systems = ic_to_n_systems[ic_split]\n",
    "        metric_at_predlength[n_systems] = metrics_by_predlength_dict[prediction_length][\n",
    "            metric_to_plot\n",
    "        ]\n",
    "    # sort metric_at_predlength by n_systems\n",
    "    metric_at_predlength = dict(sorted(metric_at_predlength.items()))\n",
    "    # make line plot of medians of metric_at_predlength\n",
    "    colors = plt.cm.get_cmap(colormap)(np.linspace(0, 1.0, len(metric_at_predlength)))\n",
    "    plt.figure(figsize=figsize)\n",
    "    for i, (n_systems, metric_vals) in enumerate(metric_at_predlength.items()):\n",
    "        metric_vals = np.array(metric_vals)\n",
    "        # get rid of nan values\n",
    "        metric_vals = metric_vals[~np.isnan(metric_vals)]\n",
    "        if metric_to_plot == \"spearman\" and use_inv_spearman:\n",
    "            metric_vals = 1 - metric_vals\n",
    "\n",
    "        if stat_to_plot == \"median\":\n",
    "            median_vals = np.median(metric_vals)\n",
    "            # Create a custom boxplot similar to make_box_plot function\n",
    "            box_percentile_range = (40, 60)\n",
    "            whisker_percentile_range = (25, 75)\n",
    "            box_width = 0.5 * n_systems  # NOTE: this assumes x-axis is log scale\n",
    "            alpha_val = 0.8\n",
    "\n",
    "            # Calculate the percentiles\n",
    "            lower_box, upper_box = np.percentile(metric_vals, box_percentile_range)\n",
    "            lower_whisker, upper_whisker = np.percentile(\n",
    "                metric_vals, whisker_percentile_range\n",
    "            )\n",
    "\n",
    "            # Box width and spacing parameters\n",
    "            box_half_width = box_width / 2\n",
    "            whisker_cap_width = box_half_width * 0.5\n",
    "            # Box\n",
    "            box = plt.Rectangle(\n",
    "                (n_systems - box_half_width, lower_box),\n",
    "                box_width,\n",
    "                upper_box - lower_box,\n",
    "                fill=True,\n",
    "                facecolor=colors[i],\n",
    "                alpha=alpha_val,\n",
    "                linewidth=1,\n",
    "                edgecolor=\"black\",\n",
    "                zorder=5,\n",
    "                label=rf\"$N_{{sys}}={n_systems}$\",\n",
    "            )\n",
    "            plt.gca().add_patch(box)\n",
    "\n",
    "            # Median line\n",
    "            plt.hlines(\n",
    "                median_vals,\n",
    "                n_systems - box_half_width,\n",
    "                n_systems + box_half_width,\n",
    "                colors=\"black\",\n",
    "                linewidth=2.5,\n",
    "                zorder=10,\n",
    "            )\n",
    "\n",
    "            # Whiskers\n",
    "            plt.vlines(\n",
    "                n_systems,\n",
    "                lower_box,\n",
    "                lower_whisker,\n",
    "                colors=\"black\",\n",
    "                linestyle=\"-\",\n",
    "                linewidth=1,\n",
    "                zorder=5,\n",
    "            )\n",
    "            plt.vlines(\n",
    "                n_systems,\n",
    "                upper_box,\n",
    "                upper_whisker,\n",
    "                colors=\"black\",\n",
    "                linestyle=\"-\",\n",
    "                linewidth=1,\n",
    "                zorder=5,\n",
    "            )\n",
    "\n",
    "            # Caps on whiskers\n",
    "            plt.hlines(\n",
    "                lower_whisker,\n",
    "                n_systems - whisker_cap_width,\n",
    "                n_systems + whisker_cap_width,\n",
    "                colors=\"black\",\n",
    "                linewidth=1,\n",
    "                zorder=5,\n",
    "            )\n",
    "            plt.hlines(\n",
    "                upper_whisker,\n",
    "                n_systems - whisker_cap_width,\n",
    "                n_systems + whisker_cap_width,\n",
    "                colors=\"black\",\n",
    "                linewidth=1,\n",
    "                zorder=5,\n",
    "            )\n",
    "        elif stat_to_plot == \"mean\":\n",
    "            mean_vals = np.mean(metric_vals)\n",
    "            std_vals = np.std(metric_vals)\n",
    "            ste_vals = std_vals / np.sqrt(len(metric_vals))\n",
    "\n",
    "            plt.scatter(\n",
    "                n_systems,\n",
    "                mean_vals,\n",
    "                s=36,  # equivalent to markersize=6 squared\n",
    "                edgecolors=\"black\",\n",
    "                linewidths=0.2,\n",
    "                label=rf\"$N_{{sys}}={n_systems}$\",\n",
    "                color=colors[i],\n",
    "            )\n",
    "            plt.errorbar(\n",
    "                n_systems,\n",
    "                mean_vals,\n",
    "                yerr=ste_vals,\n",
    "                fmt=\"none\",\n",
    "                color=colors[i],\n",
    "                capsize=5,  # Add T-shaped caps to the error bars\n",
    "            )\n",
    "        else:\n",
    "            raise ValueError(f\"Invalid stat_to_plot: {stat_to_plot}\")\n",
    "    if show_legend:\n",
    "        plt.legend(**legend_kwargs)\n",
    "    if title is not None:\n",
    "        plt.title(title, fontweight=\"bold\")\n",
    "    plt.xlabel(\"Number of Systems\", fontweight=\"bold\")\n",
    "    plt.ylabel(metric_to_plot_title, fontweight=\"bold\")\n",
    "    plt.xscale(\"log\", base=2)\n",
    "    plt.tight_layout()\n",
    "    if save_path is not None:\n",
    "        os.makedirs(os.path.dirname(save_path), exist_ok=True)\n",
    "        plt.savefig(save_path, bbox_inches=\"tight\")\n",
    "    plt.show()"
   ]
  },
  {
   "cell_type": "code",
   "execution_count": null,
   "metadata": {},
   "outputs": [],
   "source": [
    "metric_to_plot = \"smape\"\n",
    "prediction_length = 512\n",
    "stat_to_plot = \"median\"\n",
    "make_scaling_plot(\n",
    "    unrolled_metrics_all_combined,\n",
    "    metric_to_plot=metric_to_plot,\n",
    "    stat_to_plot=stat_to_plot,\n",
    "    prediction_length=prediction_length,\n",
    "    colormap=\"cividis_r\",\n",
    "    show_legend=False,\n",
    "    title=rf\"$L_{{pred}}={prediction_length}$\",\n",
    "    legend_kwargs={\"loc\": \"upper right\", \"frameon\": True, \"ncol\": 1, \"fontsize\": 8},\n",
    "    save_path=f\"scalinglaw_figs/{metric_to_plot}_{prediction_length}_{stat_to_plot}.pdf\",\n",
    ")"
   ]
  },
  {
   "cell_type": "code",
   "execution_count": null,
   "metadata": {},
   "outputs": [],
   "source": [
    "metric_to_plot = \"smape\"\n",
    "prediction_length = 512\n",
    "stat_to_plot = \"mean\"\n",
    "make_scaling_plot(\n",
    "    unrolled_metrics_all_combined,\n",
    "    metric_to_plot=metric_to_plot,\n",
    "    stat_to_plot=stat_to_plot,\n",
    "    prediction_length=prediction_length,\n",
    "    colormap=\"cividis_r\",\n",
    "    show_legend=False,\n",
    "    title=rf\"$L_{{pred}}={prediction_length}$\",\n",
    "    legend_kwargs={\"loc\": \"upper right\", \"frameon\": True, \"ncol\": 1, \"fontsize\": 8},\n",
    "    save_path=f\"scalinglaw_figs/{metric_to_plot}_{prediction_length}_{stat_to_plot}.pdf\",\n",
    ")"
   ]
  },
  {
   "cell_type": "code",
   "execution_count": null,
   "metadata": {},
   "outputs": [],
   "source": [
    "def make_scaling_plot_v2(\n",
    "    unrolled_metrics: dict,\n",
    "    prediction_lengths: list[int] = [128, 256, 512],\n",
    "    metric_to_plot: str = \"smape\",\n",
    "    colormap: str = \"Blues\",\n",
    "    legend_kwargs: dict = {},\n",
    "    figsize: tuple = (4, 4),\n",
    "    save_path: str | None = None,\n",
    "    use_inv_spearman: bool = True,\n",
    "    show_legend: bool = True,\n",
    "    ylim: tuple | None = None,\n",
    ") -> None:\n",
    "    if metric_to_plot == \"smape\":\n",
    "        metric_to_plot_title = \"sMAPE\"\n",
    "    elif metric_to_plot == \"spearman\" and use_inv_spearman:\n",
    "        metric_to_plot_title = \"1 - Spearman\"\n",
    "    else:\n",
    "        metric_to_plot_title = metric_to_plot.upper()\n",
    "\n",
    "    mean_vals_dict = defaultdict(lambda: defaultdict(list))\n",
    "    std_vals_dict = defaultdict(lambda: defaultdict(list))\n",
    "    ste_vals_dict = defaultdict(lambda: defaultdict(list))\n",
    "    for ic_split, metrics_by_predlength_dict in unrolled_metrics.items():\n",
    "        n_systems = int(ic_to_n_systems[ic_split])\n",
    "        for prediction_length in prediction_lengths:\n",
    "            metric_vals = metrics_by_predlength_dict[prediction_length][metric_to_plot]\n",
    "            # get rid of nan values\n",
    "            # Handle case where metric_vals might not be a numpy array\n",
    "            if isinstance(metric_vals, (list, tuple)):\n",
    "                metric_vals = np.array(metric_vals)\n",
    "            # Filter out NaN values\n",
    "            if len(metric_vals) > 0:\n",
    "                mask = ~np.isnan(metric_vals)\n",
    "                metric_vals = metric_vals[mask]\n",
    "            if metric_to_plot == \"spearman\" and use_inv_spearman:\n",
    "                metric_vals = 1 - metric_vals\n",
    "            mean_vals_dict[prediction_length][n_systems] = np.nanmean(metric_vals)\n",
    "            std_vals_dict[prediction_length][n_systems] = np.nanstd(metric_vals)\n",
    "            ste_vals_dict[prediction_length][n_systems] = std_vals_dict[\n",
    "                prediction_length\n",
    "            ][n_systems] / np.sqrt(len(metric_vals))\n",
    "    # sort metric_at_predlength by n_systems\n",
    "    mean_vals_dict = dict(sorted(mean_vals_dict.items()))\n",
    "    std_vals_dict = dict(sorted(std_vals_dict.items()))\n",
    "    ste_vals_dict = dict(sorted(ste_vals_dict.items()))\n",
    "    # make line plot of medians of metric_at_predlength\n",
    "    colors = plt.cm.get_cmap(colormap)(np.linspace(0, 0.8, len(mean_vals_dict)))\n",
    "    plt.figure(figsize=figsize)\n",
    "    for i, (prediction_length, metrics_dict_by_n_systems) in enumerate(\n",
    "        mean_vals_dict.items()\n",
    "    ):\n",
    "        n_systems = list(metrics_dict_by_n_systems.keys())\n",
    "        mean_vals = np.array(list(metrics_dict_by_n_systems.values()))\n",
    "        ste_vals = np.array(list(ste_vals_dict[prediction_length].values()))\n",
    "        plt.plot(\n",
    "            n_systems,\n",
    "            mean_vals,\n",
    "            marker=\"o\",\n",
    "            linestyle=\"-\",\n",
    "            label=rf\"$L_{{pred}}={prediction_length}$\",\n",
    "            color=colors[i],\n",
    "            alpha=0.8,\n",
    "        )\n",
    "        plt.fill_between(\n",
    "            n_systems,\n",
    "            mean_vals - ste_vals,\n",
    "            mean_vals + ste_vals,\n",
    "            alpha=0.2,\n",
    "            color=colors[i],\n",
    "        )\n",
    "    if show_legend:\n",
    "        plt.legend(**legend_kwargs)\n",
    "    plt.xlabel(\"Number of Systems\", fontweight=\"bold\")\n",
    "    plt.ylabel(metric_to_plot_title, fontweight=\"bold\")\n",
    "    plt.xscale(\"log\", base=2)\n",
    "    if ylim is not None:\n",
    "        plt.ylim(ylim)\n",
    "    plt.tight_layout()\n",
    "    if save_path is not None:\n",
    "        os.makedirs(os.path.dirname(save_path), exist_ok=True)\n",
    "        plt.savefig(save_path, bbox_inches=\"tight\")\n",
    "    plt.show()"
   ]
  },
  {
   "cell_type": "code",
   "execution_count": null,
   "metadata": {},
   "outputs": [],
   "source": [
    "all_pred_lengths = list(unrolled_metrics_all_combined[\"ic2\"].keys())\n",
    "print(all_pred_lengths)"
   ]
  },
  {
   "cell_type": "code",
   "execution_count": null,
   "metadata": {},
   "outputs": [],
   "source": [
    "metric_to_plot = \"smape\"\n",
    "prediction_lengths = [128, 256, 512]\n",
    "stat_to_plot = \"mean\"\n",
    "make_scaling_plot_v2(\n",
    "    unrolled_metrics_all_combined,\n",
    "    metric_to_plot=metric_to_plot,\n",
    "    prediction_lengths=all_pred_lengths,\n",
    "    colormap=\"cividis\",\n",
    "    show_legend=True,\n",
    "    ylim=(18, None),\n",
    "    legend_kwargs={\"loc\": \"lower center\", \"frameon\": True, \"ncol\": 4, \"fontsize\": 5},\n",
    "    # save_path=f\"scalinglaw_figs/{metric_to_plot}_combined.pdf\",\n",
    ")"
   ]
  },
  {
   "cell_type": "code",
   "execution_count": null,
   "metadata": {},
   "outputs": [],
   "source": [
    "legend_handles = make_box_plot(\n",
    "    unrolled_metrics=unrolled_metrics_all_combined,\n",
    "    prediction_length=selected_pred_length,\n",
    "    metric_to_plot=\"smape\",  # Specify which metric to plot\n",
    "    sort_runs=True,  # Optionally sort runs by their metric values\n",
    "    colors=bar_colors,\n",
    "    title=None,\n",
    "    title_kwargs={\"fontsize\": 10},\n",
    "    ylabel_fontsize=12,\n",
    "    show_xlabel=False,\n",
    "    box_percentile_range=(40, 60),\n",
    "    whisker_percentile_range=(25, 75),\n",
    "    alpha_val=0.8,\n",
    "    show_legend=True,\n",
    "    legend_kwargs={\"loc\": \"lower right\", \"frameon\": True, \"ncol\": 1, \"framealpha\": 1.0},\n",
    "    save_path=\"scalinglaw_figs/smape_128.pdf\",\n",
    ")"
   ]
  },
  {
   "cell_type": "code",
   "execution_count": null,
   "metadata": {},
   "outputs": [],
   "source": [
    "plt.figure(figsize=(4, 0.6))\n",
    "# Add the legend\n",
    "plt.legend(\n",
    "    handles=legend_handles,\n",
    "    loc=\"center\",\n",
    "    frameon=True,\n",
    "    ncol=3,\n",
    "    framealpha=1.0,\n",
    ")\n",
    "plt.xticks([])\n",
    "plt.yticks([])\n",
    "plt.tight_layout(pad=0)\n",
    "# plt.savefig(\"ablations_figs/ablations_legend.pdf\", bbox_inches=\"tight\")\n",
    "plt.show()\n",
    "plt.close()"
   ]
  }
 ],
 "metadata": {
  "kernelspec": {
   "display_name": "dystformer",
   "language": "python",
   "name": "python3"
  },
  "language_info": {
   "codemirror_mode": {
    "name": "ipython",
    "version": 3
   },
   "file_extension": ".py",
   "mimetype": "text/x-python",
   "name": "python",
   "nbconvert_exporter": "python",
   "pygments_lexer": "ipython3",
   "version": "3.10.14"
  }
 },
 "nbformat": 4,
 "nbformat_minor": 2
}
