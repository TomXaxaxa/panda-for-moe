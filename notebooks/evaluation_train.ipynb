{
 "cells": [
  {
   "cell_type": "code",
   "execution_count": null,
   "metadata": {},
   "outputs": [],
   "source": [
    "import pandas as pd\n",
    "import matplotlib.pyplot as plt\n",
    "import numpy as np"
   ]
  },
  {
   "cell_type": "code",
   "execution_count": null,
   "metadata": {},
   "outputs": [],
   "source": [
    "NUM_ITERATIONS = np.array([0, 20000, 40000, 60000, 80000, 100000])\n",
    "result_csv_files = [\n",
    "    '../eval_results/train_base_metrics.csv',\n",
    "    '../eval_results/train_20000_metrics.csv',\n",
    "    '../eval_results/train_40000_metrics.csv',\n",
    "    '../eval_results/train_60000_metrics.csv',\n",
    "    '../eval_results/train_80000_metrics.csv',\n",
    "    '../eval_results/train_100000_metrics.csv',\n",
    "]"
   ]
  },
  {
   "cell_type": "code",
   "execution_count": null,
   "metadata": {},
   "outputs": [],
   "source": [
    "from collections import defaultdict\n",
    "\n",
    "smape_dict = defaultdict(list)\n",
    "mase_dict = defaultdict(list)\n",
    "rmse_dict = defaultdict(list)\n",
    "wql_dict = defaultdict(list)\n",
    "for file in result_csv_files:\n",
    "    print('Processing file:', file)\n",
    "    # read the CSV file\n",
    "    df = pd.read_csv(file)\n",
    "    # get the smape column\n",
    "    dyst = df['dataset']\n",
    "    for i in range(len(df)):\n",
    "        smape_dict[dyst[i]].append(df['sMAPE'][i])\n",
    "        mase_dict[dyst[i]].append(df['MASE'][i])\n",
    "        rmse_dict[dyst[i]].append(df['RMSE'][i])\n",
    "        wql_dict[dyst[i]].append(df['WQL'][i])\n"
   ]
  },
  {
   "cell_type": "code",
   "execution_count": null,
   "metadata": {},
   "outputs": [],
   "source": [
    "print(smape_dict)"
   ]
  },
  {
   "cell_type": "code",
   "execution_count": null,
   "metadata": {},
   "outputs": [],
   "source": [
    "list(smape_dict.keys())"
   ]
  },
  {
   "cell_type": "code",
   "execution_count": null,
   "metadata": {},
   "outputs": [],
   "source": [
    "def plot_metrics_dict(metrics_dict, title, top_n=None, log_scale=True):\n",
    "    fig, ax = plt.subplots(figsize=(5, 5))\n",
    "    for key in list(metrics_dict.keys())[:top_n]:\n",
    "        values = metrics_dict[key]\n",
    "        if NUM_ITERATIONS is not None:\n",
    "            ax.plot(NUM_ITERATIONS, values, '.-', alpha=0.5, label=key)\n",
    "        else:\n",
    "            ax.plot(values, '.-', alpha=0.5, label=key)\n",
    "        if log_scale:\n",
    "            ax.set_yscale('log')\n",
    "        ax.set_xlabel('Iterations')\n",
    "    ax.set_ylabel(title)\n",
    "    ax.ticklabel_format(style='sci', axis='x', scilimits=(0,0))\n",
    "    ax.set_title(title)\n",
    "    ax.legend(loc='center left', bbox_to_anchor=(1, 0.5))\n",
    "    plt.show()"
   ]
  },
  {
   "cell_type": "code",
   "execution_count": null,
   "metadata": {},
   "outputs": [],
   "source": [
    "plot_metrics_dict(smape_dict, 'sMAPE', top_n=None)"
   ]
  },
  {
   "cell_type": "code",
   "execution_count": null,
   "metadata": {},
   "outputs": [],
   "source": [
    "plot_metrics_dict(smape_dict, 'sMAPE', top_n=10)"
   ]
  },
  {
   "cell_type": "code",
   "execution_count": null,
   "metadata": {},
   "outputs": [],
   "source": [
    "plot_metrics_dict(mase_dict, 'MASE', top_n=10)"
   ]
  },
  {
   "cell_type": "code",
   "execution_count": null,
   "metadata": {},
   "outputs": [],
   "source": [
    "plot_metrics_dict(rmse_dict, 'RMSE', top_n=10)"
   ]
  },
  {
   "cell_type": "code",
   "execution_count": null,
   "metadata": {},
   "outputs": [],
   "source": [
    "plot_metrics_dict(wql_dict, 'WQL', top_n=10)"
   ]
  },
  {
   "cell_type": "code",
   "execution_count": null,
   "metadata": {},
   "outputs": [],
   "source": [
    "def plot_agg_metrics_dict(all_metrics_dict, title='Averaged Metrics', top_n=None, log_scale=True):\n",
    "    fig, ax = plt.subplots(figsize=(5, 5))\n",
    "    for metric_name, metrics_dict in all_metrics_dict.items():\n",
    "        print(\"metric: \", metric_name)\n",
    "        avg_values = np.mean(list(metrics_dict.values())[:top_n], axis=0)\n",
    "        print(avg_values.shape)\n",
    "        if NUM_ITERATIONS is not None:\n",
    "            ax.plot(NUM_ITERATIONS, avg_values, '.-', alpha=0.5, label=metric_name)\n",
    "        else:\n",
    "            ax.plot(avg_values, '.-', alpha=0.5, label='Average')\n",
    "    if log_scale:\n",
    "        ax.set_yscale('log')\n",
    "    ax.set_xlabel('Iterations')\n",
    "    ax.set_ylabel(title)\n",
    "    ax.set_title(title)\n",
    "    ax.legend(loc='center left', bbox_to_anchor=(1, 0.5))\n",
    "    plt.show()"
   ]
  },
  {
   "cell_type": "code",
   "execution_count": null,
   "metadata": {},
   "outputs": [],
   "source": [
    "all_metrics_dict = {\n",
    "    'sMAPE': smape_dict,\n",
    "    'MASE': mase_dict,\n",
    "    'RMSE': rmse_dict,\n",
    "    'WQL': wql_dict,\n",
    "}"
   ]
  },
  {
   "cell_type": "code",
   "execution_count": null,
   "metadata": {},
   "outputs": [],
   "source": [
    "plot_agg_metrics_dict(all_metrics_dict, 'Averaged Metrics', top_n=None, log_scale=True)"
   ]
  },
  {
   "cell_type": "code",
   "execution_count": null,
   "metadata": {},
   "outputs": [],
   "source": [
    "from dysts.flows import Lorenz\n",
    "\n",
    "model = Lorenz()\n",
    "model.gamma = 1\n",
    "model.ic = np.array([0.1, 0.0, 5])\n",
    "sol = model.make_trajectory(1024)"
   ]
  },
  {
   "cell_type": "code",
   "execution_count": null,
   "metadata": {},
   "outputs": [],
   "source": [
    "sol_x = sol[:, 0]"
   ]
  },
  {
   "cell_type": "code",
   "execution_count": null,
   "metadata": {},
   "outputs": [],
   "source": [
    "import torch\n",
    "from chronos_dysts.pipeline import ChronosPipeline"
   ]
  },
  {
   "cell_type": "code",
   "execution_count": null,
   "metadata": {},
   "outputs": [],
   "source": [
    "# Load model from checkpoint\n",
    "model_id = \"/stor/work/AMDG_Gilpin_Summer2024/checkpoints/checkpoint-final\"\n",
    "device = \"cpu\"\n",
    "torch_dtype = getattr(torch, \"bfloat16\")\n",
    "print(f\"Loading Chronos checkpoint: {model_id} onto device: {device}\")\n",
    "pipeline = ChronosPipeline.from_pretrained(\n",
    "    model_id,\n",
    "    device_map=device,\n",
    "    torch_dtype=torch_dtype,\n",
    ")"
   ]
  },
  {
   "cell_type": "code",
   "execution_count": null,
   "metadata": {},
   "outputs": [],
   "source": [
    "context_length = 512\n",
    "prediction_length = 64"
   ]
  },
  {
   "cell_type": "code",
   "execution_count": null,
   "metadata": {},
   "outputs": [],
   "source": [
    "# TODO: this takes a long time, how about we multiprocess it?\n",
    "# NOTE: about 2.5 min for 1 sample on CPU, seemingly scales linearly with num_samples\n",
    "forecast = pipeline.predict(\n",
    "    context=torch.tensor(sol_x[:context_length]),\n",
    "    prediction_length=prediction_length,\n",
    "    num_samples=20,\n",
    ")"
   ]
  },
  {
   "cell_type": "code",
   "execution_count": null,
   "metadata": {},
   "outputs": [],
   "source": [
    "forecast.shape"
   ]
  },
  {
   "cell_type": "code",
   "execution_count": null,
   "metadata": {},
   "outputs": [],
   "source": [
    "plt.plot(sol_x[context_length:context_length + prediction_length], label=\"True\")\n",
    "plt.plot(forecast.squeeze(), label=\"Forecast\")"
   ]
  },
  {
   "cell_type": "code",
   "execution_count": null,
   "metadata": {},
   "outputs": [],
   "source": [
    "all_forecasts = forecast.squeeze().T\n",
    "print(all_forecasts.shape)"
   ]
  },
  {
   "cell_type": "code",
   "execution_count": null,
   "metadata": {},
   "outputs": [],
   "source": [
    "plt.plot(sol_x[context_length:context_length + prediction_length], color='k', label=\"True\");\n",
    "plt.plot(all_forecasts, alpha=0.5, linewidth=1, label=\"Forecast\");"
   ]
  },
  {
   "cell_type": "code",
   "execution_count": null,
   "metadata": {},
   "outputs": [],
   "source": [
    "plt.plot(sol_x, color='k', label=\"True\");"
   ]
  },
  {
   "cell_type": "code",
   "execution_count": null,
   "metadata": {},
   "outputs": [],
   "source": []
  }
 ],
 "metadata": {
  "kernelspec": {
   "display_name": "chronos-dysts",
   "language": "python",
   "name": "python3"
  },
  "language_info": {
   "codemirror_mode": {
    "name": "ipython",
    "version": 3
   },
   "file_extension": ".py",
   "mimetype": "text/x-python",
   "name": "python",
   "nbconvert_exporter": "python",
   "pygments_lexer": "ipython3",
   "version": "3.10.14"
  }
 },
 "nbformat": 4,
 "nbformat_minor": 2
}
