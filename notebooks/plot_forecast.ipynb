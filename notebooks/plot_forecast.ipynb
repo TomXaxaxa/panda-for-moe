{
 "cells": [
  {
   "cell_type": "code",
   "execution_count": null,
   "metadata": {},
   "outputs": [],
   "source": [
    "%load_ext autoreload\n",
    "%autoreload 2"
   ]
  },
  {
   "cell_type": "code",
   "execution_count": null,
   "metadata": {},
   "outputs": [],
   "source": [
    "from pathlib import Path\n",
    "\n",
    "import numpy as np\n",
    "import torch\n",
    "from gluonts.dataset.common import FileDataset\n",
    "\n",
    "from dystformer.augmentations import StandardizeTransform\n",
    "from dystformer.patchtst.pipeline import PatchTSTPipeline\n",
    "from dystformer.utils import plot_forecast_evaluation, plot_trajs_multivariate"
   ]
  },
  {
   "cell_type": "code",
   "execution_count": null,
   "metadata": {},
   "outputs": [],
   "source": [
    "pipeline = PatchTSTPipeline.from_pretrained(\n",
    "    mode=\"predict\",\n",
    "    pretrain_path=\"/stor/work/AMDG_Gilpin_Summer2024/checkpoints/pft_chattn_noembed_pretrained_correct-0/checkpoint-final\",\n",
    "    device_map=\"cuda:0\",\n",
    "    torch_dtype=torch.float32,\n",
    ")\n",
    "pipeline"
   ]
  },
  {
   "cell_type": "markdown",
   "metadata": {},
   "source": [
    "## Forecasting"
   ]
  },
  {
   "cell_type": "code",
   "execution_count": null,
   "metadata": {},
   "outputs": [],
   "source": [
    "def forecast(\n",
    "    pipeline,\n",
    "    trajectory: np.ndarray,\n",
    "    context_length: int,\n",
    "    normalize: bool = True,\n",
    "    transpose: bool = False,\n",
    "    prediction_length: int | None = None,\n",
    "    **kwargs,\n",
    ") -> np.ndarray:\n",
    "    context = trajectory[:context_length]\n",
    "    if normalize:\n",
    "        normalizer = StandardizeTransform()\n",
    "        context = normalizer(context, axis=0)\n",
    "\n",
    "    if prediction_length is None:\n",
    "        prediction_length = trajectory.shape[0] - context_length\n",
    "\n",
    "    if transpose:\n",
    "        context = context.T\n",
    "\n",
    "    predictions = (\n",
    "        pipeline.predict(\n",
    "            context=torch.tensor(context).float(),\n",
    "            prediction_length=prediction_length,\n",
    "            limit_prediction_length=False,\n",
    "            **kwargs,\n",
    "        )\n",
    "        .squeeze()\n",
    "        .cpu()\n",
    "        .numpy()\n",
    "    )\n",
    "    full_trajectory = np.concatenate([context, predictions], axis=1 if transpose else 0)\n",
    "\n",
    "    if transpose:\n",
    "        full_trajectory = full_trajectory.T\n",
    "\n",
    "    if normalize:\n",
    "        return normalizer(\n",
    "            full_trajectory,\n",
    "            axis=0,\n",
    "            context=trajectory[:context_length],\n",
    "            denormalize=True,\n",
    "        )\n",
    "\n",
    "    return full_trajectory"
   ]
  },
  {
   "cell_type": "code",
   "execution_count": null,
   "metadata": {},
   "outputs": [],
   "source": [
    "dyst_name = \"YuWang2_Coullet\"\n",
    "data_dir = [\n",
    "    f\"/stor/work/AMDG_Gilpin_Summer2024/data/copy/final_skew40/test_zeroshot/{dyst_name}\"\n",
    "]"
   ]
  },
  {
   "cell_type": "code",
   "execution_count": null,
   "metadata": {},
   "outputs": [],
   "source": [
    "data_paths = []\n",
    "for data_dir in data_dir:\n",
    "    data_paths.extend(filter(lambda file: file.is_file(), Path(data_dir).rglob(\"*\")))\n",
    "print(data_paths)"
   ]
  },
  {
   "cell_type": "code",
   "execution_count": null,
   "metadata": {},
   "outputs": [],
   "source": [
    "len(data_paths)"
   ]
  },
  {
   "cell_type": "code",
   "execution_count": null,
   "metadata": {},
   "outputs": [],
   "source": [
    "system_idx = 0\n",
    "dataset = FileDataset(\n",
    "    path=data_paths[system_idx],\n",
    "    freq=\"h\",\n",
    "    one_dim_target=False,\n",
    ")\n",
    "trajectory = next(iter(dataset))[\"target\"]"
   ]
  },
  {
   "cell_type": "code",
   "execution_count": null,
   "metadata": {},
   "outputs": [],
   "source": [
    "trajectory.shape"
   ]
  },
  {
   "cell_type": "code",
   "execution_count": null,
   "metadata": {},
   "outputs": [],
   "source": [
    "plot_trajs_multivariate(np.expand_dims(trajectory, axis=0), show_plot=True)"
   ]
  },
  {
   "cell_type": "code",
   "execution_count": null,
   "metadata": {},
   "outputs": [],
   "source": [
    "context_length = 512\n",
    "prediction_length = 128\n",
    "\n",
    "start_time = 1024\n",
    "end_time = start_time + context_length"
   ]
  },
  {
   "cell_type": "code",
   "execution_count": null,
   "metadata": {},
   "outputs": [],
   "source": [
    "traj = trajectory.T"
   ]
  },
  {
   "cell_type": "code",
   "execution_count": null,
   "metadata": {},
   "outputs": [],
   "source": [
    "preds = forecast(\n",
    "    pipeline,\n",
    "    traj[start_time:end_time],\n",
    "    context_length,\n",
    "    prediction_length=prediction_length,\n",
    "    normalize=True,\n",
    "    sliding_context=True,\n",
    ")"
   ]
  },
  {
   "cell_type": "code",
   "execution_count": null,
   "metadata": {},
   "outputs": [],
   "source": [
    "preds.shape"
   ]
  },
  {
   "cell_type": "code",
   "execution_count": null,
   "metadata": {},
   "outputs": [],
   "source": [
    "predictions = preds.T"
   ]
  },
  {
   "cell_type": "code",
   "execution_count": null,
   "metadata": {},
   "outputs": [],
   "source": [
    "plot_trajs_multivariate(np.expand_dims(predictions, axis=0), show_plot=True)"
   ]
  },
  {
   "cell_type": "code",
   "execution_count": null,
   "metadata": {},
   "outputs": [],
   "source": [
    "traj.shape"
   ]
  },
  {
   "cell_type": "code",
   "execution_count": null,
   "metadata": {},
   "outputs": [],
   "source": [
    "plot_forecast_evaluation(\n",
    "    np.expand_dims(predictions, axis=0),\n",
    "    np.expand_dims(trajectory[:, start_time : end_time + prediction_length], axis=0),\n",
    "    context_length,\n",
    "    show_plot=True,\n",
    "    plot_name=dyst_name,\n",
    ")"
   ]
  },
  {
   "cell_type": "code",
   "execution_count": null,
   "metadata": {},
   "outputs": [],
   "source": []
  }
 ],
 "metadata": {
  "kernelspec": {
   "display_name": "dystformer",
   "language": "python",
   "name": "python3"
  },
  "language_info": {
   "codemirror_mode": {
    "name": "ipython",
    "version": 3
   },
   "file_extension": ".py",
   "mimetype": "text/x-python",
   "name": "python",
   "nbconvert_exporter": "python",
   "pygments_lexer": "ipython3",
   "version": "3.10.14"
  }
 },
 "nbformat": 4,
 "nbformat_minor": 2
}
