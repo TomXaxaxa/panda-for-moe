{
 "cells": [
  {
   "cell_type": "code",
   "execution_count": null,
   "metadata": {},
   "outputs": [],
   "source": [
    "import os\n",
    "\n",
    "import matplotlib.pyplot as plt\n",
    "import numpy as np\n",
    "import torch\n",
    "\n",
    "from dystformer.patchtst.pipeline import PatchTSTPipeline\n",
    "from dystformer.utils import safe_standardize"
   ]
  },
  {
   "cell_type": "code",
   "execution_count": null,
   "metadata": {},
   "outputs": [],
   "source": [
    "pft_model = PatchTSTPipeline.from_pretrained(\n",
    "    mode=\"predict\",\n",
    "    pretrain_path=\"/stor/work/AMDG_Gilpin_Summer2024/checkpoints/pft_chattn_emb_w_poly-0/checkpoint-final\",\n",
    "    device_map=\"cuda:1\",\n",
    ")"
   ]
  },
  {
   "cell_type": "code",
   "execution_count": null,
   "metadata": {},
   "outputs": [],
   "source": [
    "def plot_model_prediction(\n",
    "    model,\n",
    "    data: np.ndarray,\n",
    "    context_length: int,\n",
    "    prediction_length: int,\n",
    "    title: str | None = None,\n",
    "    show: bool = True,\n",
    "    **kwargs,\n",
    "):\n",
    "    context = data[:, :context_length]\n",
    "    groundtruth = data[:, context_length : context_length + prediction_length]\n",
    "    context_tensor = torch.from_numpy(context.T).float()\n",
    "    pred = (\n",
    "        model.predict(context_tensor, prediction_length, **kwargs)\n",
    "        .squeeze()\n",
    "        .cpu()\n",
    "        .numpy()\n",
    "    )\n",
    "    if not show:\n",
    "        return pred\n",
    "    total_length = context.shape[1] + prediction_length\n",
    "    context_ts = np.arange(context.shape[1]) / total_length\n",
    "    pred_ts = np.arange(context.shape[1], total_length) / total_length\n",
    "\n",
    "    # Create figure with gridspec layout\n",
    "    fig = plt.figure(figsize=(15, 4))\n",
    "\n",
    "    # Create main grid with padding for colorbar\n",
    "    outer_grid = fig.add_gridspec(1, 2, width_ratios=[0.5, 0.5], wspace=0.05)\n",
    "\n",
    "    # Create sub-grid for the plots\n",
    "    gs = outer_grid[1].subgridspec(3, 1, height_ratios=[1 / 3] * 3, wspace=0, hspace=0)\n",
    "    ax_3d = fig.add_subplot(outer_grid[0], projection=\"3d\")\n",
    "    ax_3d.plot(*context[:3], alpha=0.5, color=\"black\", label=\"Context\")\n",
    "    ax_3d.plot(*groundtruth[:3], linestyle=\"--\", color=\"black\", label=\"Groundtruth\")\n",
    "    ax_3d.plot(*pred.T[:3], color=\"red\", label=\"Prediction\")\n",
    "    ax_3d.legend(loc=\"upper right\", fontsize=12)\n",
    "    ax_3d.set_xlabel(\"$x_1$\")\n",
    "    ax_3d.set_ylabel(\"$x_2$\")\n",
    "    ax_3d.set_zlabel(\"$x_3$\")\n",
    "    if title is not None:\n",
    "        ax_3d.set_title(title)\n",
    "\n",
    "    axes_1d = [fig.add_subplot(gs[i, 0]) for i in range(3)]\n",
    "    for i, ax in enumerate(axes_1d):\n",
    "        ax.plot(context_ts, context[i], alpha=0.5, color=\"black\")\n",
    "        ax.plot(pred_ts, groundtruth[i], linestyle=\"--\", color=\"black\")\n",
    "        ax.plot(pred_ts, pred[:, i], color=\"red\")\n",
    "        ax.set_ylabel(f\"$x_{i + 1}$\")\n",
    "        ax.set_aspect(\"auto\")\n",
    "    axes_1d[-1].set_xlabel(\"Time\")\n",
    "\n",
    "    plt.show()\n"
   ]
  },
  {
   "cell_type": "markdown",
   "metadata": {},
   "source": [
    "# Double Pendulum"
   ]
  },
  {
   "cell_type": "code",
   "execution_count": null,
   "metadata": {},
   "outputs": [],
   "source": [
    "SPLIT = \"train\"\n",
    "INDEX = 0\n",
    "WORK = os.environ.get(\"WORK\", \"\")\n",
    "base_dir = f\"{WORK}/physics-datasets\"\n",
    "fpath = f\"{base_dir}/double_pendulum_chaotic/train_and_test_split/dpc_dataset_traintest_4_200_csv/{SPLIT}/{INDEX}.csv\"\n",
    "pendulum_data = np.loadtxt(fpath)\n",
    "print(pendulum_data.shape)"
   ]
  },
  {
   "cell_type": "code",
   "execution_count": null,
   "metadata": {},
   "outputs": [],
   "source": [
    "## The position of the pivot point (mostly constant)\n",
    "plt.plot(pendulum_data[:, 1], -pendulum_data[:, 0])\n",
    "\n",
    "## The position of the tip of the first pendulum\n",
    "plt.plot(pendulum_data[:, 3], -pendulum_data[:, 2])\n",
    "\n",
    "## The position of the tip of the second pendulum\n",
    "plt.plot(pendulum_data[:, 5], -pendulum_data[:, 4])"
   ]
  },
  {
   "cell_type": "code",
   "execution_count": null,
   "metadata": {},
   "outputs": [],
   "source": [
    "standpred = plot_model_prediction(\n",
    "    pft_model, safe_standardize(pendulum_data, axis=0).T, 512, 128, show=False\n",
    ")\n",
    "pred = safe_standardize(standpred, axis=0, context=pendulum_data, denormalize=True)\n",
    "\n",
    "## The position of the pivot point (mostly constant)\n",
    "plt.plot(pendulum_data[:512, 1], -pendulum_data[:512, 0], color=\"black\")\n",
    "plt.plot(pred[:, 1], -pred[:, 0], color=\"black\")\n",
    "\n",
    "## The position of the tip of the first pendulum\n",
    "plt.plot(pendulum_data[:512, 3], -pendulum_data[:512, 2], alpha=0.5, color=\"black\")\n",
    "plt.plot(\n",
    "    pendulum_data[512 : 512 + 128, 3], -pendulum_data[512 : 512 + 128, 2], color=\"black\"\n",
    ")\n",
    "plt.plot(pred[:, 3], -pred[:, 2], color=\"red\")\n",
    "\n",
    "## The position of the tip of the second pendulum\n",
    "plt.plot(pendulum_data[:512, 5], -pendulum_data[:512, 4], alpha=0.5, color=\"black\")\n",
    "plt.plot(\n",
    "    pendulum_data[512 : 512 + 128, 5],\n",
    "    -pendulum_data[512 : 512 + 128, 4],\n",
    "    linestyle=\"--\",\n",
    "    color=\"black\",\n",
    ")\n",
    "plt.plot(pred[:, 5], -pred[:, 4], color=\"red\")\n",
    "# Create legend with custom handles\n",
    "from matplotlib.lines import Line2D\n",
    "\n",
    "legend_elements = [\n",
    "    Line2D([0], [0], color=\"black\", alpha=0.5, label=\"Context\"),\n",
    "    Line2D([0], [0], color=\"black\", linestyle=\"--\", label=\"Ground Truth\"),\n",
    "    Line2D([0], [0], color=\"red\", label=\"Prediction\"),\n",
    "]\n",
    "plt.legend(handles=legend_elements)\n",
    "\n",
    "plt.title(\"Double Pendulum\")"
   ]
  },
  {
   "cell_type": "markdown",
   "metadata": {},
   "source": [
    "# Eigenworms"
   ]
  },
  {
   "cell_type": "code",
   "execution_count": null,
   "metadata": {},
   "outputs": [],
   "source": [
    "INDEX = 0\n",
    "fpath = f\"{base_dir}/worm_behavior/data/worm_{INDEX}.pkl\"\n",
    "worm_data = np.load(fpath, allow_pickle=True)\n",
    "print(worm_data.shape)"
   ]
  },
  {
   "cell_type": "code",
   "execution_count": null,
   "metadata": {},
   "outputs": [],
   "source": [
    "ax = plt.axes(projection=\"3d\")\n",
    "ax.plot3D(worm_data[:1000, 0], worm_data[:1000, 1], worm_data[:1000, 2])"
   ]
  },
  {
   "cell_type": "code",
   "execution_count": null,
   "metadata": {},
   "outputs": [],
   "source": [
    "stand_worm_data = safe_standardize(worm_data, axis=0)\n",
    "plot_model_prediction(pft_model, stand_worm_data.T, 512, 128, title=\"Eigenworm\")"
   ]
  },
  {
   "cell_type": "markdown",
   "metadata": {},
   "source": [
    "# Turbulent Boundary Layer"
   ]
  },
  {
   "cell_type": "code",
   "execution_count": null,
   "metadata": {},
   "outputs": [],
   "source": [
    "turbpca_data = np.load(\n",
    "    f\"{base_dir}/turbulence/BLexp_Re980_pca10.pkl\", allow_pickle=True\n",
    ")\n",
    "print(turbpca_data.shape)"
   ]
  },
  {
   "cell_type": "code",
   "execution_count": null,
   "metadata": {},
   "outputs": [],
   "source": [
    "ax = plt.axes(projection=\"3d\")\n",
    "ax.plot3D(turbpca_data[:, 0], turbpca_data[:, 1], turbpca_data[:, 2])"
   ]
  },
  {
   "cell_type": "code",
   "execution_count": null,
   "metadata": {},
   "outputs": [],
   "source": [
    "stand_turbpca_data = safe_standardize(turbpca_data, axis=0)\n",
    "plot_model_prediction(\n",
    "    pft_model,\n",
    "    stand_turbpca_data.T,\n",
    "    512,\n",
    "    128,\n",
    "    title=\"Turbulent Boundary Layer PCA modes\",\n",
    ")"
   ]
  },
  {
   "cell_type": "markdown",
   "metadata": {},
   "source": [
    "# Von Karman Street"
   ]
  },
  {
   "cell_type": "code",
   "execution_count": null,
   "metadata": {},
   "outputs": [],
   "source": [
    "# Von Karman Street\n",
    "RE_VAL = 1200\n",
    "fpath = f\"{base_dir}/von_karman_street/vortex_street_vorticities_Re_{RE_VAL}_pca10.pkl\"\n",
    "vortex_data = np.load(fpath, allow_pickle=True)\n",
    "print(vortex_data.shape)"
   ]
  },
  {
   "cell_type": "code",
   "execution_count": null,
   "metadata": {},
   "outputs": [],
   "source": [
    "ax = plt.axes(projection=\"3d\")\n",
    "ax.plot3D(vortex_data[:, 0], vortex_data[:, 1], vortex_data[:, 2], linewidth=0.5)"
   ]
  },
  {
   "cell_type": "code",
   "execution_count": null,
   "metadata": {},
   "outputs": [],
   "source": [
    "stand_vortex_data = safe_standardize(vortex_data, axis=0)\n",
    "plot_model_prediction(\n",
    "    pft_model, stand_vortex_data.T, 512, 128, title=\"Von Karman Vortex Sheet PCA modes\"\n",
    ")"
   ]
  },
  {
   "cell_type": "markdown",
   "metadata": {},
   "source": [
    "# ECG"
   ]
  },
  {
   "cell_type": "code",
   "execution_count": null,
   "metadata": {},
   "outputs": [],
   "source": [
    "fpath = f\"{base_dir}/electrocardiogram/ecg_train.csv.gz\"\n",
    "ecg_data = np.loadtxt(fpath, delimiter=\",\")\n",
    "print(ecg_data.shape)"
   ]
  },
  {
   "cell_type": "code",
   "execution_count": null,
   "metadata": {},
   "outputs": [],
   "source": [
    "ax = plt.axes(projection=\"3d\")\n",
    "ax.plot3D(ecg_data[:1000], ecg_data[1:1001], ecg_data[2:1002])"
   ]
  },
  {
   "cell_type": "code",
   "execution_count": null,
   "metadata": {},
   "outputs": [],
   "source": [
    "stand_ecg_data = safe_standardize(ecg_data, axis=0)\n",
    "standpred = plot_model_prediction(\n",
    "    pft_model, stand_ecg_data[None, :], 512, 128, show=False\n",
    ")\n",
    "pred = safe_standardize(standpred, axis=0, context=ecg_data, denormalize=True)\n",
    "\n",
    "context_ts = np.arange(512) / (512 + 128)\n",
    "pred_ts = np.arange(512, 512 + 128) / (512 + 128)\n",
    "\n",
    "plt.title(\"ECG\")\n",
    "plt.plot(context_ts, ecg_data[:512], color=\"black\", alpha=0.5, label=\"context\")\n",
    "plt.plot(\n",
    "    pred_ts,\n",
    "    ecg_data[512 : 512 + 128],\n",
    "    color=\"black\",\n",
    "    linestyle=\"--\",\n",
    "    label=\"groundtruth\",\n",
    ")\n",
    "plt.plot(pred_ts, pred, color=\"red\", label=\"prediction\")\n",
    "plt.legend()\n",
    "plt.show()\n"
   ]
  },
  {
   "cell_type": "code",
   "execution_count": null,
   "metadata": {},
   "outputs": [],
   "source": []
  }
 ],
 "metadata": {
  "kernelspec": {
   "display_name": "dystformer_jeff",
   "language": "python",
   "name": "python3"
  },
  "language_info": {
   "codemirror_mode": {
    "name": "ipython",
    "version": 3
   },
   "file_extension": ".py",
   "mimetype": "text/x-python",
   "name": "python",
   "nbconvert_exporter": "python",
   "pygments_lexer": "ipython3",
   "version": "3.11.9"
  }
 },
 "nbformat": 4,
 "nbformat_minor": 2
}
